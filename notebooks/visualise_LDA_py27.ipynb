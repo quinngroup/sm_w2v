{
 "cells": [
  {
   "cell_type": "code",
   "execution_count": 1,
   "metadata": {
    "collapsed": false
   },
   "outputs": [
    {
     "name": "stdout",
     "output_type": "stream",
     "text": [
      "This trial license of GraphLab Create assigned to pbreen@uga.edu has expired. Please contact trial@turi.com for licensing options or to request a free non-commercial license for academic use.\n",
      "This trial license of GraphLab Create assigned to pbreen@uga.edu has expired. Please contact trial@turi.com for licensing options or to request a free non-commercial license for academic use.\n",
      "This trial license of GraphLab Create assigned to pbreen@uga.edu has expired. Please contact trial@turi.com for licensing options or to request a free non-commercial license for academic use.\n",
      "This trial license of GraphLab Create assigned to pbreen@uga.edu has expired. Please contact trial@turi.com for licensing options or to request a free non-commercial license for academic use.\n",
      "This trial license of GraphLab Create assigned to pbreen@uga.edu has expired. Please contact trial@turi.com for licensing options or to request a free non-commercial license for academic use.\n",
      "This trial license of GraphLab Create assigned to pbreen@uga.edu has expired. Please contact trial@turi.com for licensing options or to request a free non-commercial license for academic use.\n",
      "This trial license of GraphLab Create assigned to pbreen@uga.edu has expired. Please contact trial@turi.com for licensing options or to request a free non-commercial license for academic use.\n",
      "This trial license of GraphLab Create assigned to pbreen@uga.edu has expired. Please contact trial@turi.com for licensing options or to request a free non-commercial license for academic use.\n",
      "This trial license of GraphLab Create assigned to pbreen@uga.edu has expired. Please contact trial@turi.com for licensing options or to request a free non-commercial license for academic use.\n",
      "This trial license of GraphLab Create assigned to pbreen@uga.edu has expired. Please contact trial@turi.com for licensing options or to request a free non-commercial license for academic use.\n",
      "This trial license of GraphLab Create assigned to pbreen@uga.edu has expired. Please contact trial@turi.com for licensing options or to request a free non-commercial license for academic use.\n",
      "This trial license of GraphLab Create assigned to pbreen@uga.edu has expired. Please contact trial@turi.com for licensing options or to request a free non-commercial license for academic use.\n",
      "This trial license of GraphLab Create assigned to pbreen@uga.edu has expired. Please contact trial@turi.com for licensing options or to request a free non-commercial license for academic use.\n",
      "This trial license of GraphLab Create assigned to pbreen@uga.edu has expired. Please contact trial@turi.com for licensing options or to request a free non-commercial license for academic use.\n",
      "This trial license of GraphLab Create assigned to pbreen@uga.edu has expired. Please contact trial@turi.com for licensing options or to request a free non-commercial license for academic use.\n",
      "This trial license of GraphLab Create assigned to pbreen@uga.edu has expired. Please contact trial@turi.com for licensing options or to request a free non-commercial license for academic use.\n",
      "This trial license of GraphLab Create assigned to pbreen@uga.edu has expired. Please contact trial@turi.com for licensing options or to request a free non-commercial license for academic use.\n",
      "This trial license of GraphLab Create assigned to pbreen@uga.edu has expired. Please contact trial@turi.com for licensing options or to request a free non-commercial license for academic use.\n",
      "This trial license of GraphLab Create assigned to pbreen@uga.edu has expired. Please contact trial@turi.com for licensing options or to request a free non-commercial license for academic use.\n",
      "This trial license of GraphLab Create assigned to pbreen@uga.edu has expired. Please contact trial@turi.com for licensing options or to request a free non-commercial license for academic use.\n",
      "This trial license of GraphLab Create assigned to pbreen@uga.edu has expired. Please contact trial@turi.com for licensing options or to request a free non-commercial license for academic use.\n",
      "This trial license of GraphLab Create assigned to pbreen@uga.edu has expired. Please contact trial@turi.com for licensing options or to request a free non-commercial license for academic use.\n",
      "This trial license of GraphLab Create assigned to pbreen@uga.edu has expired. Please contact trial@turi.com for licensing options or to request a free non-commercial license for academic use.\n",
      "This trial license of GraphLab Create assigned to pbreen@uga.edu has expired. Please contact trial@turi.com for licensing options or to request a free non-commercial license for academic use.\n",
      "This trial license of GraphLab Create assigned to pbreen@uga.edu has expired. Please contact trial@turi.com for licensing options or to request a free non-commercial license for academic use.\n",
      "This trial license of GraphLab Create assigned to pbreen@uga.edu has expired. Please contact trial@turi.com for licensing options or to request a free non-commercial license for academic use.\n",
      "This trial license of GraphLab Create assigned to pbreen@uga.edu has expired. Please contact trial@turi.com for licensing options or to request a free non-commercial license for academic use.\n",
      "This trial license of GraphLab Create assigned to pbreen@uga.edu has expired. Please contact trial@turi.com for licensing options or to request a free non-commercial license for academic use.\n",
      "This trial license of GraphLab Create assigned to pbreen@uga.edu has expired. Please contact trial@turi.com for licensing options or to request a free non-commercial license for academic use.\n",
      "This trial license of GraphLab Create assigned to pbreen@uga.edu has expired. Please contact trial@turi.com for licensing options or to request a free non-commercial license for academic use.\n",
      "This trial license of GraphLab Create assigned to pbreen@uga.edu has expired. Please contact trial@turi.com for licensing options or to request a free non-commercial license for academic use.\n",
      "This trial license of GraphLab Create assigned to pbreen@uga.edu has expired. Please contact trial@turi.com for licensing options or to request a free non-commercial license for academic use.\n",
      "This trial license of GraphLab Create assigned to pbreen@uga.edu has expired. Please contact trial@turi.com for licensing options or to request a free non-commercial license for academic use.\n",
      "This trial license of GraphLab Create assigned to pbreen@uga.edu has expired. Please contact trial@turi.com for licensing options or to request a free non-commercial license for academic use.\n",
      "This trial license of GraphLab Create assigned to pbreen@uga.edu has expired. Please contact trial@turi.com for licensing options or to request a free non-commercial license for academic use.\n",
      "This trial license of GraphLab Create assigned to pbreen@uga.edu has expired. Please contact trial@turi.com for licensing options or to request a free non-commercial license for academic use.\n",
      "This trial license of GraphLab Create assigned to pbreen@uga.edu has expired. Please contact trial@turi.com for licensing options or to request a free non-commercial license for academic use.\n",
      "This trial license of GraphLab Create assigned to pbreen@uga.edu has expired. Please contact trial@turi.com for licensing options or to request a free non-commercial license for academic use.\n",
      "This trial license of GraphLab Create assigned to pbreen@uga.edu has expired. Please contact trial@turi.com for licensing options or to request a free non-commercial license for academic use.\n",
      "This trial license of GraphLab Create assigned to pbreen@uga.edu has expired. Please contact trial@turi.com for licensing options or to request a free non-commercial license for academic use.\n",
      "This trial license of GraphLab Create assigned to pbreen@uga.edu has expired. Please contact trial@turi.com for licensing options or to request a free non-commercial license for academic use.\n",
      "This trial license of GraphLab Create assigned to pbreen@uga.edu has expired. Please contact trial@turi.com for licensing options or to request a free non-commercial license for academic use.\n",
      "This trial license of GraphLab Create assigned to pbreen@uga.edu has expired. Please contact trial@turi.com for licensing options or to request a free non-commercial license for academic use.\n",
      "This trial license of GraphLab Create assigned to pbreen@uga.edu has expired. Please contact trial@turi.com for licensing options or to request a free non-commercial license for academic use.\n",
      "This trial license of GraphLab Create assigned to pbreen@uga.edu has expired. Please contact trial@turi.com for licensing options or to request a free non-commercial license for academic use.\n",
      "This trial license of GraphLab Create assigned to pbreen@uga.edu has expired. Please contact trial@turi.com for licensing options or to request a free non-commercial license for academic use.\n",
      "This trial license of GraphLab Create assigned to pbreen@uga.edu has expired. Please contact trial@turi.com for licensing options or to request a free non-commercial license for academic use.\n",
      "This trial license of GraphLab Create assigned to pbreen@uga.edu has expired. Please contact trial@turi.com for licensing options or to request a free non-commercial license for academic use.\n",
      "This trial license of GraphLab Create assigned to pbreen@uga.edu has expired. Please contact trial@turi.com for licensing options or to request a free non-commercial license for academic use.\n",
      "This trial license of GraphLab Create assigned to pbreen@uga.edu has expired. Please contact trial@turi.com for licensing options or to request a free non-commercial license for academic use.\n",
      "This trial license of GraphLab Create assigned to pbreen@uga.edu has expired. Please contact trial@turi.com for licensing options or to request a free non-commercial license for academic use.\n",
      "This trial license of GraphLab Create assigned to pbreen@uga.edu has expired. Please contact trial@turi.com for licensing options or to request a free non-commercial license for academic use.\n",
      "This trial license of GraphLab Create assigned to pbreen@uga.edu has expired. Please contact trial@turi.com for licensing options or to request a free non-commercial license for academic use.\n",
      "This trial license of GraphLab Create assigned to pbreen@uga.edu has expired. Please contact trial@turi.com for licensing options or to request a free non-commercial license for academic use.\n",
      "This trial license of GraphLab Create assigned to pbreen@uga.edu has expired. Please contact trial@turi.com for licensing options or to request a free non-commercial license for academic use.\n",
      "This trial license of GraphLab Create assigned to pbreen@uga.edu has expired. Please contact trial@turi.com for licensing options or to request a free non-commercial license for academic use.\n",
      "This trial license of GraphLab Create assigned to pbreen@uga.edu has expired. Please contact trial@turi.com for licensing options or to request a free non-commercial license for academic use.\n",
      "This trial license of GraphLab Create assigned to pbreen@uga.edu has expired. Please contact trial@turi.com for licensing options or to request a free non-commercial license for academic use.\n",
      "This trial license of GraphLab Create assigned to pbreen@uga.edu has expired. Please contact trial@turi.com for licensing options or to request a free non-commercial license for academic use.\n",
      "This trial license of GraphLab Create assigned to pbreen@uga.edu has expired. Please contact trial@turi.com for licensing options or to request a free non-commercial license for academic use.\n",
      "This trial license of GraphLab Create assigned to pbreen@uga.edu has expired. Please contact trial@turi.com for licensing options or to request a free non-commercial license for academic use.\n",
      "This trial license of GraphLab Create assigned to pbreen@uga.edu has expired. Please contact trial@turi.com for licensing options or to request a free non-commercial license for academic use.\n",
      "This trial license of GraphLab Create assigned to pbreen@uga.edu has expired. Please contact trial@turi.com for licensing options or to request a free non-commercial license for academic use.\n",
      "This trial license of GraphLab Create assigned to pbreen@uga.edu has expired. Please contact trial@turi.com for licensing options or to request a free non-commercial license for academic use.\n",
      "This trial license of GraphLab Create assigned to pbreen@uga.edu has expired. Please contact trial@turi.com for licensing options or to request a free non-commercial license for academic use.\n",
      "This trial license of GraphLab Create assigned to pbreen@uga.edu has expired. Please contact trial@turi.com for licensing options or to request a free non-commercial license for academic use.\n",
      "This trial license of GraphLab Create assigned to pbreen@uga.edu has expired. Please contact trial@turi.com for licensing options or to request a free non-commercial license for academic use.\n",
      "This trial license of GraphLab Create assigned to pbreen@uga.edu has expired. Please contact trial@turi.com for licensing options or to request a free non-commercial license for academic use.\n",
      "This trial license of GraphLab Create assigned to pbreen@uga.edu has expired. Please contact trial@turi.com for licensing options or to request a free non-commercial license for academic use.\n",
      "This trial license of GraphLab Create assigned to pbreen@uga.edu has expired. Please contact trial@turi.com for licensing options or to request a free non-commercial license for academic use.\n",
      "This trial license of GraphLab Create assigned to pbreen@uga.edu has expired. Please contact trial@turi.com for licensing options or to request a free non-commercial license for academic use.\n",
      "This trial license of GraphLab Create assigned to pbreen@uga.edu has expired. Please contact trial@turi.com for licensing options or to request a free non-commercial license for academic use.\n",
      "This trial license of GraphLab Create assigned to pbreen@uga.edu has expired. Please contact trial@turi.com for licensing options or to request a free non-commercial license for academic use.\n",
      "This trial license of GraphLab Create assigned to pbreen@uga.edu has expired. Please contact trial@turi.com for licensing options or to request a free non-commercial license for academic use.\n",
      "This trial license of GraphLab Create assigned to pbreen@uga.edu has expired. Please contact trial@turi.com for licensing options or to request a free non-commercial license for academic use.\n",
      "This trial license of GraphLab Create assigned to pbreen@uga.edu has expired. Please contact trial@turi.com for licensing options or to request a free non-commercial license for academic use.\n",
      "This trial license of GraphLab Create assigned to pbreen@uga.edu has expired. Please contact trial@turi.com for licensing options or to request a free non-commercial license for academic use.\n",
      "This trial license of GraphLab Create assigned to pbreen@uga.edu has expired. Please contact trial@turi.com for licensing options or to request a free non-commercial license for academic use.\n",
      "This trial license of GraphLab Create assigned to pbreen@uga.edu has expired. Please contact trial@turi.com for licensing options or to request a free non-commercial license for academic use.\n",
      "This trial license of GraphLab Create assigned to pbreen@uga.edu has expired. Please contact trial@turi.com for licensing options or to request a free non-commercial license for academic use.\n",
      "This trial license of GraphLab Create assigned to pbreen@uga.edu has expired. Please contact trial@turi.com for licensing options or to request a free non-commercial license for academic use.\n",
      "This trial license of GraphLab Create assigned to pbreen@uga.edu has expired. Please contact trial@turi.com for licensing options or to request a free non-commercial license for academic use.\n",
      "This trial license of GraphLab Create assigned to pbreen@uga.edu has expired. Please contact trial@turi.com for licensing options or to request a free non-commercial license for academic use.\n",
      "This trial license of GraphLab Create assigned to pbreen@uga.edu has expired. Please contact trial@turi.com for licensing options or to request a free non-commercial license for academic use.\n",
      "This trial license of GraphLab Create assigned to pbreen@uga.edu has expired. Please contact trial@turi.com for licensing options or to request a free non-commercial license for academic use.\n"
     ]
    }
   ],
   "source": [
    "from __future__ import division\n",
    "\n",
    "import graphlab as gl\n",
    "import pandas as pd\n",
    "import pyLDAvis\n",
    "import pyLDAvis.graphlab\n",
    "\n",
    "pyLDAvis.enable_notebook()"
   ]
  },
  {
   "cell_type": "markdown",
   "metadata": {},
   "source": [
    "# Preprocess"
   ]
  },
  {
   "cell_type": "code",
   "execution_count": 2,
   "metadata": {
    "collapsed": false
   },
   "outputs": [
    {
     "ename": "IOError",
     "evalue": "[Errno 2] No such file or directory: '../data/user_timeline_tweets.json'",
     "output_type": "error",
     "traceback": [
      "\u001b[0;31m---------------------------------------------------------------------------\u001b[0m",
      "\u001b[0;31mIOError\u001b[0m                                   Traceback (most recent call last)",
      "\u001b[0;32m<ipython-input-2-70084652ed96>\u001b[0m in \u001b[0;36m<module>\u001b[0;34m()\u001b[0m\n\u001b[1;32m      5\u001b[0m \u001b[0;34m\u001b[0m\u001b[0m\n\u001b[1;32m      6\u001b[0m \u001b[0muser_timelines\u001b[0m \u001b[0;34m=\u001b[0m \u001b[0mdict\u001b[0m\u001b[0;34m(\u001b[0m\u001b[0;34m)\u001b[0m\u001b[0;34m\u001b[0m\u001b[0m\n\u001b[0;32m----> 7\u001b[0;31m \u001b[0;32mwith\u001b[0m \u001b[0mopen\u001b[0m\u001b[0;34m(\u001b[0m\u001b[0;34m'../data/user_timeline_tweets.json'\u001b[0m\u001b[0;34m)\u001b[0m \u001b[0;32mas\u001b[0m \u001b[0mf_in\u001b[0m\u001b[0;34m:\u001b[0m\u001b[0;34m\u001b[0m\u001b[0m\n\u001b[0m\u001b[1;32m      8\u001b[0m     \u001b[0;32mfor\u001b[0m \u001b[0ml\u001b[0m \u001b[0;32min\u001b[0m \u001b[0mf_in\u001b[0m\u001b[0;34m:\u001b[0m\u001b[0;34m\u001b[0m\u001b[0m\n\u001b[1;32m      9\u001b[0m         \u001b[0;32mtry\u001b[0m\u001b[0;34m:\u001b[0m\u001b[0;34m\u001b[0m\u001b[0m\n",
      "\u001b[0;31mIOError\u001b[0m: [Errno 2] No such file or directory: '../data/user_timeline_tweets.json'"
     ]
    }
   ],
   "source": [
    "# load and concatenate tweet timeline-documents\n",
    "import json\n",
    "\n",
    "train = False\n",
    "\n",
    "user_timelines = dict()\n",
    "with open('../data/user_timeline_tweets.json') as f_in:\n",
    "    for l in f_in:\n",
    "        try:\n",
    "            twt = json.loads(l)\n",
    "        except:\n",
    "            continue\n",
    "        user_id_str = twt['user']['id_str']\n",
    "        if user_id_str in user_timelines:\n",
    "            user_timelines[user_id_str] = user_timelines[user_id_str] + ' ' + twt['text']\n",
    "        else:\n",
    "            user_timelines[user_id_str] = twt['text']"
   ]
  },
  {
   "cell_type": "code",
   "execution_count": null,
   "metadata": {
    "collapsed": false
   },
   "outputs": [],
   "source": [
    "from gensim.parsing.preprocessing import STOPWORDS\n",
    "from nltk.corpus import stopwords\n",
    "import re\n",
    "\n",
    "\n",
    "STOPWORDS = set(['rt', '', 'httpst', 'amp', 'https\\'', 'ang',\n",
    "                'ng', 'tcot', 'ako', 'sa', 'ko', 'rp', 'roc',\n",
    "                'fe', 'sk', 'holi', 'asa', 'guru', 'yah', 'lista',\n",
    "                 'hah' 'il', 'seo', 'casa', 'qotd', 'noh']).union(set(STOPWORDS)) \\\n",
    "    .union(set(stopwords.words('spanish'))) \\\n",
    "    .union(set(stopwords.words('portuguese'))) \\\n",
    "    .union(set(stopwords.words('german'))) \\\n",
    "    .union(set(stopwords.words('dutch')))\n",
    "\n",
    "def clean_text(text):\n",
    "    clean = re.sub(r'http.*$', '', text)\n",
    "    clean = re.sub(r'[^a-zA-Z\\s]', '', clean)\n",
    "\n",
    "    clean = clean.lower()\n",
    "    word_list = clean.split()\n",
    "    word_list = [w for w in word_list if (w not in STOPWORDS)]\n",
    "\n",
    "    return word_list\n",
    "\n",
    "user_clean_timelines = dict()\n",
    "for user_id_str in user_timelines.keys():\n",
    "    user_clean_timelines[user_id_str] = clean_text(user_timelines[user_id_str])"
   ]
  },
  {
   "cell_type": "markdown",
   "metadata": {},
   "source": [
    "# Training"
   ]
  },
  {
   "cell_type": "code",
   "execution_count": null,
   "metadata": {
    "collapsed": false
   },
   "outputs": [],
   "source": [
    "from gensim.models.ldamodel import LdaModel\n",
    "from gensim.models import TfidfModel\n",
    "from gensim import corpora\n",
    "\n",
    "\n",
    "user_timelines_keys = []\n",
    "texts = []\n",
    "for k, v in user_clean_timelines.items():\n",
    "    user_timelines_keys.append(k)\n",
    "    texts.append(v)\n",
    "\n",
    "# filter out users with less than 200 words in the tweets in their timelines\n",
    "long_timelines = [t for t in texts if len(t) > 200]\n",
    "dictionary = corpora.Dictionary(long_timelines)\n",
    "dictionary.filter_extremes(no_below=10, no_above=0.3, keep_n=100000)\n",
    "corpus = [dictionary.doc2bow(text) for text in long_timelines]\n",
    "# tfidf = TfidfModel(corpus)\n",
    "# corpus = tfidf[corpus]\n",
    "corpus = corpus[0:500]\n",
    "print('number of user-timelines:', len(corpus))\n",
    "\n"
   ]
  },
  {
   "cell_type": "code",
   "execution_count": null,
   "metadata": {
    "collapsed": false
   },
   "outputs": [],
   "source": []
  },
  {
   "cell_type": "code",
   "execution_count": null,
   "metadata": {
    "collapsed": false
   },
   "outputs": [],
   "source": [
    "bows = list()\n",
    "for doc in corpus:\n",
    "    bow = dict()\n",
    "    for word in doc:\n",
    "        bow[dictionary[word[0]]] = word[1]\n",
    "    bows.append(bow)\n"
   ]
  },
  {
   "cell_type": "code",
   "execution_count": null,
   "metadata": {
    "collapsed": false
   },
   "outputs": [],
   "source": [
    "bows = gl.SArray(bows)\n",
    "\n",
    "if train:\n",
    "    topic_model = gl.topic_model.create(bows, num_topics=100, num_iterations=200)\n",
    "    topic_model.save('../models/LDA_user_timelines')\n",
    "\n",
    "else:\n",
    "    topic_model = graphlab.load_model('../models/LDA_user_timelines')"
   ]
  },
  {
   "cell_type": "markdown",
   "metadata": {},
   "source": [
    "# Visualization"
   ]
  },
  {
   "cell_type": "code",
   "execution_count": null,
   "metadata": {
    "collapsed": false
   },
   "outputs": [],
   "source": [
    "pyLDAvis.graphlab.prepare(topic_model, bows)"
   ]
  },
  {
   "cell_type": "code",
   "execution_count": null,
   "metadata": {
    "collapsed": true
   },
   "outputs": [],
   "source": []
  },
  {
   "cell_type": "code",
   "execution_count": null,
   "metadata": {
    "collapsed": true
   },
   "outputs": [],
   "source": []
  },
  {
   "cell_type": "code",
   "execution_count": null,
   "metadata": {
    "collapsed": true
   },
   "outputs": [],
   "source": []
  }
 ],
 "metadata": {
  "kernelspec": {
   "display_name": "Python 2",
   "language": "python",
   "name": "python2"
  },
  "language_info": {
   "codemirror_mode": {
    "name": "ipython",
    "version": 2
   },
   "file_extension": ".py",
   "mimetype": "text/x-python",
   "name": "python",
   "nbconvert_exporter": "python",
   "pygments_lexer": "ipython2",
   "version": "2.7.11+"
  }
 },
 "nbformat": 4,
 "nbformat_minor": 0
}
