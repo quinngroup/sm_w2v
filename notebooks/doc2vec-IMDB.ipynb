{
 "cells": [
  {
   "cell_type": "markdown",
   "metadata": {},
   "source": [
    "# Doc2Vec (Figures 3, 4 and Tables 3, 4)\n",
    "\n",
    "adapted (partially) from https://github.com/piskvorky/gensim/blob/develop/docs/notebooks/doc2vec-IMDB.ipynb"
   ]
  },
  {
   "cell_type": "code",
   "execution_count": 1,
   "metadata": {
    "collapsed": false
   },
   "outputs": [],
   "source": [
    "import json\n",
    "import re\n",
    "from collections import namedtuple\n",
    "\n",
    "import gensim\n",
    "\n",
    "Document = namedtuple('Document', 'words tags')\n",
    "\n",
    "alldocs = []  # will hold all docs in original order\n",
    "with open('../data/c_twitter.json') as f_in:\n",
    "    for i, line in enumerate(f_in):\n",
    "        c_twt = json.loads(line)\n",
    "        # c_twt: {'weeknum': str, 'c_text': str, 'tags': [str]}\n",
    "        words = c_twt['c_text'].split()\n",
    "        tags = [i] + c_twt['tags']\n",
    "        alldocs.append(Document(words, tags))\n",
    "        \n",
    "shuffle_docs = alldocs[:]\n"
   ]
  },
  {
   "cell_type": "code",
   "execution_count": 2,
   "metadata": {
    "collapsed": false
   },
   "outputs": [
    {
     "name": "stdout",
     "output_type": "stream",
     "text": [
      "Doc2Vec(dm/m,d100,n5,w10,mc2,t6)\n"
     ]
    }
   ],
   "source": [
    "import multiprocessing\n",
    "\n",
    "from gensim.models import Doc2Vec\n",
    "import gensim.models.doc2vec\n",
    "\n",
    "\n",
    "cores = multiprocessing.cpu_count()\n",
    "assert gensim.models.doc2vec.FAST_VERSION > -1, \"this will be painfully slow otherwise\"\n",
    "\n",
    "# PV-DM w/average\n",
    "model= Doc2Vec(dm=1, dm_mean=1, size=100, window=10, negative=5, hs=0, min_count=2, workers=cores,\n",
    "           max_vocab_size=10000, seed=1)\n",
    "\n",
    "\n",
    "# currently running out of memory\n",
    "model.build_vocab(alldocs)\n",
    "print(model)\n"
   ]
  },
  {
   "cell_type": "markdown",
   "metadata": {},
   "source": [
    "# Performance of Doc2Vec training could be a figure??"
   ]
  },
  {
   "cell_type": "code",
   "execution_count": 3,
   "metadata": {
    "collapsed": false
   },
   "outputs": [
    {
     "name": "stdout",
     "output_type": "stream",
     "text": [
      "0 [('hivaids', 0.9269832372665405), ('chlamydia', 0.7341997027397156), ('hiv-positive', 0.718751847743988), ('hiv-', 0.6594427227973938), ('lymedisease', 0.6554089784622192), ('gonorrhea', 0.6451725959777832), ('malaria', 0.6446251273155212), ('aidshiv', 0.6313222050666809), ('syphilis', 0.6240503787994385), ('dengue', 0.6150895357131958)]\n",
      "--- score:  10440.2962235\n",
      "ELAPSED TIME (seconds):  480.0964570045471\n",
      "1 [('hivaids', 0.9461992383003235), ('hiv-positive', 0.7643320560455322), ('chlamydia', 0.7606968879699707), ('aidshiv', 0.7016288638114929), ('hiv-', 0.6937544345855713), ('malaria', 0.6899576783180237), ('dengue', 0.6810131669044495), ('lymedisease', 0.658905029296875), ('gonorrhea', 0.6587939262390137), ('rabies', 0.6378685235977173)]\n",
      "--- score:  12501.5201024\n",
      "ELAPSED TIME (seconds):  955.8942174911499\n",
      "2 [('hivaids', 0.9528703093528748), ('hiv-positive', 0.8068634271621704), ('aidshiv', 0.7836630940437317), ('chlamydia', 0.7714528441429138), ('dengue', 0.7214716076850891), ('hiv-', 0.7088866829872131), ('malaria', 0.707298219203949), ('hiv-aids', 0.6910921335220337), ('pertussis', 0.6782258749008179), ('lymedisease', 0.6705648303031921)]\n",
      "--- score:  15018.6621502\n",
      "ELAPSED TIME (seconds):  1413.283297777176\n",
      "3 [('hivaids', 0.9618293642997742), ('hiv-positive', 0.837433934211731), ('aidshiv', 0.8290897607803345), ('chlamydia', 0.793746292591095), ('hiv-', 0.7600528001785278), ('hiv-aids', 0.7552044987678528), ('dengue', 0.7477819323539734), ('pertussis', 0.7385363578796387), ('malaria', 0.7342250347137451), (\"hiv'\", 0.7146196961402893)]\n",
      "--- score:  17655.1283417\n",
      "ELAPSED TIME (seconds):  1870.1351368427277\n",
      "4 [('hivaids', 0.9662275314331055), ('aidshiv', 0.8709625601768494), ('hiv-positive', 0.8663878440856934), ('chlamydia', 0.8096688985824585), ('hiv-aids', 0.8090694546699524), ('hiv-', 0.7852415442466736), ('pertussis', 0.7783454060554504), ('dengue', 0.7752189040184021), (\"hiv'\", 0.7717066407203674), ('malaria', 0.7571122050285339)]\n",
      "--- score:  20364.7898424\n",
      "ELAPSED TIME (seconds):  2325.592892408371\n",
      "5 [('hivaids', 0.9666692614555359), ('aidshiv', 0.8958812355995178), ('hiv-positive', 0.880346953868866), ('hiv-aids', 0.8357900977134705), ('chlamydia', 0.8313930630683899), (\"hiv'\", 0.8115478754043579), ('dengue', 0.7996965050697327), ('pertussis', 0.7987450361251831), ('hiv-', 0.7985091209411621), ('malaria', 0.7823964953422546)]\n",
      "--- score:  22412.6689877\n",
      "ELAPSED TIME (seconds):  2795.6865503787994\n",
      "6 [('hivaids', 0.9676014184951782), ('aidshiv', 0.9058382511138916), ('hiv-positive', 0.8904341459274292), ('hiv-aids', 0.8435330390930176), ('chlamydia', 0.8416114449501038), (\"hiv'\", 0.8386263847351074), ('pertussis', 0.8266302943229675), ('dengue', 0.8153303265571594), ('hiv-', 0.8116624355316162), ('giardia', 0.8035029768943787)]\n",
      "--- score:  25267.0817052\n",
      "ELAPSED TIME (seconds):  3258.0185492038727\n",
      "7 [('hivaids', 0.9649744629859924), ('aidshiv', 0.9103320240974426), ('hiv-positive', 0.8926824927330017), ('hiv-aids', 0.8587180972099304), (\"hiv'\", 0.8582895994186401), ('chlamydia', 0.8502586483955383), ('pertussis', 0.8372883200645447), ('dengue', 0.8217430114746094), ('giardia', 0.8206020593643188), ('shiga', 0.8133286833763123)]\n",
      "--- score:  27421.0752834\n",
      "ELAPSED TIME (seconds):  3711.325744152069\n",
      "8 [('hivaids', 0.9620192050933838), ('aidshiv', 0.9149065017700195), ('hiv-positive', 0.892968475818634), ('hiv-aids', 0.8686431050300598), (\"hiv'\", 0.8606598377227783), ('chlamydia', 0.858917236328125), ('pertussis', 0.8521197438240051), ('giardia', 0.8364364504814148), ('dengue', 0.832639217376709), ('hiv-', 0.810452401638031)]\n",
      "--- score:  29671.1737456\n",
      "ELAPSED TIME (seconds):  4170.57075548172\n",
      "9 [('hivaids', 0.9585944414138794), ('aidshiv', 0.9242727160453796), ('hiv-positive', 0.8936111927032471), ('hiv-aids', 0.8718773126602173), (\"hiv'\", 0.8651017546653748), ('pertussis', 0.8628678917884827), ('chlamydia', 0.8583230376243591), ('giardia', 0.8440053462982178), ('dengue', 0.8371749520301819), ('shiga', 0.8135243654251099)]\n",
      "--- score:  31304.0130388\n",
      "ELAPSED TIME (seconds):  4630.250657558441\n"
     ]
    }
   ],
   "source": [
    "from random import shuffle\n",
    "import random\n",
    "import time\n",
    "import numpy as np\n",
    "\n",
    "random.seed(1)\n",
    "np.random.seed(1)\n",
    "\n",
    "passes = 10\n",
    "start_time = time.time()\n",
    "\n",
    "for epoch in range(passes):\n",
    "    shuffle(shuffle_docs)\n",
    "    model.train(shuffle_docs)\n",
    "    print(epoch, model.most_similar('hiv', topn=10))\n",
    "    \n",
    "    # do some validation after each epoch\n",
    "    doc_ids = random.sample(range(len(alldocs)), 1000)\n",
    "    score = 0\n",
    "    for doc_id in doc_ids:\n",
    "        inferred_docvec = model.infer_vector(alldocs[doc_id].words)\n",
    "        score += sum(abs(model.docvecs[doc_id] - inferred_docvec))\n",
    "    print(\"--- score: \", score)\n",
    "    print(\"ELAPSED TIME (seconds): \", time.time() - start_time)"
   ]
  },
  {
   "cell_type": "code",
   "execution_count": 4,
   "metadata": {
    "collapsed": true
   },
   "outputs": [],
   "source": [
    "# do visualization/clustering of users\n",
    "# do visualization/clustering of hashtags\n",
    "# do visualization/clustering of documents"
   ]
  },
  {
   "cell_type": "markdown",
   "metadata": {},
   "source": [
    "# Table 4: Related Word-Vectors"
   ]
  },
  {
   "cell_type": "code",
   "execution_count": 5,
   "metadata": {
    "collapsed": false
   },
   "outputs": [
    {
     "data": {
      "text/html": [
       "<div>\n",
       "<table border=\"1\" class=\"dataframe\">\n",
       "  <thead>\n",
       "    <tr style=\"text-align: right;\">\n",
       "      <th></th>\n",
       "      <th>Related-Word</th>\n",
       "      <th>Cosine Similarity to \"hivaids\"</th>\n",
       "    </tr>\n",
       "  </thead>\n",
       "  <tbody>\n",
       "    <tr>\n",
       "      <th>0</th>\n",
       "      <td>hiv</td>\n",
       "      <td>0.958594</td>\n",
       "    </tr>\n",
       "    <tr>\n",
       "      <th>1</th>\n",
       "      <td>aidshiv</td>\n",
       "      <td>0.932111</td>\n",
       "    </tr>\n",
       "    <tr>\n",
       "      <th>2</th>\n",
       "      <td>hiv-aids</td>\n",
       "      <td>0.895672</td>\n",
       "    </tr>\n",
       "    <tr>\n",
       "      <th>3</th>\n",
       "      <td>hiv-positive</td>\n",
       "      <td>0.878810</td>\n",
       "    </tr>\n",
       "    <tr>\n",
       "      <th>4</th>\n",
       "      <td>chlamydia</td>\n",
       "      <td>0.867703</td>\n",
       "    </tr>\n",
       "    <tr>\n",
       "      <th>5</th>\n",
       "      <td>giardia</td>\n",
       "      <td>0.864260</td>\n",
       "    </tr>\n",
       "    <tr>\n",
       "      <th>6</th>\n",
       "      <td>pertussis</td>\n",
       "      <td>0.853045</td>\n",
       "    </tr>\n",
       "    <tr>\n",
       "      <th>7</th>\n",
       "      <td>dengue</td>\n",
       "      <td>0.851709</td>\n",
       "    </tr>\n",
       "    <tr>\n",
       "      <th>8</th>\n",
       "      <td>hiv'</td>\n",
       "      <td>0.847900</td>\n",
       "    </tr>\n",
       "    <tr>\n",
       "      <th>9</th>\n",
       "      <td>malaria</td>\n",
       "      <td>0.844412</td>\n",
       "    </tr>\n",
       "  </tbody>\n",
       "</table>\n",
       "</div>"
      ],
      "text/plain": [
       "   Related-Word  Cosine Similarity to \"hivaids\"\n",
       "0           hiv                        0.958594\n",
       "1       aidshiv                        0.932111\n",
       "2      hiv-aids                        0.895672\n",
       "3  hiv-positive                        0.878810\n",
       "4     chlamydia                        0.867703\n",
       "5       giardia                        0.864260\n",
       "6     pertussis                        0.853045\n",
       "7        dengue                        0.851709\n",
       "8          hiv'                        0.847900\n",
       "9       malaria                        0.844412"
      ]
     },
     "execution_count": 5,
     "metadata": {},
     "output_type": "execute_result"
    }
   ],
   "source": [
    "import pandas as pd\n",
    "new_vecs = model.most_similar(['hivaids'], topn=10)\n",
    "df_hivaids = pd.DataFrame(data=new_vecs, columns=['Related-Word', 'Cosine Similarity to \\\"hivaids\\\"'])\n",
    "df_hivaids"
   ]
  },
  {
   "cell_type": "code",
   "execution_count": 6,
   "metadata": {
    "collapsed": false
   },
   "outputs": [
    {
     "data": {
      "text/html": [
       "<div>\n",
       "<table border=\"1\" class=\"dataframe\">\n",
       "  <thead>\n",
       "    <tr style=\"text-align: right;\">\n",
       "      <th></th>\n",
       "      <th>Related Word</th>\n",
       "      <th>Cosine Similarity to \"prep\"</th>\n",
       "    </tr>\n",
       "  </thead>\n",
       "  <tbody>\n",
       "    <tr>\n",
       "      <th>0</th>\n",
       "      <td>shiga</td>\n",
       "      <td>0.870405</td>\n",
       "    </tr>\n",
       "    <tr>\n",
       "      <th>1</th>\n",
       "      <td>malaria</td>\n",
       "      <td>0.847116</td>\n",
       "    </tr>\n",
       "    <tr>\n",
       "      <th>2</th>\n",
       "      <td>giardia</td>\n",
       "      <td>0.812757</td>\n",
       "    </tr>\n",
       "    <tr>\n",
       "      <th>3</th>\n",
       "      <td>chlamydia</td>\n",
       "      <td>0.809993</td>\n",
       "    </tr>\n",
       "    <tr>\n",
       "      <th>4</th>\n",
       "      <td>legionnaires</td>\n",
       "      <td>0.804418</td>\n",
       "    </tr>\n",
       "    <tr>\n",
       "      <th>5</th>\n",
       "      <td>meningitis</td>\n",
       "      <td>0.802282</td>\n",
       "    </tr>\n",
       "    <tr>\n",
       "      <th>6</th>\n",
       "      <td>lyme</td>\n",
       "      <td>0.801972</td>\n",
       "    </tr>\n",
       "    <tr>\n",
       "      <th>7</th>\n",
       "      <td>mumps</td>\n",
       "      <td>0.784868</td>\n",
       "    </tr>\n",
       "    <tr>\n",
       "      <th>8</th>\n",
       "      <td>syphilis</td>\n",
       "      <td>0.783558</td>\n",
       "    </tr>\n",
       "    <tr>\n",
       "      <th>9</th>\n",
       "      <td>rabies</td>\n",
       "      <td>0.772343</td>\n",
       "    </tr>\n",
       "  </tbody>\n",
       "</table>\n",
       "</div>"
      ],
      "text/plain": [
       "   Related Word  Cosine Similarity to \"prep\"\n",
       "0         shiga                     0.870405\n",
       "1       malaria                     0.847116\n",
       "2       giardia                     0.812757\n",
       "3     chlamydia                     0.809993\n",
       "4  legionnaires                     0.804418\n",
       "5    meningitis                     0.802282\n",
       "6          lyme                     0.801972\n",
       "7         mumps                     0.784868\n",
       "8      syphilis                     0.783558\n",
       "9        rabies                     0.772343"
      ]
     },
     "execution_count": 6,
     "metadata": {},
     "output_type": "execute_result"
    }
   ],
   "source": [
    "new_vecs = model.most_similar(['prep'], topn=10)\n",
    "df_prep = pd.DataFrame(data=new_vecs, columns=['Related Word', 'Cosine Similarity to \\\"prep\\\"'])\n",
    "df_prep"
   ]
  },
  {
   "cell_type": "code",
   "execution_count": 7,
   "metadata": {
    "collapsed": false
   },
   "outputs": [
    {
     "data": {
      "text/html": [
       "<div>\n",
       "<table border=\"1\" class=\"dataframe\">\n",
       "  <thead>\n",
       "    <tr style=\"text-align: right;\">\n",
       "      <th></th>\n",
       "      <th>Related Word</th>\n",
       "      <th>Cosine Similarity to \"prophylaxis\"</th>\n",
       "    </tr>\n",
       "  </thead>\n",
       "  <tbody>\n",
       "    <tr>\n",
       "      <th>0</th>\n",
       "      <td>cannabis</td>\n",
       "      <td>0.507306</td>\n",
       "    </tr>\n",
       "    <tr>\n",
       "      <th>1</th>\n",
       "      <td>approved</td>\n",
       "      <td>0.497378</td>\n",
       "    </tr>\n",
       "    <tr>\n",
       "      <th>2</th>\n",
       "      <td>breastfeeding</td>\n",
       "      <td>0.494168</td>\n",
       "    </tr>\n",
       "    <tr>\n",
       "      <th>3</th>\n",
       "      <td>transmission</td>\n",
       "      <td>0.485931</td>\n",
       "    </tr>\n",
       "    <tr>\n",
       "      <th>4</th>\n",
       "      <td>equal</td>\n",
       "      <td>0.481361</td>\n",
       "    </tr>\n",
       "    <tr>\n",
       "      <th>5</th>\n",
       "      <td>bisexual</td>\n",
       "      <td>0.472363</td>\n",
       "    </tr>\n",
       "    <tr>\n",
       "      <th>6</th>\n",
       "      <td>undetectable</td>\n",
       "      <td>0.471999</td>\n",
       "    </tr>\n",
       "    <tr>\n",
       "      <th>7</th>\n",
       "      <td>integrated</td>\n",
       "      <td>0.467222</td>\n",
       "    </tr>\n",
       "    <tr>\n",
       "      <th>8</th>\n",
       "      <td>long-term</td>\n",
       "      <td>0.466649</td>\n",
       "    </tr>\n",
       "    <tr>\n",
       "      <th>9</th>\n",
       "      <td>prevalence</td>\n",
       "      <td>0.462871</td>\n",
       "    </tr>\n",
       "  </tbody>\n",
       "</table>\n",
       "</div>"
      ],
      "text/plain": [
       "    Related Word  Cosine Similarity to \"prophylaxis\"\n",
       "0       cannabis                            0.507306\n",
       "1       approved                            0.497378\n",
       "2  breastfeeding                            0.494168\n",
       "3   transmission                            0.485931\n",
       "4          equal                            0.481361\n",
       "5       bisexual                            0.472363\n",
       "6   undetectable                            0.471999\n",
       "7     integrated                            0.467222\n",
       "8      long-term                            0.466649\n",
       "9     prevalence                            0.462871"
      ]
     },
     "execution_count": 7,
     "metadata": {},
     "output_type": "execute_result"
    }
   ],
   "source": [
    "new_vecs = model.most_similar(['prophylaxis'], topn=10)\n",
    "df_prophylaxis = pd.DataFrame(data=new_vecs, columns=['Related Word', 'Cosine Similarity to \\\"prophylaxis\\\"'])\n",
    "df_prophylaxis"
   ]
  },
  {
   "cell_type": "code",
   "execution_count": 8,
   "metadata": {
    "collapsed": false
   },
   "outputs": [
    {
     "data": {
      "text/html": [
       "<div>\n",
       "<table border=\"1\" class=\"dataframe\">\n",
       "  <thead>\n",
       "    <tr style=\"text-align: right;\">\n",
       "      <th></th>\n",
       "      <th>Related Word</th>\n",
       "      <th>Cosine Similarity to \"truvada\"</th>\n",
       "    </tr>\n",
       "  </thead>\n",
       "  <tbody>\n",
       "    <tr>\n",
       "      <th>0</th>\n",
       "      <td>hcv</td>\n",
       "      <td>0.700769</td>\n",
       "    </tr>\n",
       "    <tr>\n",
       "      <th>1</th>\n",
       "      <td>charliesheen</td>\n",
       "      <td>0.695903</td>\n",
       "    </tr>\n",
       "    <tr>\n",
       "      <th>2</th>\n",
       "      <td>malaria</td>\n",
       "      <td>0.679063</td>\n",
       "    </tr>\n",
       "    <tr>\n",
       "      <th>3</th>\n",
       "      <td>zika</td>\n",
       "      <td>0.668699</td>\n",
       "    </tr>\n",
       "    <tr>\n",
       "      <th>4</th>\n",
       "      <td>hepc</td>\n",
       "      <td>0.664521</td>\n",
       "    </tr>\n",
       "    <tr>\n",
       "      <th>5</th>\n",
       "      <td>martinshkreli</td>\n",
       "      <td>0.663084</td>\n",
       "    </tr>\n",
       "    <tr>\n",
       "      <th>6</th>\n",
       "      <td>coldflu</td>\n",
       "      <td>0.656823</td>\n",
       "    </tr>\n",
       "    <tr>\n",
       "      <th>7</th>\n",
       "      <td>lymedisease</td>\n",
       "      <td>0.654922</td>\n",
       "    </tr>\n",
       "    <tr>\n",
       "      <th>8</th>\n",
       "      <td>rhobh</td>\n",
       "      <td>0.651982</td>\n",
       "    </tr>\n",
       "    <tr>\n",
       "      <th>9</th>\n",
       "      <td>flushot</td>\n",
       "      <td>0.647609</td>\n",
       "    </tr>\n",
       "  </tbody>\n",
       "</table>\n",
       "</div>"
      ],
      "text/plain": [
       "    Related Word  Cosine Similarity to \"truvada\"\n",
       "0            hcv                        0.700769\n",
       "1   charliesheen                        0.695903\n",
       "2        malaria                        0.679063\n",
       "3           zika                        0.668699\n",
       "4           hepc                        0.664521\n",
       "5  martinshkreli                        0.663084\n",
       "6        coldflu                        0.656823\n",
       "7    lymedisease                        0.654922\n",
       "8          rhobh                        0.651982\n",
       "9        flushot                        0.647609"
      ]
     },
     "execution_count": 8,
     "metadata": {},
     "output_type": "execute_result"
    }
   ],
   "source": [
    "new_vecs = model.most_similar(['truvada'], topn=10)\n",
    "df_truvada = pd.DataFrame(data=new_vecs, columns=['Related Word', 'Cosine Similarity to \\\"truvada\\\"'])\n",
    "df_truvada"
   ]
  },
  {
   "cell_type": "markdown",
   "metadata": {},
   "source": [
    "# Figure 3: PCA and tSNE plots of relevent word vectors"
   ]
  },
  {
   "cell_type": "code",
   "execution_count": 9,
   "metadata": {
    "collapsed": false
   },
   "outputs": [
    {
     "name": "stdout",
     "output_type": "stream",
     "text": [
      "PCA explained variance ratio:  [ 0.07594191  0.05806724]\n"
     ]
    }
   ],
   "source": [
    "import sys\n",
    "\n",
    "from sklearn.decomposition import PCA\n",
    "from sklearn.manifold import TSNE\n",
    "from sklearn.cluster import KMeans\n",
    "\n",
    "# append path to my module\n",
    "if '/high_spd_work/sm_w2v' not in sys.path:\n",
    "    sys.path.append('/high_spd_work/sm_w2v')\n",
    "from sm_w2v.plot_utils import scatter_plot\n",
    "\n",
    "# related words from above\n",
    "related_words = list(df_hivaids.iloc[:,0].values) + \\\n",
    "                list(df_prep.iloc[:,0].values) + \\\n",
    "                list(df_prophylaxis.iloc[:,0].values) + \\\n",
    "                list(df_truvada.iloc[:,0].values)\n",
    "\n",
    "# Prepare data matrix\n",
    "X = []\n",
    "text_annotations = []\n",
    "for word in model.vocab:\n",
    "    X.append(model[word])\n",
    "    if word in related_words:\n",
    "        text_annotations.append(word)\n",
    "    else:\n",
    "        text_annotations.append(\"\")\n",
    "X = np.array(X)\n",
    "\n",
    "# Do k-means on original data matrix\n",
    "kmeans = KMeans(n_clusters=3, random_state=1)\n",
    "kmeans_labels = kmeans.fit_predict(X)\n",
    "\n",
    "# Do PCA\n",
    "pca = PCA(n_components=2, copy=True)\n",
    "pca.fit(X)\n",
    "print(\"PCA explained variance ratio: \", pca.explained_variance_ratio_)\n",
    "pca_comps = pca.transform(X)\n",
    "\n",
    "# Do tSNE\n",
    "tsne = TSNE(n_components=2)\n",
    "tsne_comps = tsne.fit_transform(X)\n",
    "\n",
    "# Scatter plot\n",
    "rand_seed = 0\n",
    "alpha_high = 1.0\n",
    "alpha_low = 0.05\n",
    "down_samp_rate = 0.1\n",
    "plot_lims = None\n",
    "\n",
    "# save PCA plot in 'notebooks' directory\n",
    "scatter_plot(pca_comps[:,0], pca_comps[:,1], alpha_high, alpha_low,\n",
    "            kmeans_labels, text_annotations,\n",
    "            down_samp_rate, \"Fig3a: PCA of Related Words.pdf\", rand_seed, plot_lims)\n",
    "\n",
    "# save tSNE plot in 'notebooks' directory\n",
    "scatter_plot(tsne_comps[:,0], tsne_comps[:,1], alpha_high, alpha_low,\n",
    "            kmeans_labels, text_annotations,\n",
    "            down_samp_rate, \"Fig3b: tSNE of Related Words.pdf\", rand_seed, plot_lims)"
   ]
  },
  {
   "cell_type": "markdown",
   "metadata": {},
   "source": [
    "# Table 4: Related Hashtags and Tweets\n",
    "\n",
    "Hashtags begin with \"#\", users begin with \"user--\" and tweets are just a number - that refers to the corresponding index in the \"alldocs\" variable, or the \"../data/c_twitter.json\" cleaned tweets file"
   ]
  },
  {
   "cell_type": "code",
   "execution_count": 10,
   "metadata": {
    "collapsed": false,
    "scrolled": true
   },
   "outputs": [
    {
     "data": {
      "text/html": [
       "<div>\n",
       "<table border=\"1\" class=\"dataframe\">\n",
       "  <thead>\n",
       "    <tr style=\"text-align: right;\">\n",
       "      <th></th>\n",
       "      <th>Related Hashtag/User/Tweet</th>\n",
       "      <th>Cosine Similarity to \"#truvada\"</th>\n",
       "    </tr>\n",
       "  </thead>\n",
       "  <tbody>\n",
       "    <tr>\n",
       "      <th>0</th>\n",
       "      <td>#letsgist</td>\n",
       "      <td>0.732927</td>\n",
       "    </tr>\n",
       "    <tr>\n",
       "      <th>1</th>\n",
       "      <td>#hiv</td>\n",
       "      <td>0.721267</td>\n",
       "    </tr>\n",
       "    <tr>\n",
       "      <th>2</th>\n",
       "      <td>#prep</td>\n",
       "      <td>0.699828</td>\n",
       "    </tr>\n",
       "    <tr>\n",
       "      <th>3</th>\n",
       "      <td>#メル友</td>\n",
       "      <td>0.692808</td>\n",
       "    </tr>\n",
       "    <tr>\n",
       "      <th>4</th>\n",
       "      <td>#セフレ</td>\n",
       "      <td>0.692701</td>\n",
       "    </tr>\n",
       "    <tr>\n",
       "      <th>5</th>\n",
       "      <td>254943</td>\n",
       "      <td>0.689925</td>\n",
       "    </tr>\n",
       "    <tr>\n",
       "      <th>6</th>\n",
       "      <td>#sexwork</td>\n",
       "      <td>0.689036</td>\n",
       "    </tr>\n",
       "    <tr>\n",
       "      <th>7</th>\n",
       "      <td>487561</td>\n",
       "      <td>0.677703</td>\n",
       "    </tr>\n",
       "    <tr>\n",
       "      <th>8</th>\n",
       "      <td>603653</td>\n",
       "      <td>0.664129</td>\n",
       "    </tr>\n",
       "    <tr>\n",
       "      <th>9</th>\n",
       "      <td>#egaylity</td>\n",
       "      <td>0.661812</td>\n",
       "    </tr>\n",
       "  </tbody>\n",
       "</table>\n",
       "</div>"
      ],
      "text/plain": [
       "  Related Hashtag/User/Tweet  Cosine Similarity to \"#truvada\"\n",
       "0                  #letsgist                         0.732927\n",
       "1                       #hiv                         0.721267\n",
       "2                      #prep                         0.699828\n",
       "3                       #メル友                         0.692808\n",
       "4                       #セフレ                         0.692701\n",
       "5                     254943                         0.689925\n",
       "6                   #sexwork                         0.689036\n",
       "7                     487561                         0.677703\n",
       "8                     603653                         0.664129\n",
       "9                  #egaylity                         0.661812"
      ]
     },
     "execution_count": 10,
     "metadata": {},
     "output_type": "execute_result"
    }
   ],
   "source": [
    "new_vecs = model.docvecs.most_similar(['#truvada'], topn=10)\n",
    "df_hash_truvada = pd.DataFrame(data=new_vecs, columns=['Related Hashtag/User/Tweet', 'Cosine Similarity to \\\"#truvada\\\"'])\n",
    "df_hash_truvada"
   ]
  },
  {
   "cell_type": "code",
   "execution_count": 11,
   "metadata": {
    "collapsed": false
   },
   "outputs": [
    {
     "data": {
      "text/html": [
       "<div>\n",
       "<table border=\"1\" class=\"dataframe\">\n",
       "  <thead>\n",
       "    <tr style=\"text-align: right;\">\n",
       "      <th></th>\n",
       "      <th>Related Hashtag/User/Tweet</th>\n",
       "      <th>Cosine Similarity to \"#sexwork\"</th>\n",
       "    </tr>\n",
       "  </thead>\n",
       "  <tbody>\n",
       "    <tr>\n",
       "      <th>0</th>\n",
       "      <td>#hiv</td>\n",
       "      <td>0.742446</td>\n",
       "    </tr>\n",
       "    <tr>\n",
       "      <th>1</th>\n",
       "      <td>#セフレ</td>\n",
       "      <td>0.714212</td>\n",
       "    </tr>\n",
       "    <tr>\n",
       "      <th>2</th>\n",
       "      <td>#メル友</td>\n",
       "      <td>0.713868</td>\n",
       "    </tr>\n",
       "    <tr>\n",
       "      <th>3</th>\n",
       "      <td>#egaylity</td>\n",
       "      <td>0.692382</td>\n",
       "    </tr>\n",
       "    <tr>\n",
       "      <th>4</th>\n",
       "      <td>#truvada</td>\n",
       "      <td>0.689036</td>\n",
       "    </tr>\n",
       "    <tr>\n",
       "      <th>5</th>\n",
       "      <td>#hepatitisc</td>\n",
       "      <td>0.681088</td>\n",
       "    </tr>\n",
       "    <tr>\n",
       "      <th>6</th>\n",
       "      <td>312301</td>\n",
       "      <td>0.674642</td>\n",
       "    </tr>\n",
       "    <tr>\n",
       "      <th>7</th>\n",
       "      <td>290827</td>\n",
       "      <td>0.665787</td>\n",
       "    </tr>\n",
       "    <tr>\n",
       "      <th>8</th>\n",
       "      <td>#cc16</td>\n",
       "      <td>0.655487</td>\n",
       "    </tr>\n",
       "    <tr>\n",
       "      <th>9</th>\n",
       "      <td>254943</td>\n",
       "      <td>0.653148</td>\n",
       "    </tr>\n",
       "  </tbody>\n",
       "</table>\n",
       "</div>"
      ],
      "text/plain": [
       "  Related Hashtag/User/Tweet  Cosine Similarity to \"#sexwork\"\n",
       "0                       #hiv                         0.742446\n",
       "1                       #セフレ                         0.714212\n",
       "2                       #メル友                         0.713868\n",
       "3                  #egaylity                         0.692382\n",
       "4                   #truvada                         0.689036\n",
       "5                #hepatitisc                         0.681088\n",
       "6                     312301                         0.674642\n",
       "7                     290827                         0.665787\n",
       "8                      #cc16                         0.655487\n",
       "9                     254943                         0.653148"
      ]
     },
     "execution_count": 11,
     "metadata": {},
     "output_type": "execute_result"
    }
   ],
   "source": [
    "new_vecs = model.docvecs.most_similar(['#sexwork'], topn=10)\n",
    "df_hash_sexwork = pd.DataFrame(data=new_vecs, columns=['Related Hashtag/User/Tweet', 'Cosine Similarity to \\\"#sexwork\\\"'])\n",
    "df_hash_sexwork"
   ]
  },
  {
   "cell_type": "code",
   "execution_count": 12,
   "metadata": {
    "collapsed": false
   },
   "outputs": [
    {
     "data": {
      "text/html": [
       "<div>\n",
       "<table border=\"1\" class=\"dataframe\">\n",
       "  <thead>\n",
       "    <tr style=\"text-align: right;\">\n",
       "      <th></th>\n",
       "      <th>Related Related Hashtag/User/Tweet</th>\n",
       "      <th>Cosine Similarity to \"#prep\"</th>\n",
       "    </tr>\n",
       "  </thead>\n",
       "  <tbody>\n",
       "    <tr>\n",
       "      <th>0</th>\n",
       "      <td>#truvada</td>\n",
       "      <td>0.699828</td>\n",
       "    </tr>\n",
       "    <tr>\n",
       "      <th>1</th>\n",
       "      <td>975901</td>\n",
       "      <td>0.686178</td>\n",
       "    </tr>\n",
       "    <tr>\n",
       "      <th>2</th>\n",
       "      <td>#anothereffinbreakup</td>\n",
       "      <td>0.683982</td>\n",
       "    </tr>\n",
       "    <tr>\n",
       "      <th>3</th>\n",
       "      <td>#studioprep</td>\n",
       "      <td>0.683890</td>\n",
       "    </tr>\n",
       "    <tr>\n",
       "      <th>4</th>\n",
       "      <td>1060758</td>\n",
       "      <td>0.674030</td>\n",
       "    </tr>\n",
       "    <tr>\n",
       "      <th>5</th>\n",
       "      <td>1020142</td>\n",
       "      <td>0.658519</td>\n",
       "    </tr>\n",
       "    <tr>\n",
       "      <th>6</th>\n",
       "      <td>user--AnotherEffin'Breakup</td>\n",
       "      <td>0.657873</td>\n",
       "    </tr>\n",
       "    <tr>\n",
       "      <th>7</th>\n",
       "      <td>971152</td>\n",
       "      <td>0.655687</td>\n",
       "    </tr>\n",
       "    <tr>\n",
       "      <th>8</th>\n",
       "      <td>1048155</td>\n",
       "      <td>0.649939</td>\n",
       "    </tr>\n",
       "    <tr>\n",
       "      <th>9</th>\n",
       "      <td>user--Jamie B</td>\n",
       "      <td>0.645216</td>\n",
       "    </tr>\n",
       "  </tbody>\n",
       "</table>\n",
       "</div>"
      ],
      "text/plain": [
       "  Related Related Hashtag/User/Tweet  Cosine Similarity to \"#prep\"\n",
       "0                           #truvada                      0.699828\n",
       "1                             975901                      0.686178\n",
       "2               #anothereffinbreakup                      0.683982\n",
       "3                        #studioprep                      0.683890\n",
       "4                            1060758                      0.674030\n",
       "5                            1020142                      0.658519\n",
       "6         user--AnotherEffin'Breakup                      0.657873\n",
       "7                             971152                      0.655687\n",
       "8                            1048155                      0.649939\n",
       "9                      user--Jamie B                      0.645216"
      ]
     },
     "execution_count": 12,
     "metadata": {},
     "output_type": "execute_result"
    }
   ],
   "source": [
    "new_vecs = model.docvecs.most_similar(['#prep'], topn=10)\n",
    "df_hash_prep = pd.DataFrame(data=new_vecs, columns=['Related Related Hashtag/User/Tweet', 'Cosine Similarity to \\\"#prep\\\"'])\n",
    "df_hash_prep"
   ]
  },
  {
   "cell_type": "code",
   "execution_count": 13,
   "metadata": {
    "collapsed": false
   },
   "outputs": [
    {
     "data": {
      "text/plain": [
       "Document(words=['#', 'krtebireysyle', 'if', 'you', 'see', 'this', '13', 'symptoms', '.', 'do', 'hiv', 'test', 'immediately', '.', 'please', 'read'], tags=[603177, 'user--#KFB_Mz_Sope', '#kürtçebirşeysöyle'])"
      ]
     },
     "execution_count": 13,
     "metadata": {},
     "output_type": "execute_result"
    }
   ],
   "source": [
    "# note, this tweet is popular, warning about 13 signs which indicate that you need HIV testing.\n",
    "# We see evidence of this populat tweet-retweet in both DTM and Doc2Vec:\n",
    "#\n",
    "# Document(words=['#', 'krtebireysyle', 'if', 'you', 'see', 'this', '13',\n",
    "# 'symptoms', '.', 'do', 'hiv', 'test', 'immediately', '.', 'please', 'read'],\n",
    "# tags=[603177, '#KFB_Mz_Sope', 'kürtçebirşeysöyle'])\n",
    "#\n",
    "alldocs[603177]"
   ]
  },
  {
   "cell_type": "code",
   "execution_count": 14,
   "metadata": {
    "collapsed": false
   },
   "outputs": [
    {
     "data": {
      "text/html": [
       "<div>\n",
       "<table border=\"1\" class=\"dataframe\">\n",
       "  <thead>\n",
       "    <tr style=\"text-align: right;\">\n",
       "      <th></th>\n",
       "      <th>Related Related Hashtag/User/Tweet</th>\n",
       "      <th>Cosine Similarity to \"#imtesting\"</th>\n",
       "    </tr>\n",
       "  </thead>\n",
       "  <tbody>\n",
       "    <tr>\n",
       "      <th>0</th>\n",
       "      <td>#hiv</td>\n",
       "      <td>0.759691</td>\n",
       "    </tr>\n",
       "    <tr>\n",
       "      <th>1</th>\n",
       "      <td>#hivawareness</td>\n",
       "      <td>0.707609</td>\n",
       "    </tr>\n",
       "    <tr>\n",
       "      <th>2</th>\n",
       "      <td>#nbhaad</td>\n",
       "      <td>0.669220</td>\n",
       "    </tr>\n",
       "    <tr>\n",
       "      <th>3</th>\n",
       "      <td>290827</td>\n",
       "      <td>0.652414</td>\n",
       "    </tr>\n",
       "    <tr>\n",
       "      <th>4</th>\n",
       "      <td>#eurohivheptestweek</td>\n",
       "      <td>0.647707</td>\n",
       "    </tr>\n",
       "    <tr>\n",
       "      <th>5</th>\n",
       "      <td>#clc2015</td>\n",
       "      <td>0.646415</td>\n",
       "    </tr>\n",
       "    <tr>\n",
       "      <th>6</th>\n",
       "      <td>#hivtesting</td>\n",
       "      <td>0.640331</td>\n",
       "    </tr>\n",
       "    <tr>\n",
       "      <th>7</th>\n",
       "      <td>#letsgist</td>\n",
       "      <td>0.640218</td>\n",
       "    </tr>\n",
       "    <tr>\n",
       "      <th>8</th>\n",
       "      <td>#truvada</td>\n",
       "      <td>0.634226</td>\n",
       "    </tr>\n",
       "    <tr>\n",
       "      <th>9</th>\n",
       "      <td>696986</td>\n",
       "      <td>0.628146</td>\n",
       "    </tr>\n",
       "  </tbody>\n",
       "</table>\n",
       "</div>"
      ],
      "text/plain": [
       "  Related Related Hashtag/User/Tweet  Cosine Similarity to \"#imtesting\"\n",
       "0                               #hiv                           0.759691\n",
       "1                      #hivawareness                           0.707609\n",
       "2                            #nbhaad                           0.669220\n",
       "3                             290827                           0.652414\n",
       "4                #eurohivheptestweek                           0.647707\n",
       "5                           #clc2015                           0.646415\n",
       "6                        #hivtesting                           0.640331\n",
       "7                          #letsgist                           0.640218\n",
       "8                           #truvada                           0.634226\n",
       "9                             696986                           0.628146"
      ]
     },
     "execution_count": 14,
     "metadata": {},
     "output_type": "execute_result"
    }
   ],
   "source": [
    "new_vecs = model.docvecs.most_similar(['#imtesting'], topn=10)\n",
    "df_hash_imtesting = pd.DataFrame(data=new_vecs, columns=['Related Related Hashtag/User/Tweet', 'Cosine Similarity to \\\"#imtesting\\\"'])\n",
    "df_hash_imtesting"
   ]
  },
  {
   "cell_type": "markdown",
   "metadata": {},
   "source": [
    "# Figure 4: Related Hashtags and Tweets"
   ]
  },
  {
   "cell_type": "code",
   "execution_count": 16,
   "metadata": {
    "collapsed": false
   },
   "outputs": [
    {
     "name": "stdout",
     "output_type": "stream",
     "text": [
      "PCA explained variance ratio:  [ 0.05724305  0.03899559]\n"
     ]
    }
   ],
   "source": [
    "# related words from above\n",
    "related_words = list(df_hash_truvada.iloc[:,0].values) + \\\n",
    "                list(df_hash_sexwork.iloc[:,0].values) + \\\n",
    "                list(df_hash_prep.iloc[:,0].values) + \\\n",
    "                list(df_hash_imtesting.iloc[:,0].values)\n",
    "\n",
    "# Prepare data matrix\n",
    "X = []\n",
    "text_annotations = []\n",
    "for i, word in enumerate(model.docvecs.doctags):\n",
    "    if (i % 100 == 0 or word in related_words) :\n",
    "        X.append(model.docvecs[word])\n",
    "        if word in related_words:\n",
    "            text_annotations.append(word)\n",
    "        else:\n",
    "            text_annotations.append(\"\")\n",
    "X = np.array(X)\n",
    "\n",
    "# Do k-means on original data matrix\n",
    "kmeans = KMeans(n_clusters=3, random_state=1)\n",
    "kmeans_labels = kmeans.fit_predict(X)\n",
    "\n",
    "# Do PCA\n",
    "pca = PCA(n_components=2, copy=True)\n",
    "pca.fit(X)\n",
    "print(\"PCA explained variance ratio: \", pca.explained_variance_ratio_)\n",
    "pca_comps = pca.transform(X)\n",
    "\n",
    "# Do tSNE\n",
    "tsne = TSNE(n_components=2)\n",
    "tsne_comps = tsne.fit_transform(X)\n",
    "\n",
    "# Scatter plot\n",
    "rand_seed = 0\n",
    "alpha_high = 1.0\n",
    "alpha_low = 0.05\n",
    "down_samp_rate = 0.1\n",
    "plot_lims = None\n",
    "\n",
    "# save PCA plot in 'notebooks' directory (it won't show here in the notebook)\n",
    "scatter_plot(pca_comps[:,0], pca_comps[:,1], alpha_high, alpha_low,\n",
    "            kmeans_labels, text_annotations,\n",
    "            down_samp_rate, \"Fig4a: PCA of Related Hashtags-Users-Tweets.pdf\", rand_seed, plot_lims)\n",
    "\n",
    "# save tSNE plot in 'notebooks' directory (it won't show here in the notebook)\n",
    "scatter_plot(tsne_comps[:,0], tsne_comps[:,1], alpha_high, alpha_low,\n",
    "            kmeans_labels, text_annotations,\n",
    "            down_samp_rate, \"Fig4b: tSNE of Hashtags-Users-Tweets.pdf\", rand_seed, plot_lims)"
   ]
  },
  {
   "cell_type": "code",
   "execution_count": null,
   "metadata": {
    "collapsed": true
   },
   "outputs": [],
   "source": []
  }
 ],
 "metadata": {
  "kernelspec": {
   "display_name": "Python 3",
   "language": "python",
   "name": "python3"
  },
  "language_info": {
   "codemirror_mode": {
    "name": "ipython",
    "version": 3
   },
   "file_extension": ".py",
   "mimetype": "text/x-python",
   "name": "python",
   "nbconvert_exporter": "python",
   "pygments_lexer": "ipython3",
   "version": "3.4.3"
  }
 },
 "nbformat": 4,
 "nbformat_minor": 0
}
