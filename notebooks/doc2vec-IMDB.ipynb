{
 "cells": [
  {
   "cell_type": "markdown",
   "metadata": {},
   "source": [
    "# Doc2Vec (Figures 3, 4 and Tables 3, 4)\n",
    "\n",
    "adapted (partially) from https://github.com/piskvorky/gensim/blob/develop/docs/notebooks/doc2vec-IMDB.ipynb"
   ]
  },
  {
   "cell_type": "code",
   "execution_count": 1,
   "metadata": {
    "collapsed": false
   },
   "outputs": [],
   "source": [
    "import json\n",
    "import re\n",
    "from collections import namedtuple\n",
    "\n",
    "import gensim\n",
    "\n",
    "# script author (me) defined stop words\n",
    "STOPWORDS_ = ['re', '-', '']\n",
    "\n",
    "Document = namedtuple('Document', 'words tags')\n",
    "\n",
    "alldocs = []  # will hold all docs in original order\n",
    "with open('../data/c_twitter.json') as f_in:\n",
    "    for i, line in enumerate(f_in):\n",
    "        c_twt = json.loads(line)\n",
    "        # c_twt: {'weeknum': str, 'c_text': str, 'tags': [str]}\n",
    "        words = c_twt['c_text'].split()\n",
    "        words = [w for w in words if w not in STOPWORDS_]\n",
    "        tags = [i] + c_twt['tags']\n",
    "        alldocs.append(Document(words, tags))\n",
    "        \n",
    "shuffle_docs = alldocs[:]\n"
   ]
  },
  {
   "cell_type": "code",
   "execution_count": 2,
   "metadata": {
    "collapsed": false
   },
   "outputs": [
    {
     "name": "stdout",
     "output_type": "stream",
     "text": [
      "Doc2Vec(dm/m,d100,n5,w10,mc2,t6)\n"
     ]
    }
   ],
   "source": [
    "import multiprocessing\n",
    "\n",
    "from gensim.models import Doc2Vec\n",
    "import gensim.models.doc2vec\n",
    "\n",
    "\n",
    "cores = multiprocessing.cpu_count()\n",
    "assert gensim.models.doc2vec.FAST_VERSION > -1, \"this will be painfully slow otherwise\"\n",
    "\n",
    "# PV-DM w/average\n",
    "model= Doc2Vec(dm=1, dm_mean=1, size=100, window=10, negative=5, hs=0, min_count=2, workers=cores,\n",
    "           max_vocab_size=10000, seed=1)\n",
    "\n",
    "\n",
    "# currently running out of memory\n",
    "model.build_vocab(alldocs)\n",
    "print(model)\n"
   ]
  },
  {
   "cell_type": "markdown",
   "metadata": {},
   "source": [
    "# Performance of Doc2Vec training could be a figure??"
   ]
  },
  {
   "cell_type": "code",
   "execution_count": 3,
   "metadata": {
    "collapsed": false
   },
   "outputs": [
    {
     "name": "stdout",
     "output_type": "stream",
     "text": [
      "0 [('hivaids', 0.9238401055335999), ('chlamydia', 0.7275433540344238), ('hiv-positive', 0.6795859932899475), ('hiv-', 0.667283833026886), ('gonorrhea', 0.6494301557540894), ('syphilis', 0.636401891708374), ('malaria', 0.6282125115394592), ('aidshiv', 0.6197354793548584), ('dengue', 0.6184828877449036), ('lymedisease', 0.6180868148803711)]\n",
      "--- score:  10474.5051227\n",
      "ELAPSED TIME (seconds):  454.8811070919037\n",
      "1 [('hivaids', 0.9392381906509399), ('hiv-positive', 0.7394733428955078), ('chlamydia', 0.7276412844657898), ('hiv-', 0.7015641331672668), ('aidshiv', 0.7008076310157776), ('dengue', 0.6919741630554199), ('malaria', 0.6719186902046204), ('gonorrhea', 0.6625051498413086), ('lymedisease', 0.6565596461296082), ('rabies', 0.6460838913917542)]\n",
      "--- score:  12430.3644568\n",
      "ELAPSED TIME (seconds):  908.7602863311768\n",
      "2 [('hivaids', 0.9493792057037354), ('hiv-positive', 0.7881236672401428), ('aidshiv', 0.7830793261528015), ('chlamydia', 0.7434079051017761), ('dengue', 0.7270612716674805), ('hiv-', 0.7252360582351685), ('malaria', 0.70749831199646), ('pertussis', 0.6970995664596558), ('gonorrhea', 0.6906741261482239), ('hiv-aids', 0.6815593838691711)]\n",
      "--- score:  14970.893029\n",
      "ELAPSED TIME (seconds):  1362.3867495059967\n",
      "3 [('hivaids', 0.959201991558075), ('aidshiv', 0.8352041244506836), ('hiv-positive', 0.8218761682510376), ('hiv-', 0.7785570025444031), ('chlamydia', 0.7717495560646057), ('dengue', 0.7706579566001892), ('hiv-aids', 0.7444307804107666), ('pertussis', 0.7423962354660034), ('malaria', 0.7303740382194519), (\"hiv'\", 0.7076544165611267)]\n",
      "--- score:  17686.1444865\n",
      "ELAPSED TIME (seconds):  1815.7901422977448\n",
      "4 [('hivaids', 0.9611728191375732), ('aidshiv', 0.870275616645813), ('hiv-positive', 0.8559086322784424), ('dengue', 0.8068150281906128), ('hiv-aids', 0.7929555773735046), ('hiv-', 0.791083574295044), ('chlamydia', 0.7897577285766602), ('pertussis', 0.7766704559326172), ('malaria', 0.7547449469566345), ('giardia', 0.7526571154594421)]\n",
      "--- score:  20255.0795573\n",
      "ELAPSED TIME (seconds):  2264.245701313019\n",
      "5 [('hivaids', 0.9634883999824524), ('aidshiv', 0.8938385844230652), ('hiv-positive', 0.868045449256897), ('dengue', 0.8301125764846802), ('hiv-aids', 0.8127402663230896), ('pertussis', 0.8104846477508545), ('chlamydia', 0.808424711227417), ('hiv-', 0.8036947846412659), ('giardia', 0.7967248558998108), (\"hiv'\", 0.7892342209815979)]\n",
      "--- score:  22406.8231066\n",
      "ELAPSED TIME (seconds):  2706.8641214370728\n",
      "6 [('hivaids', 0.9651364088058472), ('aidshiv', 0.9101249575614929), ('hiv-positive', 0.8838785886764526), ('dengue', 0.8477116823196411), ('pertussis', 0.8322948217391968), ('chlamydia', 0.8278458118438721), ('hiv-aids', 0.8265392780303955), (\"hiv'\", 0.8197444081306458), ('giardia', 0.8192653656005859), ('hiv-', 0.8038822412490845)]\n",
      "--- score:  24904.774065\n",
      "ELAPSED TIME (seconds):  3146.661230802536\n",
      "7 [('hivaids', 0.9646081924438477), ('aidshiv', 0.9169394969940186), ('hiv-positive', 0.8776971697807312), ('dengue', 0.8634107708930969), ('pertussis', 0.8485563397407532), ('giardia', 0.8438498377799988), (\"hiv'\", 0.843028724193573), ('chlamydia', 0.8387159705162048), ('hiv-aids', 0.8365088701248169), ('malaria', 0.8168593645095825)]\n",
      "--- score:  27402.0712321\n",
      "ELAPSED TIME (seconds):  3584.5379118919373\n",
      "8 [('hivaids', 0.9620406627655029), ('aidshiv', 0.9197952747344971), ('hiv-positive', 0.8868648409843445), ('dengue', 0.8658932447433472), ('pertussis', 0.8570025563240051), ('hiv-aids', 0.8562520742416382), (\"hiv'\", 0.8529573082923889), ('giardia', 0.8448792695999146), ('chlamydia', 0.8405115008354187), ('malaria', 0.818305492401123)]\n",
      "--- score:  29420.0146094\n",
      "ELAPSED TIME (seconds):  4026.061557531357\n",
      "9 [('hivaids', 0.9576879143714905), ('aidshiv', 0.9255191683769226), ('hiv-positive', 0.8901553153991699), ('dengue', 0.87253338098526), ('pertussis', 0.8688775897026062), ('hiv-aids', 0.8575703501701355), ('giardia', 0.8569754362106323), (\"hiv'\", 0.8519408106803894), ('chlamydia', 0.8382022976875305), ('rabies', 0.8267964720726013)]\n",
      "--- score:  31290.3271416\n",
      "ELAPSED TIME (seconds):  4466.000938653946\n"
     ]
    }
   ],
   "source": [
    "from random import shuffle\n",
    "import random\n",
    "import time\n",
    "import numpy as np\n",
    "\n",
    "random.seed(1)\n",
    "np.random.seed(1)\n",
    "\n",
    "passes = 10\n",
    "start_time = time.time()\n",
    "\n",
    "for epoch in range(passes):\n",
    "    shuffle(shuffle_docs)\n",
    "    model.train(shuffle_docs)\n",
    "    print(epoch, model.most_similar('hiv', topn=10))\n",
    "    \n",
    "    # do some validation after each epoch\n",
    "    doc_ids = random.sample(range(len(alldocs)), 1000)\n",
    "    score = 0\n",
    "    for doc_id in doc_ids:\n",
    "        inferred_docvec = model.infer_vector(alldocs[doc_id].words)\n",
    "        score += sum(abs(model.docvecs[doc_id] - inferred_docvec))\n",
    "    print(\"--- score: \", score)\n",
    "    print(\"ELAPSED TIME (seconds): \", time.time() - start_time)"
   ]
  },
  {
   "cell_type": "code",
   "execution_count": 4,
   "metadata": {
    "collapsed": true
   },
   "outputs": [],
   "source": [
    "# do visualization/clustering of users\n",
    "# do visualization/clustering of hashtags\n",
    "# do visualization/clustering of documents"
   ]
  },
  {
   "cell_type": "markdown",
   "metadata": {},
   "source": [
    "# Table 4: Related Word-Vectors"
   ]
  },
  {
   "cell_type": "code",
   "execution_count": 5,
   "metadata": {
    "collapsed": false
   },
   "outputs": [
    {
     "data": {
      "text/html": [
       "<div>\n",
       "<table border=\"1\" class=\"dataframe\">\n",
       "  <thead>\n",
       "    <tr style=\"text-align: right;\">\n",
       "      <th></th>\n",
       "      <th>Related-Word</th>\n",
       "      <th>Cosine Similarity to \"hivaids\"</th>\n",
       "    </tr>\n",
       "  </thead>\n",
       "  <tbody>\n",
       "    <tr>\n",
       "      <th>0</th>\n",
       "      <td>hiv</td>\n",
       "      <td>0.957688</td>\n",
       "    </tr>\n",
       "    <tr>\n",
       "      <th>1</th>\n",
       "      <td>aidshiv</td>\n",
       "      <td>0.928883</td>\n",
       "    </tr>\n",
       "    <tr>\n",
       "      <th>2</th>\n",
       "      <td>dengue</td>\n",
       "      <td>0.879803</td>\n",
       "    </tr>\n",
       "    <tr>\n",
       "      <th>3</th>\n",
       "      <td>hiv-positive</td>\n",
       "      <td>0.875377</td>\n",
       "    </tr>\n",
       "    <tr>\n",
       "      <th>4</th>\n",
       "      <td>hiv-aids</td>\n",
       "      <td>0.872453</td>\n",
       "    </tr>\n",
       "    <tr>\n",
       "      <th>5</th>\n",
       "      <td>giardia</td>\n",
       "      <td>0.868507</td>\n",
       "    </tr>\n",
       "    <tr>\n",
       "      <th>6</th>\n",
       "      <td>malaria</td>\n",
       "      <td>0.852559</td>\n",
       "    </tr>\n",
       "    <tr>\n",
       "      <th>7</th>\n",
       "      <td>pertussis</td>\n",
       "      <td>0.846965</td>\n",
       "    </tr>\n",
       "    <tr>\n",
       "      <th>8</th>\n",
       "      <td>rabies</td>\n",
       "      <td>0.841204</td>\n",
       "    </tr>\n",
       "    <tr>\n",
       "      <th>9</th>\n",
       "      <td>hiv'</td>\n",
       "      <td>0.837193</td>\n",
       "    </tr>\n",
       "  </tbody>\n",
       "</table>\n",
       "</div>"
      ],
      "text/plain": [
       "   Related-Word  Cosine Similarity to \"hivaids\"\n",
       "0           hiv                        0.957688\n",
       "1       aidshiv                        0.928883\n",
       "2        dengue                        0.879803\n",
       "3  hiv-positive                        0.875377\n",
       "4      hiv-aids                        0.872453\n",
       "5       giardia                        0.868507\n",
       "6       malaria                        0.852559\n",
       "7     pertussis                        0.846965\n",
       "8        rabies                        0.841204\n",
       "9          hiv'                        0.837193"
      ]
     },
     "execution_count": 5,
     "metadata": {},
     "output_type": "execute_result"
    }
   ],
   "source": [
    "import pandas as pd\n",
    "new_vecs = model.most_similar(['hivaids'], topn=10)\n",
    "df_hivaids = pd.DataFrame(data=new_vecs, columns=['Related-Word', 'Cosine Similarity to \\\"hivaids\\\"'])\n",
    "df_hivaids"
   ]
  },
  {
   "cell_type": "code",
   "execution_count": 6,
   "metadata": {
    "collapsed": false
   },
   "outputs": [
    {
     "data": {
      "text/html": [
       "<div>\n",
       "<table border=\"1\" class=\"dataframe\">\n",
       "  <thead>\n",
       "    <tr style=\"text-align: right;\">\n",
       "      <th></th>\n",
       "      <th>Related Word</th>\n",
       "      <th>Cosine Similarity to \"prep\"</th>\n",
       "    </tr>\n",
       "  </thead>\n",
       "  <tbody>\n",
       "    <tr>\n",
       "      <th>0</th>\n",
       "      <td>shiga</td>\n",
       "      <td>0.877325</td>\n",
       "    </tr>\n",
       "    <tr>\n",
       "      <th>1</th>\n",
       "      <td>malaria</td>\n",
       "      <td>0.834458</td>\n",
       "    </tr>\n",
       "    <tr>\n",
       "      <th>2</th>\n",
       "      <td>giardia</td>\n",
       "      <td>0.788153</td>\n",
       "    </tr>\n",
       "    <tr>\n",
       "      <th>3</th>\n",
       "      <td>man-flu</td>\n",
       "      <td>0.776286</td>\n",
       "    </tr>\n",
       "    <tr>\n",
       "      <th>4</th>\n",
       "      <td>lyme</td>\n",
       "      <td>0.774702</td>\n",
       "    </tr>\n",
       "    <tr>\n",
       "      <th>5</th>\n",
       "      <td>chlamydia</td>\n",
       "      <td>0.758681</td>\n",
       "    </tr>\n",
       "    <tr>\n",
       "      <th>6</th>\n",
       "      <td>mumps</td>\n",
       "      <td>0.758419</td>\n",
       "    </tr>\n",
       "    <tr>\n",
       "      <th>7</th>\n",
       "      <td>rabies</td>\n",
       "      <td>0.756786</td>\n",
       "    </tr>\n",
       "    <tr>\n",
       "      <th>8</th>\n",
       "      <td>meningitis</td>\n",
       "      <td>0.756340</td>\n",
       "    </tr>\n",
       "    <tr>\n",
       "      <th>9</th>\n",
       "      <td>hivaids</td>\n",
       "      <td>0.754070</td>\n",
       "    </tr>\n",
       "  </tbody>\n",
       "</table>\n",
       "</div>"
      ],
      "text/plain": [
       "  Related Word  Cosine Similarity to \"prep\"\n",
       "0        shiga                     0.877325\n",
       "1      malaria                     0.834458\n",
       "2      giardia                     0.788153\n",
       "3      man-flu                     0.776286\n",
       "4         lyme                     0.774702\n",
       "5    chlamydia                     0.758681\n",
       "6        mumps                     0.758419\n",
       "7       rabies                     0.756786\n",
       "8   meningitis                     0.756340\n",
       "9      hivaids                     0.754070"
      ]
     },
     "execution_count": 6,
     "metadata": {},
     "output_type": "execute_result"
    }
   ],
   "source": [
    "new_vecs = model.most_similar(['prep'], topn=10)\n",
    "df_prep = pd.DataFrame(data=new_vecs, columns=['Related Word', 'Cosine Similarity to \\\"prep\\\"'])\n",
    "df_prep"
   ]
  },
  {
   "cell_type": "code",
   "execution_count": 7,
   "metadata": {
    "collapsed": false
   },
   "outputs": [
    {
     "data": {
      "text/html": [
       "<div>\n",
       "<table border=\"1\" class=\"dataframe\">\n",
       "  <thead>\n",
       "    <tr style=\"text-align: right;\">\n",
       "      <th></th>\n",
       "      <th>Related Word</th>\n",
       "      <th>Cosine Similarity to \"prophylaxis\"</th>\n",
       "    </tr>\n",
       "  </thead>\n",
       "  <tbody>\n",
       "    <tr>\n",
       "      <th>0</th>\n",
       "      <td>treatment</td>\n",
       "      <td>0.530189</td>\n",
       "    </tr>\n",
       "    <tr>\n",
       "      <th>1</th>\n",
       "      <td>breastfeeding</td>\n",
       "      <td>0.488796</td>\n",
       "    </tr>\n",
       "    <tr>\n",
       "      <th>2</th>\n",
       "      <td>transmission</td>\n",
       "      <td>0.474317</td>\n",
       "    </tr>\n",
       "    <tr>\n",
       "      <th>3</th>\n",
       "      <td>organ</td>\n",
       "      <td>0.468069</td>\n",
       "    </tr>\n",
       "    <tr>\n",
       "      <th>4</th>\n",
       "      <td>mothers</td>\n",
       "      <td>0.466734</td>\n",
       "    </tr>\n",
       "    <tr>\n",
       "      <th>5</th>\n",
       "      <td>prevalence</td>\n",
       "      <td>0.466725</td>\n",
       "    </tr>\n",
       "    <tr>\n",
       "      <th>6</th>\n",
       "      <td>approved</td>\n",
       "      <td>0.453632</td>\n",
       "    </tr>\n",
       "    <tr>\n",
       "      <th>7</th>\n",
       "      <td>equal</td>\n",
       "      <td>0.447590</td>\n",
       "    </tr>\n",
       "    <tr>\n",
       "      <th>8</th>\n",
       "      <td>cannabis</td>\n",
       "      <td>0.447496</td>\n",
       "    </tr>\n",
       "    <tr>\n",
       "      <th>9</th>\n",
       "      <td>undetectable</td>\n",
       "      <td>0.443953</td>\n",
       "    </tr>\n",
       "  </tbody>\n",
       "</table>\n",
       "</div>"
      ],
      "text/plain": [
       "    Related Word  Cosine Similarity to \"prophylaxis\"\n",
       "0      treatment                            0.530189\n",
       "1  breastfeeding                            0.488796\n",
       "2   transmission                            0.474317\n",
       "3          organ                            0.468069\n",
       "4        mothers                            0.466734\n",
       "5     prevalence                            0.466725\n",
       "6       approved                            0.453632\n",
       "7          equal                            0.447590\n",
       "8       cannabis                            0.447496\n",
       "9   undetectable                            0.443953"
      ]
     },
     "execution_count": 7,
     "metadata": {},
     "output_type": "execute_result"
    }
   ],
   "source": [
    "new_vecs = model.most_similar(['prophylaxis'], topn=10)\n",
    "df_prophylaxis = pd.DataFrame(data=new_vecs, columns=['Related Word', 'Cosine Similarity to \\\"prophylaxis\\\"'])\n",
    "df_prophylaxis"
   ]
  },
  {
   "cell_type": "code",
   "execution_count": 8,
   "metadata": {
    "collapsed": false
   },
   "outputs": [
    {
     "data": {
      "text/html": [
       "<div>\n",
       "<table border=\"1\" class=\"dataframe\">\n",
       "  <thead>\n",
       "    <tr style=\"text-align: right;\">\n",
       "      <th></th>\n",
       "      <th>Related Word</th>\n",
       "      <th>Cosine Similarity to \"truvada\"</th>\n",
       "    </tr>\n",
       "  </thead>\n",
       "  <tbody>\n",
       "    <tr>\n",
       "      <th>0</th>\n",
       "      <td>charliesheen</td>\n",
       "      <td>0.727830</td>\n",
       "    </tr>\n",
       "    <tr>\n",
       "      <th>1</th>\n",
       "      <td>hcv</td>\n",
       "      <td>0.716755</td>\n",
       "    </tr>\n",
       "    <tr>\n",
       "      <th>2</th>\n",
       "      <td>malaria</td>\n",
       "      <td>0.702457</td>\n",
       "    </tr>\n",
       "    <tr>\n",
       "      <th>3</th>\n",
       "      <td>syphilis</td>\n",
       "      <td>0.675602</td>\n",
       "    </tr>\n",
       "    <tr>\n",
       "      <th>4</th>\n",
       "      <td>lymedisease</td>\n",
       "      <td>0.666147</td>\n",
       "    </tr>\n",
       "    <tr>\n",
       "      <th>5</th>\n",
       "      <td>icasa2015</td>\n",
       "      <td>0.664901</td>\n",
       "    </tr>\n",
       "    <tr>\n",
       "      <th>6</th>\n",
       "      <td>chlamydia</td>\n",
       "      <td>0.663093</td>\n",
       "    </tr>\n",
       "    <tr>\n",
       "      <th>7</th>\n",
       "      <td>hepatitis</td>\n",
       "      <td>0.658429</td>\n",
       "    </tr>\n",
       "    <tr>\n",
       "      <th>8</th>\n",
       "      <td>zika</td>\n",
       "      <td>0.654923</td>\n",
       "    </tr>\n",
       "    <tr>\n",
       "      <th>9</th>\n",
       "      <td>rabies</td>\n",
       "      <td>0.649964</td>\n",
       "    </tr>\n",
       "  </tbody>\n",
       "</table>\n",
       "</div>"
      ],
      "text/plain": [
       "   Related Word  Cosine Similarity to \"truvada\"\n",
       "0  charliesheen                        0.727830\n",
       "1           hcv                        0.716755\n",
       "2       malaria                        0.702457\n",
       "3      syphilis                        0.675602\n",
       "4   lymedisease                        0.666147\n",
       "5     icasa2015                        0.664901\n",
       "6     chlamydia                        0.663093\n",
       "7     hepatitis                        0.658429\n",
       "8          zika                        0.654923\n",
       "9        rabies                        0.649964"
      ]
     },
     "execution_count": 8,
     "metadata": {},
     "output_type": "execute_result"
    }
   ],
   "source": [
    "new_vecs = model.most_similar(['truvada'], topn=10)\n",
    "df_truvada = pd.DataFrame(data=new_vecs, columns=['Related Word', 'Cosine Similarity to \\\"truvada\\\"'])\n",
    "df_truvada"
   ]
  },
  {
   "cell_type": "markdown",
   "metadata": {},
   "source": [
    "# Figure 3: PCA and tSNE plots of relevent word vectors"
   ]
  },
  {
   "cell_type": "code",
   "execution_count": 9,
   "metadata": {
    "collapsed": false
   },
   "outputs": [
    {
     "name": "stdout",
     "output_type": "stream",
     "text": [
      "PCA explained variance ratio:  [ 0.07563121  0.0579878 ]\n"
     ]
    }
   ],
   "source": [
    "import sys\n",
    "\n",
    "from sklearn.decomposition import PCA\n",
    "from sklearn.manifold import TSNE\n",
    "from sklearn.cluster import KMeans\n",
    "\n",
    "# append path to my module\n",
    "if '/high_spd_work/sm_w2v' not in sys.path:\n",
    "    sys.path.append('/high_spd_work/sm_w2v')\n",
    "from sm_w2v.plot_utils import scatter_plot\n",
    "\n",
    "# related words from above\n",
    "related_words = list(df_hivaids.iloc[:,0].values) + \\\n",
    "                list(df_prep.iloc[:,0].values) + \\\n",
    "                list(df_prophylaxis.iloc[:,0].values) + \\\n",
    "                list(df_truvada.iloc[:,0].values)\n",
    "\n",
    "# Prepare data matrix\n",
    "X = []\n",
    "text_annotations = []\n",
    "for word in model.vocab:\n",
    "    X.append(model[word])\n",
    "    if word in related_words:\n",
    "        text_annotations.append(word)\n",
    "    else:\n",
    "        text_annotations.append(\"\")\n",
    "X = np.array(X)\n",
    "\n",
    "# Do k-means on original data matrix\n",
    "kmeans = KMeans(n_clusters=3, random_state=1)\n",
    "kmeans_labels = kmeans.fit_predict(X)\n",
    "\n",
    "# Do PCA\n",
    "pca = PCA(n_components=2, copy=True)\n",
    "pca.fit(X)\n",
    "print(\"PCA explained variance ratio: \", pca.explained_variance_ratio_)\n",
    "pca_comps = pca.transform(X)\n",
    "\n",
    "# Do tSNE\n",
    "tsne = TSNE(n_components=2, random_state=1)\n",
    "tsne_comps = tsne.fit_transform(X)\n",
    "\n",
    "# Scatter plot\n",
    "rand_seed = 0\n",
    "alpha_high = 1.0\n",
    "alpha_low = 0.05\n",
    "down_samp_rate = 0.1\n",
    "plot_lims = None\n",
    "\n",
    "# save PCA plot in 'notebooks' directory\n",
    "scatter_plot(pca_comps[:,0], pca_comps[:,1], alpha_high, alpha_low,\n",
    "            kmeans_labels, text_annotations,\n",
    "            down_samp_rate, \"Fig3a: PCA of Related Words\", rand_seed, [-5,10,-20,10])\n",
    "\n",
    "# save tSNE plot in 'notebooks' directory\n",
    "scatter_plot(tsne_comps[:,0], tsne_comps[:,1], alpha_high, alpha_low,\n",
    "            kmeans_labels, text_annotations,\n",
    "            down_samp_rate, \"Fig3b: tSNE of Related Words\", rand_seed, [-15,3,-8,15])"
   ]
  },
  {
   "cell_type": "markdown",
   "metadata": {},
   "source": [
    "# Table 4: Related Hashtags and Tweets\n",
    "\n",
    "Hashtags begin with \"#\", users begin with \"user--\" and tweets are just a number - that refers to the corresponding index in the \"alldocs\" variable, or the \"../data/c_twitter.json\" cleaned tweets file"
   ]
  },
  {
   "cell_type": "code",
   "execution_count": 10,
   "metadata": {
    "collapsed": false,
    "scrolled": true
   },
   "outputs": [
    {
     "data": {
      "text/html": [
       "<div>\n",
       "<table border=\"1\" class=\"dataframe\">\n",
       "  <thead>\n",
       "    <tr style=\"text-align: right;\">\n",
       "      <th></th>\n",
       "      <th>Related Hashtag/User/Tweet</th>\n",
       "      <th>Cosine Similarity to \"#truvada\"</th>\n",
       "    </tr>\n",
       "  </thead>\n",
       "  <tbody>\n",
       "    <tr>\n",
       "      <th>0</th>\n",
       "      <td>#hiv</td>\n",
       "      <td>0.726560</td>\n",
       "    </tr>\n",
       "    <tr>\n",
       "      <th>1</th>\n",
       "      <td>#prep</td>\n",
       "      <td>0.725261</td>\n",
       "    </tr>\n",
       "    <tr>\n",
       "      <th>2</th>\n",
       "      <td>#hepatitis</td>\n",
       "      <td>0.704099</td>\n",
       "    </tr>\n",
       "    <tr>\n",
       "      <th>3</th>\n",
       "      <td>#letsgist</td>\n",
       "      <td>0.703258</td>\n",
       "    </tr>\n",
       "    <tr>\n",
       "      <th>4</th>\n",
       "      <td>#zikavirus</td>\n",
       "      <td>0.690609</td>\n",
       "    </tr>\n",
       "    <tr>\n",
       "      <th>5</th>\n",
       "      <td>#egaylity</td>\n",
       "      <td>0.670713</td>\n",
       "    </tr>\n",
       "    <tr>\n",
       "      <th>6</th>\n",
       "      <td>#imtesting</td>\n",
       "      <td>0.670385</td>\n",
       "    </tr>\n",
       "    <tr>\n",
       "      <th>7</th>\n",
       "      <td>9568</td>\n",
       "      <td>0.667223</td>\n",
       "    </tr>\n",
       "    <tr>\n",
       "      <th>8</th>\n",
       "      <td>#セフレ</td>\n",
       "      <td>0.661743</td>\n",
       "    </tr>\n",
       "    <tr>\n",
       "      <th>9</th>\n",
       "      <td>#メル友</td>\n",
       "      <td>0.661719</td>\n",
       "    </tr>\n",
       "  </tbody>\n",
       "</table>\n",
       "</div>"
      ],
      "text/plain": [
       "  Related Hashtag/User/Tweet  Cosine Similarity to \"#truvada\"\n",
       "0                       #hiv                         0.726560\n",
       "1                      #prep                         0.725261\n",
       "2                 #hepatitis                         0.704099\n",
       "3                  #letsgist                         0.703258\n",
       "4                 #zikavirus                         0.690609\n",
       "5                  #egaylity                         0.670713\n",
       "6                 #imtesting                         0.670385\n",
       "7                       9568                         0.667223\n",
       "8                       #セフレ                         0.661743\n",
       "9                       #メル友                         0.661719"
      ]
     },
     "execution_count": 10,
     "metadata": {},
     "output_type": "execute_result"
    }
   ],
   "source": [
    "new_vecs = model.docvecs.most_similar(['#truvada'], topn=10)\n",
    "df_hash_truvada = pd.DataFrame(data=new_vecs, columns=['Related Hashtag/User/Tweet', 'Cosine Similarity to \\\"#truvada\\\"'])\n",
    "df_hash_truvada"
   ]
  },
  {
   "cell_type": "code",
   "execution_count": 11,
   "metadata": {
    "collapsed": false
   },
   "outputs": [
    {
     "data": {
      "text/html": [
       "<div>\n",
       "<table border=\"1\" class=\"dataframe\">\n",
       "  <thead>\n",
       "    <tr style=\"text-align: right;\">\n",
       "      <th></th>\n",
       "      <th>Related Hashtag/User/Tweet</th>\n",
       "      <th>Cosine Similarity to \"#sexwork\"</th>\n",
       "    </tr>\n",
       "  </thead>\n",
       "  <tbody>\n",
       "    <tr>\n",
       "      <th>0</th>\n",
       "      <td>#hiv</td>\n",
       "      <td>0.743877</td>\n",
       "    </tr>\n",
       "    <tr>\n",
       "      <th>1</th>\n",
       "      <td>#メル友</td>\n",
       "      <td>0.708935</td>\n",
       "    </tr>\n",
       "    <tr>\n",
       "      <th>2</th>\n",
       "      <td>#セフレ</td>\n",
       "      <td>0.708924</td>\n",
       "    </tr>\n",
       "    <tr>\n",
       "      <th>3</th>\n",
       "      <td>#egaylity</td>\n",
       "      <td>0.694771</td>\n",
       "    </tr>\n",
       "    <tr>\n",
       "      <th>4</th>\n",
       "      <td>287849</td>\n",
       "      <td>0.675552</td>\n",
       "    </tr>\n",
       "    <tr>\n",
       "      <th>5</th>\n",
       "      <td>#harmreduction</td>\n",
       "      <td>0.671927</td>\n",
       "    </tr>\n",
       "    <tr>\n",
       "      <th>6</th>\n",
       "      <td>#hepatitisc</td>\n",
       "      <td>0.663863</td>\n",
       "    </tr>\n",
       "    <tr>\n",
       "      <th>7</th>\n",
       "      <td>#truvada</td>\n",
       "      <td>0.658381</td>\n",
       "    </tr>\n",
       "    <tr>\n",
       "      <th>8</th>\n",
       "      <td>697666</td>\n",
       "      <td>0.654542</td>\n",
       "    </tr>\n",
       "    <tr>\n",
       "      <th>9</th>\n",
       "      <td>311241</td>\n",
       "      <td>0.651169</td>\n",
       "    </tr>\n",
       "  </tbody>\n",
       "</table>\n",
       "</div>"
      ],
      "text/plain": [
       "  Related Hashtag/User/Tweet  Cosine Similarity to \"#sexwork\"\n",
       "0                       #hiv                         0.743877\n",
       "1                       #メル友                         0.708935\n",
       "2                       #セフレ                         0.708924\n",
       "3                  #egaylity                         0.694771\n",
       "4                     287849                         0.675552\n",
       "5             #harmreduction                         0.671927\n",
       "6                #hepatitisc                         0.663863\n",
       "7                   #truvada                         0.658381\n",
       "8                     697666                         0.654542\n",
       "9                     311241                         0.651169"
      ]
     },
     "execution_count": 11,
     "metadata": {},
     "output_type": "execute_result"
    }
   ],
   "source": [
    "new_vecs = model.docvecs.most_similar(['#sexwork'], topn=10)\n",
    "df_hash_sexwork = pd.DataFrame(data=new_vecs, columns=['Related Hashtag/User/Tweet', 'Cosine Similarity to \\\"#sexwork\\\"'])\n",
    "df_hash_sexwork"
   ]
  },
  {
   "cell_type": "code",
   "execution_count": 12,
   "metadata": {
    "collapsed": false
   },
   "outputs": [
    {
     "data": {
      "text/html": [
       "<div>\n",
       "<table border=\"1\" class=\"dataframe\">\n",
       "  <thead>\n",
       "    <tr style=\"text-align: right;\">\n",
       "      <th></th>\n",
       "      <th>Related Related Hashtag/User/Tweet</th>\n",
       "      <th>Cosine Similarity to \"#prep\"</th>\n",
       "    </tr>\n",
       "  </thead>\n",
       "  <tbody>\n",
       "    <tr>\n",
       "      <th>0</th>\n",
       "      <td>#truvada</td>\n",
       "      <td>0.725261</td>\n",
       "    </tr>\n",
       "    <tr>\n",
       "      <th>1</th>\n",
       "      <td>975901</td>\n",
       "      <td>0.681698</td>\n",
       "    </tr>\n",
       "    <tr>\n",
       "      <th>2</th>\n",
       "      <td>939037</td>\n",
       "      <td>0.674932</td>\n",
       "    </tr>\n",
       "    <tr>\n",
       "      <th>3</th>\n",
       "      <td>1048155</td>\n",
       "      <td>0.672318</td>\n",
       "    </tr>\n",
       "    <tr>\n",
       "      <th>4</th>\n",
       "      <td>#anothereffinbreakup</td>\n",
       "      <td>0.669275</td>\n",
       "    </tr>\n",
       "    <tr>\n",
       "      <th>5</th>\n",
       "      <td>#studioprep</td>\n",
       "      <td>0.669178</td>\n",
       "    </tr>\n",
       "    <tr>\n",
       "      <th>6</th>\n",
       "      <td>1063243</td>\n",
       "      <td>0.665931</td>\n",
       "    </tr>\n",
       "    <tr>\n",
       "      <th>7</th>\n",
       "      <td>1021473</td>\n",
       "      <td>0.658816</td>\n",
       "    </tr>\n",
       "    <tr>\n",
       "      <th>8</th>\n",
       "      <td>959708</td>\n",
       "      <td>0.657086</td>\n",
       "    </tr>\n",
       "    <tr>\n",
       "      <th>9</th>\n",
       "      <td>920222</td>\n",
       "      <td>0.648606</td>\n",
       "    </tr>\n",
       "  </tbody>\n",
       "</table>\n",
       "</div>"
      ],
      "text/plain": [
       "  Related Related Hashtag/User/Tweet  Cosine Similarity to \"#prep\"\n",
       "0                           #truvada                      0.725261\n",
       "1                             975901                      0.681698\n",
       "2                             939037                      0.674932\n",
       "3                            1048155                      0.672318\n",
       "4               #anothereffinbreakup                      0.669275\n",
       "5                        #studioprep                      0.669178\n",
       "6                            1063243                      0.665931\n",
       "7                            1021473                      0.658816\n",
       "8                             959708                      0.657086\n",
       "9                             920222                      0.648606"
      ]
     },
     "execution_count": 12,
     "metadata": {},
     "output_type": "execute_result"
    }
   ],
   "source": [
    "new_vecs = model.docvecs.most_similar(['#prep'], topn=10)\n",
    "df_hash_prep = pd.DataFrame(data=new_vecs, columns=['Related Related Hashtag/User/Tweet', 'Cosine Similarity to \\\"#prep\\\"'])\n",
    "df_hash_prep"
   ]
  },
  {
   "cell_type": "code",
   "execution_count": 13,
   "metadata": {
    "collapsed": false
   },
   "outputs": [
    {
     "data": {
      "text/plain": [
       "Document(words=['#', 'krtebireysyle', 'if', 'you', 'see', 'this', '13', 'symptoms', '.', 'do', 'hiv', 'test', 'immediately', '.', 'please', 'read'], tags=[603177, 'user--#KFB_Mz_Sope', '#kürtçebirşeysöyle'])"
      ]
     },
     "execution_count": 13,
     "metadata": {},
     "output_type": "execute_result"
    }
   ],
   "source": [
    "# note, this tweet is popular, warning about 13 signs which indicate that you need HIV testing.\n",
    "# We see evidence of this populat tweet-retweet in both DTM and Doc2Vec:\n",
    "#\n",
    "# Document(words=['#', 'krtebireysyle', 'if', 'you', 'see', 'this', '13',\n",
    "# 'symptoms', '.', 'do', 'hiv', 'test', 'immediately', '.', 'please', 'read'],\n",
    "# tags=[603177, '#KFB_Mz_Sope', 'kürtçebirşeysöyle'])\n",
    "#\n",
    "alldocs[603177]"
   ]
  },
  {
   "cell_type": "code",
   "execution_count": 14,
   "metadata": {
    "collapsed": false
   },
   "outputs": [
    {
     "data": {
      "text/html": [
       "<div>\n",
       "<table border=\"1\" class=\"dataframe\">\n",
       "  <thead>\n",
       "    <tr style=\"text-align: right;\">\n",
       "      <th></th>\n",
       "      <th>Related Related Hashtag/User/Tweet</th>\n",
       "      <th>Cosine Similarity to \"#imtesting\"</th>\n",
       "    </tr>\n",
       "  </thead>\n",
       "  <tbody>\n",
       "    <tr>\n",
       "      <th>0</th>\n",
       "      <td>#hiv</td>\n",
       "      <td>0.833642</td>\n",
       "    </tr>\n",
       "    <tr>\n",
       "      <th>1</th>\n",
       "      <td>#hivawareness</td>\n",
       "      <td>0.759361</td>\n",
       "    </tr>\n",
       "    <tr>\n",
       "      <th>2</th>\n",
       "      <td>311241</td>\n",
       "      <td>0.697889</td>\n",
       "    </tr>\n",
       "    <tr>\n",
       "      <th>3</th>\n",
       "      <td>#iknowkati</td>\n",
       "      <td>0.697414</td>\n",
       "    </tr>\n",
       "    <tr>\n",
       "      <th>4</th>\n",
       "      <td>9568</td>\n",
       "      <td>0.676305</td>\n",
       "    </tr>\n",
       "    <tr>\n",
       "      <th>5</th>\n",
       "      <td>#nbhaad</td>\n",
       "      <td>0.675332</td>\n",
       "    </tr>\n",
       "    <tr>\n",
       "      <th>6</th>\n",
       "      <td>#letsgist</td>\n",
       "      <td>0.673017</td>\n",
       "    </tr>\n",
       "    <tr>\n",
       "      <th>7</th>\n",
       "      <td>#truvada</td>\n",
       "      <td>0.670385</td>\n",
       "    </tr>\n",
       "    <tr>\n",
       "      <th>8</th>\n",
       "      <td>#worldaidsday2015</td>\n",
       "      <td>0.648545</td>\n",
       "    </tr>\n",
       "    <tr>\n",
       "      <th>9</th>\n",
       "      <td>842697</td>\n",
       "      <td>0.648035</td>\n",
       "    </tr>\n",
       "  </tbody>\n",
       "</table>\n",
       "</div>"
      ],
      "text/plain": [
       "  Related Related Hashtag/User/Tweet  Cosine Similarity to \"#imtesting\"\n",
       "0                               #hiv                           0.833642\n",
       "1                      #hivawareness                           0.759361\n",
       "2                             311241                           0.697889\n",
       "3                         #iknowkati                           0.697414\n",
       "4                               9568                           0.676305\n",
       "5                            #nbhaad                           0.675332\n",
       "6                          #letsgist                           0.673017\n",
       "7                           #truvada                           0.670385\n",
       "8                  #worldaidsday2015                           0.648545\n",
       "9                             842697                           0.648035"
      ]
     },
     "execution_count": 14,
     "metadata": {},
     "output_type": "execute_result"
    }
   ],
   "source": [
    "new_vecs = model.docvecs.most_similar(['#imtesting'], topn=10)\n",
    "df_hash_imtesting = pd.DataFrame(data=new_vecs, columns=['Related Related Hashtag/User/Tweet', 'Cosine Similarity to \\\"#imtesting\\\"'])\n",
    "df_hash_imtesting"
   ]
  },
  {
   "cell_type": "markdown",
   "metadata": {},
   "source": [
    "# Figure 4: Related Hashtags and Tweets"
   ]
  },
  {
   "cell_type": "code",
   "execution_count": 15,
   "metadata": {
    "collapsed": false
   },
   "outputs": [
    {
     "name": "stdout",
     "output_type": "stream",
     "text": [
      "PCA explained variance ratio:  [ 0.05813684  0.03571577]\n"
     ]
    }
   ],
   "source": [
    "# related words from above\n",
    "related_words = list(df_hash_truvada.iloc[:,0].values) + \\\n",
    "                list(df_hash_sexwork.iloc[:,0].values) + \\\n",
    "                list(df_hash_prep.iloc[:,0].values) + \\\n",
    "                list(df_hash_imtesting.iloc[:,0].values)\n",
    "\n",
    "# Prepare data matrix\n",
    "X = []\n",
    "text_annotations = []\n",
    "for i, word in enumerate(model.docvecs.doctags):\n",
    "    if (i % 100 == 0 or word in related_words) :\n",
    "        X.append(model.docvecs[word])\n",
    "        if word in related_words:\n",
    "            text_annotations.append(word)\n",
    "        else:\n",
    "            text_annotations.append(\"\")\n",
    "X = np.array(X)\n",
    "\n",
    "# Do k-means on original data matrix\n",
    "kmeans = KMeans(n_clusters=3, random_state=1)\n",
    "kmeans_labels = kmeans.fit_predict(X)\n",
    "\n",
    "# Do PCA\n",
    "pca = PCA(n_components=2, copy=True)\n",
    "pca.fit(X)\n",
    "print(\"PCA explained variance ratio: \", pca.explained_variance_ratio_)\n",
    "pca_comps = pca.transform(X)\n",
    "\n",
    "# Do tSNE\n",
    "tsne = TSNE(n_components=2, random_state=1)\n",
    "tsne_comps = tsne.fit_transform(X)\n",
    "\n",
    "# Scatter plot\n",
    "rand_seed = 0\n",
    "alpha_high = 1.0\n",
    "alpha_low = 0.05\n",
    "down_samp_rate = 0.1\n",
    "plot_lims = None\n",
    "\n",
    "# save PCA plot in 'notebooks' directory (it won't show here in the notebook)\n",
    "scatter_plot(pca_comps[:,0], pca_comps[:,1], alpha_high, alpha_low,\n",
    "            kmeans_labels, text_annotations,\n",
    "            down_samp_rate, \"Fig4a: PCA of Related Hashtags-Users-Tweets\", rand_seed, [0,25,-7,3])\n",
    "\n",
    "# save tSNE plot in 'notebooks' directory (it won't show here in the notebook)\n",
    "scatter_plot(tsne_comps[:,0], tsne_comps[:,1], alpha_high, alpha_low,\n",
    "            kmeans_labels, text_annotations,\n",
    "            down_samp_rate, \"Fig4b: tSNE of Hashtags-Users-Tweets\", rand_seed, [-10,5,-8,12])"
   ]
  },
  {
   "cell_type": "code",
   "execution_count": null,
   "metadata": {
    "collapsed": true
   },
   "outputs": [],
   "source": []
  }
 ],
 "metadata": {
  "kernelspec": {
   "display_name": "Python 3",
   "language": "python",
   "name": "python3"
  },
  "language_info": {
   "codemirror_mode": {
    "name": "ipython",
    "version": 3
   },
   "file_extension": ".py",
   "mimetype": "text/x-python",
   "name": "python",
   "nbconvert_exporter": "python",
   "pygments_lexer": "ipython3",
   "version": "3.4.3"
  }
 },
 "nbformat": 4,
 "nbformat_minor": 0
}
