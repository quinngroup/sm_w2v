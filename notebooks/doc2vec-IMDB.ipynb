{
 "cells": [
  {
   "cell_type": "markdown",
   "metadata": {},
   "source": [
    "# Doc2Vec example\n",
    "\n",
    "adapted from https://github.com/piskvorky/gensim/blob/develop/docs/notebooks/doc2vec-IMDB.ipynb"
   ]
  },
  {
   "cell_type": "code",
   "execution_count": null,
   "metadata": {
    "collapsed": false
   },
   "outputs": [],
   "source": [
    "import json\n",
    "from collections import namedtuple\n",
    "\n",
    "import gensim\n",
    "\n",
    "Document = namedtuple('Document', 'words tags')\n",
    "\n",
    "alldocs = []  # will hold all docs in original order\n",
    "with open('../data/c_twitter.json') as f_in:\n",
    "    for line_no, line in enumerate(f_in):\n",
    "        c_twt = json.loads(line)\n",
    "        # c_twt: {'weeknum': str, 'c_text': str, 'tags': [str]}\n",
    "        words = c_twt['c_text'].split()\n",
    "        tags = [line_no] + c_twt['tags']\n",
    "        alldocs.append(Document(words, tags))\n"
   ]
  },
  {
   "cell_type": "code",
   "execution_count": null,
   "metadata": {
    "collapsed": false
   },
   "outputs": [],
   "source": [
    "import multiprocessing\n",
    "\n",
    "from gensim.models import Doc2Vec\n",
    "import gensim.models.doc2vec\n",
    "\n",
    "\n",
    "cores = multiprocessing.cpu_count()\n",
    "assert gensim.models.doc2vec.FAST_VERSION > -1, \"this will be painfully slow otherwise\"\n",
    "\n",
    "simple_models = [\n",
    "    # PV-DM w/concatenation - window=5 (both sides) approximates paper's 10-word total window size\n",
    "    Doc2Vec(dm=1, dm_concat=1, size=100, window=5, negative=5, hs=0, min_count=2, workers=cores,\n",
    "           max_vocab_size=10000),\n",
    "    # PV-DBOW \n",
    "    Doc2Vec(dm=0, size=100, negative=5, hs=0, min_count=2, workers=cores,\n",
    "           max_vocab_size=10000),\n",
    "    # PV-DM w/average\n",
    "    Doc2Vec(dm=1, dm_mean=1, size=100, window=10, negative=5, hs=0, min_count=2, workers=cores,\n",
    "           max_vocab_size=10000),\n",
    "]\n",
    "\n",
    "# currently running out of memory\n",
    "simple_models[0].build_vocab(alldocs)\n",
    "print(simple_models[0])\n",
    "for model in simple_models[1:]:\n",
    "    model.reset_from(simple_models[0])\n",
    "    print(model)\n"
   ]
  },
  {
   "cell_type": "code",
   "execution_count": null,
   "metadata": {
    "collapsed": false
   },
   "outputs": [],
   "source": [
    "passes = 3\n",
    "\n",
    "for epoch in range(passes):\n",
    "    for model in simple_models:\n",
    "        model.train(alldocs)\n",
    "        print(epoch, model.most_similar('hiv', topn=10))"
   ]
  },
  {
   "cell_type": "code",
   "execution_count": null,
   "metadata": {
    "collapsed": true
   },
   "outputs": [],
   "source": [
    "# do visualization/clustering of users\n",
    "# do visualization/clustering of hashtags\n",
    "# do visualization/clustering of documents"
   ]
  }
 ],
 "metadata": {
  "kernelspec": {
   "display_name": "Python 3",
   "language": "python",
   "name": "python3"
  },
  "language_info": {
   "codemirror_mode": {
    "name": "ipython",
    "version": 3
   },
   "file_extension": ".py",
   "mimetype": "text/x-python",
   "name": "python",
   "nbconvert_exporter": "python",
   "pygments_lexer": "ipython3",
   "version": "3.4.3"
  }
 },
 "nbformat": 4,
 "nbformat_minor": 0
}
