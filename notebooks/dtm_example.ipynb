{
 "cells": [
  {
   "cell_type": "markdown",
   "metadata": {},
   "source": [
    "# DTM (Figures 1, 2 and Tables 1, 2)\n",
    "\n",
    "This is adapted (partially) from https://github.com/piskvorky/gensim/blob/develop/docs/notebooks/dtm_example.ipynb\n"
   ]
  },
  {
   "cell_type": "code",
   "execution_count": 1,
   "metadata": {
    "collapsed": false
   },
   "outputs": [
    {
     "data": {
      "text/plain": [
       "[23389,\n",
       " 35897,\n",
       " 95893,\n",
       " 35265,\n",
       " 24185,\n",
       " 8876,\n",
       " 22790,\n",
       " 23839,\n",
       " 24104,\n",
       " 22814,\n",
       " 10384,\n",
       " 44604,\n",
       " 24929]"
      ]
     },
     "execution_count": 1,
     "metadata": {},
     "output_type": "execute_result"
    }
   ],
   "source": [
    "from gensim import corpora, utils\n",
    "from gensim.models.wrappers.dtmmodel import DtmModel\n",
    "import numpy as np\n",
    "import pandas as pd\n",
    "\n",
    "%matplotlib inline\n",
    "\n",
    "train = False\n",
    "\n",
    "import json\n",
    "import re\n",
    "\n",
    "from gensim.parsing.preprocessing import STOPWORDS\n",
    "\n",
    "# script author defined stop words\n",
    "STOPWORDS_ = ['rt', '', 'httpst', 'amp']\n",
    "\n",
    "# load the tweets\n",
    "documents = []\n",
    "time_seq = []\n",
    "weeknum = ''\n",
    "ds_fact = 3\n",
    "with open('../data/c_twitter.json') as f_in:\n",
    "    for i, l in enumerate(f_in):\n",
    "        if (i % ds_fact == 0):\n",
    "            index =+ 1\n",
    "            c_twt = json.loads(l)\n",
    "\n",
    "            # remove punctuation and stopwords for this analysis\n",
    "            words = re.sub(r'[^a-zA-Z\\s]', '', c_twt['text'])\n",
    "            words = words.split()\n",
    "            words = [w for w in words if (w not in STOPWORDS and w not in STOPWORDS_)]\n",
    "            words = [bytes(w, 'utf-8') for w in words]\n",
    "\n",
    "            # c_twt: {'weeknum': str, 'c_text': str, 'tags': [str]}\n",
    "            documents.append(words)\n",
    "\n",
    "            if weeknum != c_twt['weeknum']:\n",
    "                time_seq.append(i // ds_fact)\n",
    "                weeknum = c_twt['weeknum']\n",
    "            \n",
    "time_seq.append(len(documents))\n",
    "y = time_seq[1:] + [0]\n",
    "x = time_seq[:]\n",
    "time_seq = []\n",
    "for x, y in zip(x, y):\n",
    "    time_seq.append(y - x)\n",
    "\n",
    "del time_seq[-1]\n",
    "time_seq"
   ]
  },
  {
   "cell_type": "code",
   "execution_count": 2,
   "metadata": {
    "collapsed": false
   },
   "outputs": [
    {
     "data": {
      "text/plain": [
       "396969"
      ]
     },
     "execution_count": 2,
     "metadata": {},
     "output_type": "execute_result"
    }
   ],
   "source": [
    "from gensim.models import TfidfModel\n",
    "\n",
    "dictionary = corpora.Dictionary(documents)\n",
    "dictionary.filter_extremes(no_below=10, no_above=0.3, keep_n=100000)\n",
    "corpus = [dictionary.doc2bow(doc) for doc in documents]\n",
    "\n",
    "len(corpus)"
   ]
  },
  {
   "cell_type": "code",
   "execution_count": 3,
   "metadata": {
    "collapsed": false
   },
   "outputs": [
    {
     "data": {
      "text/plain": [
       "[(1043, 1), (7881, 1), (8959, 1), (13827, 1), (14942, 1)]"
      ]
     },
     "execution_count": 3,
     "metadata": {},
     "output_type": "execute_result"
    }
   ],
   "source": [
    "# tfidf = TfidfModel(corpus)\n",
    "# corpus = tfidf[corpus]\n",
    "corpus[0]"
   ]
  },
  {
   "cell_type": "code",
   "execution_count": null,
   "metadata": {
    "collapsed": false
   },
   "outputs": [],
   "source": []
  },
  {
   "cell_type": "markdown",
   "metadata": {},
   "source": [
    "# Train model (or load model from file)"
   ]
  },
  {
   "cell_type": "code",
   "execution_count": 4,
   "metadata": {
    "collapsed": false,
    "scrolled": true
   },
   "outputs": [],
   "source": [
    "if train:\n",
    "    dtm_binary_path = '/high_spd_work/sm_w2v/tools/dtm/dtm/dtm'\n",
    "    model = DtmModel(dtm_binary_path, corpus, time_seq, num_topics=10,\n",
    "                     id2word=dictionary, initialize_lda=True, rng_seed=0)\n",
    "    model.save('../models/dtm_example.model')\n",
    "else:\n",
    "    model = DtmModel.load('../models/dtm_example.model')"
   ]
  },
  {
   "cell_type": "code",
   "execution_count": null,
   "metadata": {
    "collapsed": false
   },
   "outputs": [],
   "source": []
  },
  {
   "cell_type": "markdown",
   "metadata": {},
   "source": [
    "# Figure 1, 2 and Table 1, 2: Dynamic Topic Modeling\n",
    "\n",
    "I'm proposing that in figures 1 and 2, we pick 2 topics from the Dynamic Topic Model, and describe the progression in time of these 2 topics with time series graphs, and tables 1 and 2 will be top 10 tables of these same topics over time\n",
    "\n",
    "\n",
    "Topic ID's 8, 7 and 3 are all interesting"
   ]
  },
  {
   "cell_type": "code",
   "execution_count": 5,
   "metadata": {
    "collapsed": false
   },
   "outputs": [],
   "source": [
    "# This cell just gets the week nums (YYYY-WW)\n",
    "\n",
    "def make_weeknums():\n",
    "    # first  week is 2015-47\n",
    "    week = 47\n",
    "    year = 2015\n",
    "    weeknums = []\n",
    "    for i in range(len(model.time_slices)):\n",
    "        weeknums.append(str(year) + '-' + str(week))\n",
    "        week = week + 1\n",
    "\n",
    "        if week > 53:\n",
    "            year = year + 1\n",
    "            week = 1\n",
    "    \n",
    "    return weeknums\n",
    "\n",
    "weeknums = make_weeknums()"
   ]
  },
  {
   "cell_type": "markdown",
   "metadata": {},
   "source": [
    "# Table 1: top 10 words associated with topic ID 3 over time\n",
    "\n",
    "note how 'prep' is absent from top ten in the beginning, then increases over time"
   ]
  },
  {
   "cell_type": "code",
   "execution_count": 6,
   "metadata": {
    "collapsed": false
   },
   "outputs": [
    {
     "name": "stdout",
     "output_type": "stream",
     "text": [
      "--- time slice:  0 \n",
      "\n",
      "   Probability        Word\n",
      "0     0.048129       jenny\n",
      "1     0.047085    mccarthy\n",
      "2     0.016566        pill\n",
      "3     0.016078        drug\n",
      "4     0.012751     prevent\n",
      "5     0.012399  prevention\n",
      "6     0.011869      status\n",
      "7     0.011176         gay\n",
      "8     0.009970     truvada\n",
      "9     0.009640      people\n",
      "\n",
      "--- time slice:  1 \n",
      "\n",
      "   Probability        Word\n",
      "0     0.017688        pill\n",
      "1     0.017497       jenny\n",
      "2     0.017402        drug\n",
      "3     0.016490    mccarthy\n",
      "4     0.013641     prevent\n",
      "5     0.013558  prevention\n",
      "6     0.012534      status\n",
      "7     0.011520         gay\n",
      "8     0.011034     truvada\n",
      "9     0.010761        prep\n",
      "\n",
      "--- time slice:  2 \n",
      "\n",
      "   Probability        Word\n",
      "0     0.018445        drug\n",
      "1     0.017435        pill\n",
      "2     0.013850  prevention\n",
      "3     0.013679      status\n",
      "4     0.013076     prevent\n",
      "5     0.011979        prep\n",
      "6     0.011764     truvada\n",
      "7     0.009553       blood\n",
      "8     0.009384        aids\n",
      "9     0.009383      people\n",
      "\n",
      "--- time slice:  3 \n",
      "\n",
      "   Probability        Word\n",
      "0     0.021354        drug\n",
      "1     0.016050        pill\n",
      "2     0.014829      status\n",
      "3     0.012857  prevention\n",
      "4     0.012696        prep\n",
      "5     0.011964     truvada\n",
      "6     0.011656     prevent\n",
      "7     0.010475        aids\n",
      "8     0.010156       blood\n",
      "9     0.009552      africa\n",
      "\n",
      "--- time slice:  4 \n",
      "\n",
      "   Probability        Word\n",
      "0     0.024692        drug\n",
      "1     0.014087        pill\n",
      "2     0.013546       blood\n",
      "3     0.013118        prep\n",
      "4     0.011187      status\n",
      "5     0.011133     truvada\n",
      "6     0.010966  prevention\n",
      "7     0.010438        aids\n",
      "8     0.009983     prevent\n",
      "9     0.009906      africa\n",
      "\n",
      "--- time slice:  5 \n",
      "\n",
      "   Probability        Word\n",
      "0     0.026006        drug\n",
      "1     0.018732       blood\n",
      "2     0.012703        prep\n",
      "3     0.011814        pill\n",
      "4     0.009819        aids\n",
      "5     0.009604     truvada\n",
      "6     0.009422      people\n",
      "7     0.009180      africa\n",
      "8     0.008676  prevention\n",
      "9     0.008665     hivaids\n",
      "\n",
      "--- time slice:  6 \n",
      "\n",
      "   Probability     Word\n",
      "0     0.024727     drug\n",
      "1     0.020497    blood\n",
      "2     0.012553  hivaids\n",
      "3     0.011774     prep\n",
      "4     0.011210  malaria\n",
      "5     0.009643   people\n",
      "6     0.009632      end\n",
      "7     0.009535     pill\n",
      "8     0.009249     aids\n",
      "9     0.009004    study\n",
      "\n",
      "--- time slice:  7 \n",
      "\n",
      "   Probability     Word\n",
      "0     0.023919     drug\n",
      "1     0.019068    blood\n",
      "2     0.015925     sotu\n",
      "3     0.014905  malaria\n",
      "4     0.014610  hivaids\n",
      "5     0.014156      end\n",
      "6     0.011527    study\n",
      "7     0.010549     prep\n",
      "8     0.010490    track\n",
      "9     0.010203  scourge\n",
      "\n",
      "--- time slice:  8 \n",
      "\n",
      "   Probability     Word\n",
      "0     0.029395     drug\n",
      "1     0.020120    study\n",
      "2     0.014333    blood\n",
      "3     0.013896  malaria\n",
      "4     0.010984     aids\n",
      "5     0.010688  hivaids\n",
      "6     0.010427     prep\n",
      "7     0.010291   people\n",
      "8     0.009361      key\n",
      "9     0.008823    finds\n",
      "\n",
      "--- time slice:  9 \n",
      "\n",
      "   Probability       Word\n",
      "0     0.035283       drug\n",
      "1     0.029455      study\n",
      "2     0.021901        key\n",
      "3     0.015606      finds\n",
      "4     0.015225  resistant\n",
      "5     0.014161       aids\n",
      "6     0.010708       prep\n",
      "7     0.010448     people\n",
      "8     0.010412      blood\n",
      "9     0.010335        man\n",
      "\n",
      "--- time slice:  10 \n",
      "\n",
      "   Probability       Word\n",
      "0     0.029929       drug\n",
      "1     0.019696       aids\n",
      "2     0.019560      study\n",
      "3     0.014203        key\n",
      "4     0.012666        man\n",
      "5     0.012391       prep\n",
      "6     0.011409     people\n",
      "7     0.010677      finds\n",
      "8     0.009851        gay\n",
      "9     0.009374  resistant\n",
      "\n",
      "--- time slice:  11 \n",
      "\n",
      "   Probability    Word\n",
      "0     0.025707    aids\n",
      "1     0.021260    drug\n",
      "2     0.015289     gay\n",
      "3     0.013778    prep\n",
      "4     0.012695     man\n",
      "5     0.012519  people\n",
      "6     0.010413   study\n",
      "7     0.009047   woman\n",
      "8     0.007385   blood\n",
      "9     0.007270     key\n",
      "\n",
      "--- time slice:  12 \n",
      "\n",
      "   Probability                Word\n",
      "0     0.029907                aids\n",
      "1     0.016926                 gay\n",
      "2     0.016898                drug\n",
      "3     0.014163              people\n",
      "4     0.014145                prep\n",
      "5     0.013465                 man\n",
      "6     0.010078               woman\n",
      "7     0.010012            donating\n",
      "8     0.009753  humanitymsgpassion\n",
      "9     0.009720               wheel\n",
      "\n"
     ]
    }
   ],
   "source": [
    "for t_index in range(len(model.time_slices)):\n",
    "    print(\"--- time slice: \", t_index, \"\\n\")\n",
    "    print(pd.DataFrame(model.show_topic(topicid=3, time=t_index, topn=10), columns=['Probability', 'Word']))\n",
    "    print()"
   ]
  },
  {
   "cell_type": "markdown",
   "metadata": {},
   "source": [
    "# Figure 1: key terms associated with ID 3 over time\n",
    "\n",
    "note how 'prep' is absent from top ten in the beginning, then increases over time"
   ]
  },
  {
   "cell_type": "code",
   "execution_count": null,
   "metadata": {
    "collapsed": false
   },
   "outputs": [],
   "source": []
  },
  {
   "cell_type": "code",
   "execution_count": 7,
   "metadata": {
    "collapsed": false
   },
   "outputs": [
    {
     "data": {
      "image/png": "[encoded data removed]",
      "text/plain": [
       "<matplotlib.figure.Figure at 0x7fdfce9c2208>"
      ]
     },
     "metadata": {},
     "output_type": "display_data"
    }
   ],
   "source": [
    "data = []\n",
    "for t_index in range(len(model.time_slices)):\n",
    "    words = model.show_topic(topicid=3, time=t_index, topn=1000)\n",
    "        \n",
    "    columns = ['prep', 'hivaids', 'truvada', 'prevention']\n",
    "    row = []\n",
    "    for col in columns:\n",
    "        cell = [w[0] for w in words if w[1] == col]\n",
    "        if not cell:\n",
    "            cell = .000001\n",
    "        else:\n",
    "            cell = cell[0]\n",
    "        row.append(cell)\n",
    "    data.append(row)\n",
    "    \n",
    "df = pd.DataFrame(data, columns=columns, index=weeknums)\n",
    "ax = df.plot(title='Fig1: Time Series of DTM topic 3')\n",
    "fig = ax.get_figure()\n",
    "fig.savefig('Fig1: Time Series of DTM topic 3.pdf', format='pdf')"
   ]
  },
  {
   "cell_type": "markdown",
   "metadata": {},
   "source": [
    "# Table 2: top 10 words associated with topic ID 5 over time\n"
   ]
  },
  {
   "cell_type": "code",
   "execution_count": 8,
   "metadata": {
    "collapsed": false
   },
   "outputs": [
    {
     "name": "stdout",
     "output_type": "stream",
     "text": [
      "--- time slice:  0 \n",
      "\n",
      "   Probability             Word\n",
      "0     0.045626         infected\n",
      "1     0.037148        infection\n",
      "2     0.035391           people\n",
      "3     0.033394     worldaidsday\n",
      "4     0.026062           living\n",
      "5     0.024585         millions\n",
      "6     0.022461             aids\n",
      "7     0.021590             save\n",
      "8     0.020112              wad\n",
      "9     0.019506  treatmentforall\n",
      "\n",
      "--- time slice:  1 \n",
      "\n",
      "   Probability             Word\n",
      "0     0.043330        infection\n",
      "1     0.040707         infected\n",
      "2     0.033781           people\n",
      "3     0.032520     worldaidsday\n",
      "4     0.024059           living\n",
      "5     0.022914            signs\n",
      "6     0.022131         millions\n",
      "7     0.021241             aids\n",
      "8     0.020627             save\n",
      "9     0.020066  treatmentforall\n",
      "\n",
      "--- time slice:  2 \n",
      "\n",
      "   Probability             Word\n",
      "0     0.060310        infection\n",
      "1     0.037818            signs\n",
      "2     0.036390         infected\n",
      "3     0.027458     worldaidsday\n",
      "4     0.026718           people\n",
      "5     0.018914           living\n",
      "6     0.018511  treatmentforall\n",
      "7     0.017513             save\n",
      "8     0.017417             aids\n",
      "9     0.017111         millions\n",
      "\n",
      "--- time slice:  3 \n",
      "\n",
      "   Probability          Word\n",
      "0     0.099688     infection\n",
      "1     0.075304         signs\n",
      "2     0.037824      infected\n",
      "3     0.025800           men\n",
      "4     0.024487        female\n",
      "5     0.023816       student\n",
      "6     0.021852       revenge\n",
      "7     0.012994  worldaidsday\n",
      "8     0.011979        people\n",
      "9     0.009930         share\n",
      "\n",
      "--- time slice:  4 \n",
      "\n",
      "   Probability        Word\n",
      "0     0.105968   infection\n",
      "1     0.091868       signs\n",
      "2     0.036986    infected\n",
      "3     0.032590      female\n",
      "4     0.031971         men\n",
      "5     0.031322     student\n",
      "6     0.030930     revenge\n",
      "7     0.012051  experience\n",
      "8     0.011708        data\n",
      "9     0.010860        read\n",
      "\n",
      "--- time slice:  5 \n",
      "\n",
      "   Probability        Word\n",
      "0     0.095448   infection\n",
      "1     0.089532       signs\n",
      "2     0.034460    infected\n",
      "3     0.025474  experience\n",
      "4     0.025197         men\n",
      "5     0.024693        read\n",
      "6     0.024621      female\n",
      "7     0.024184     student\n",
      "8     0.022162     revenge\n",
      "9     0.019770     checkup\n",
      "\n",
      "--- time slice:  6 \n",
      "\n",
      "   Probability        Word\n",
      "0     0.081571   infection\n",
      "1     0.079077       signs\n",
      "2     0.038791        read\n",
      "3     0.033961    infected\n",
      "4     0.030584  experience\n",
      "5     0.024188        life\n",
      "6     0.018695         men\n",
      "7     0.017881        joke\n",
      "8     0.017400     student\n",
      "9     0.017170      female\n",
      "\n",
      "--- time slice:  7 \n",
      "\n",
      "   Probability        Word\n",
      "0     0.059356   infection\n",
      "1     0.057630        read\n",
      "2     0.057499       signs\n",
      "3     0.050922        life\n",
      "4     0.041216        joke\n",
      "5     0.037973        dont\n",
      "6     0.034313    symptoms\n",
      "7     0.033051    infected\n",
      "8     0.021651  experience\n",
      "9     0.020934     couples\n",
      "\n",
      "--- time slice:  8 \n",
      "\n",
      "   Probability        Word\n",
      "0     0.077756        life\n",
      "1     0.074630        dont\n",
      "2     0.073417        read\n",
      "3     0.069446        joke\n",
      "4     0.069298    symptoms\n",
      "5     0.038878   infection\n",
      "6     0.038425       signs\n",
      "7     0.031460    infected\n",
      "8     0.014109  experience\n",
      "9     0.011957         men\n",
      "\n",
      "--- time slice:  9 \n",
      "\n",
      "   Probability       Word\n",
      "0     0.074029       dont\n",
      "1     0.068037       life\n",
      "2     0.061933       joke\n",
      "3     0.053991   symptoms\n",
      "4     0.051095       read\n",
      "5     0.039564   infected\n",
      "6     0.033503      signs\n",
      "7     0.031872  infection\n",
      "8     0.017112        men\n",
      "9     0.015081    student\n",
      "\n",
      "--- time slice:  10 \n",
      "\n",
      "   Probability       Word\n",
      "0     0.053089   infected\n",
      "1     0.047687       dont\n",
      "2     0.039340       life\n",
      "3     0.035254       joke\n",
      "4     0.031399      signs\n",
      "5     0.030069        men\n",
      "6     0.026935  infection\n",
      "7     0.026844    student\n",
      "8     0.025568     female\n",
      "9     0.024874   positive\n",
      "\n",
      "--- time slice:  11 \n",
      "\n",
      "   Probability       Word\n",
      "0     0.058609   infected\n",
      "1     0.043376        men\n",
      "2     0.039595    student\n",
      "3     0.039097   positive\n",
      "4     0.037158     female\n",
      "5     0.034434    revenge\n",
      "6     0.026570      signs\n",
      "7     0.025167       dont\n",
      "8     0.021665      check\n",
      "9     0.020530  infection\n",
      "\n",
      "--- time slice:  12 \n",
      "\n",
      "   Probability      Word\n",
      "0     0.057762  infected\n",
      "1     0.053676  positive\n",
      "2     0.045841       men\n",
      "3     0.040599   student\n",
      "4     0.037911    female\n",
      "5     0.035273   revenge\n",
      "6     0.035223      like\n",
      "7     0.024219      band\n",
      "8     0.023786      stay\n",
      "9     0.023219     signs\n",
      "\n"
     ]
    }
   ],
   "source": [
    "for t_index in range(len(model.time_slices)):\n",
    "    print(\"--- time slice: \", t_index, \"\\n\")\n",
    "    print(pd.DataFrame(model.show_topic(topicid=5, time=t_index, topn=10), columns=['Probability', 'Word']))\n",
    "    print()"
   ]
  },
  {
   "cell_type": "code",
   "execution_count": 9,
   "metadata": {
    "collapsed": false
   },
   "outputs": [
    {
     "data": {
      "image/png": "[encoded data removed]",
      "text/plain": [
       "<matplotlib.figure.Figure at 0x7fdfce63de48>"
      ]
     },
     "metadata": {},
     "output_type": "display_data"
    }
   ],
   "source": [
    "# needs to be re-run. Use tf-idf\n",
    "data = []\n",
    "for t_index in range(len(model.time_slices)):\n",
    "    words = model.show_topic(topicid=5, time=t_index, topn=1000)\n",
    "        \n",
    "    columns = ['worldaidsday', 'millions', 'people', 'treatmentforall', 'living']\n",
    "    row = []\n",
    "    for col in columns:\n",
    "        cell = [w[0] for w in words if w[1] == col]\n",
    "        if not cell:\n",
    "            cell = .000001\n",
    "        else:\n",
    "            cell = cell[0]\n",
    "        row.append(cell)\n",
    "    data.append(row)\n",
    "\n",
    "\n",
    "df = pd.DataFrame(data, columns=columns, index=weeknums)\n",
    "ax = df.plot(title='Fig2: Time Series of DTM topic 5')\n",
    "fig = ax.get_figure()\n",
    "fig.savefig('Fig2: Time Series of DTM topic 5.pdf', format='pdf')"
   ]
  },
  {
   "cell_type": "code",
   "execution_count": null,
   "metadata": {
    "collapsed": true
   },
   "outputs": [],
   "source": []
  }
 ],
 "metadata": {
  "kernelspec": {
   "display_name": "Python 3",
   "language": "python",
   "name": "python3"
  },
  "language_info": {
   "codemirror_mode": {
    "name": "ipython",
    "version": 3
   },
   "file_extension": ".py",
   "mimetype": "text/x-python",
   "name": "python",
   "nbconvert_exporter": "python",
   "pygments_lexer": "ipython3",
   "version": "3.4.3"
  }
 },
 "nbformat": 4,
 "nbformat_minor": 0
}
