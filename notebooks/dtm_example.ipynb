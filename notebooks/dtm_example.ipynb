{
 "cells": [
  {
   "cell_type": "markdown",
   "metadata": {},
   "source": [
    "# DTM Example\n",
    "\n",
    "This is adapted from https://github.com/piskvorky/gensim/blob/develop/docs/notebooks/dtm_example.ipynb\n"
   ]
  },
  {
   "cell_type": "code",
   "execution_count": 1,
   "metadata": {
    "collapsed": true
   },
   "outputs": [],
   "source": [
    "from gensim import corpora, utils\n",
    "from gensim.models.wrappers.dtmmodel import DtmModel\n",
    "import numpy as np"
   ]
  },
  {
   "cell_type": "code",
   "execution_count": 2,
   "metadata": {
    "collapsed": false
   },
   "outputs": [
    {
     "name": "stdout",
     "output_type": "stream",
     "text": [
      "[6, 506646, 275068, 444208, 1019821, 201988, 68647, 216911, 923284, 536766, 268404, 123992, 413534, 256201]\n"
     ]
    }
   ],
   "source": [
    "import json\n",
    "\n",
    "# load the tweets\n",
    "documents = []\n",
    "time_seq = []\n",
    "weeknum = ''\n",
    "with open('../data/c_twitter.json') as f_in:\n",
    "    for i, l in enumerate(f_in):\n",
    "        c_twt = json.loads(l)\n",
    "        # c_twt: {'weeknum': str, 'c_text': str, 'tags': [str]}\n",
    "        documents.append(bytes(c_twt['c_text'], 'utf-8').split())\n",
    "        \n",
    "        if weeknum != c_twt['weeknum']:\n",
    "            time_seq.append(i)\n",
    "            weeknum = c_twt['weeknum']\n",
    "            \n",
    "time_seq = time_seq[1:]\n",
    "time_seq.append(len(documents))\n",
    "\n",
    "acc = 0\n",
    "for i in range(1, len(time_seq)):\n",
    "    acc = acc + time_seq[i-1]\n",
    "    time_seq[i] = time_seq[i] - acc\n",
    "\n",
    "print(time_seq)"
   ]
  },
  {
   "cell_type": "code",
   "execution_count": null,
   "metadata": {
    "collapsed": false
   },
   "outputs": [],
   "source": [
    "class DTMcorpus(corpora.textcorpus.TextCorpus):\n",
    "\n",
    "    def get_texts(self):\n",
    "        return self.input\n",
    "\n",
    "    def __len__(self):\n",
    "        return len(self.input)\n",
    "\n",
    "corpus = DTMcorpus(documents)"
   ]
  },
  {
   "cell_type": "code",
   "execution_count": null,
   "metadata": {
    "collapsed": false,
    "scrolled": true
   },
   "outputs": [],
   "source": [
    "dtm_binary_path = '/high_spd_work/sm_w2v/tools/dtm/dtm/dtm'\n",
    "model = DtmModel(dtm_binary_path, corpus, time_seq, num_topics=10,\n",
    "                 id2word=corpus.dictionary, initialize_lda=True)"
   ]
  },
  {
   "cell_type": "code",
   "execution_count": null,
   "metadata": {
    "collapsed": true
   },
   "outputs": [],
   "source": [
    "topics = model.show_topic(topicid=1, time=1, topn=10)"
   ]
  },
  {
   "cell_type": "code",
   "execution_count": null,
   "metadata": {
    "collapsed": true
   },
   "outputs": [],
   "source": [
    "topics"
   ]
  },
  {
   "cell_type": "code",
   "execution_count": null,
   "metadata": {
    "collapsed": true
   },
   "outputs": [],
   "source": [
    "(0.018813206959361853, u'testing'),\n",
    " (0.015839319873249415, u'complex'),\n",
    " (0.014777035780691688, u'skills'),\n",
    " (0.014419178983218076, u'management'),\n",
    " (0.014223694533922158, u'solutions'),\n",
    " (0.013194647368008778, u'technical'),\n",
    " (0.012295057851677732, u'models'),\n",
    " (0.011714562194759155, u'technologies'),\n",
    " (0.011274296981488501, u'engineering'),\n",
    " (0.011253364143527822, u'reviews')]"
   ]
  },
  {
   "cell_type": "code",
   "execution_count": null,
   "metadata": {
    "collapsed": true
   },
   "outputs": [],
   "source": [
    "# currently running out of memory\n",
    "# do visualization of topics over time"
   ]
  }
 ],
 "metadata": {
  "kernelspec": {
   "display_name": "Python 3",
   "language": "python",
   "name": "python3"
  },
  "language_info": {
   "codemirror_mode": {
    "name": "ipython",
    "version": 3
   },
   "file_extension": ".py",
   "mimetype": "text/x-python",
   "name": "python",
   "nbconvert_exporter": "python",
   "pygments_lexer": "ipython3",
   "version": "3.4.3"
  }
 },
 "nbformat": 4,
 "nbformat_minor": 0
}
