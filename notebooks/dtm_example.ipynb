{
 "cells": [
  {
   "cell_type": "markdown",
   "metadata": {},
   "source": [
    "# DTM (Figures 1, 2 and Tables 1, 2)\n",
    "\n",
    "This is adapted (partially) from https://github.com/piskvorky/gensim/blob/develop/docs/notebooks/dtm_example.ipynb\n"
   ]
  },
  {
   "cell_type": "code",
   "execution_count": 1,
   "metadata": {
    "collapsed": false
   },
   "outputs": [
    {
     "data": {
      "text/plain": [
       "[23389,\n",
       " 35897,\n",
       " 95893,\n",
       " 35265,\n",
       " 24185,\n",
       " 8876,\n",
       " 22790,\n",
       " 23839,\n",
       " 24104,\n",
       " 22814,\n",
       " 10384,\n",
       " 44604,\n",
       " 24929]"
      ]
     },
     "execution_count": 1,
     "metadata": {},
     "output_type": "execute_result"
    }
   ],
   "source": [
    "from gensim import corpora, utils\n",
    "from gensim.models.wrappers.dtmmodel import DtmModel\n",
    "import numpy as np\n",
    "import pandas as pd\n",
    "\n",
    "%matplotlib inline\n",
    "\n",
    "train = True\n",
    "\n",
    "import json\n",
    "import re\n",
    "\n",
    "from gensim.parsing.preprocessing import STOPWORDS\n",
    "\n",
    "# script author defined stop words\n",
    "STOPWORDS_ = ['rt', '', 'httpst', 'amp']\n",
    "\n",
    "# load the tweets\n",
    "documents = []\n",
    "time_seq = []\n",
    "weeknum = ''\n",
    "ds_fact = 3\n",
    "with open('../data/c_twitter.json') as f_in:\n",
    "    for i, l in enumerate(f_in):\n",
    "        if (i % ds_fact == 0):\n",
    "            index =+ 1\n",
    "            c_twt = json.loads(l)\n",
    "\n",
    "            # remove punctuation and stopwords for this analysis\n",
    "            words = re.sub(r'[^a-zA-Z\\s]', '', c_twt['text'])\n",
    "            words = words.split()\n",
    "            words = [w for w in words if (w not in STOPWORDS and w not in STOPWORDS_)]\n",
    "            words = [bytes(w, 'utf-8') for w in words]\n",
    "\n",
    "            # c_twt: {'weeknum': str, 'c_text': str, 'tags': [str]}\n",
    "            documents.append(words)\n",
    "\n",
    "            if weeknum != c_twt['weeknum']:\n",
    "                time_seq.append(i // ds_fact)\n",
    "                weeknum = c_twt['weeknum']\n",
    "            \n",
    "time_seq.append(len(documents))\n",
    "y = time_seq[1:] + [0]\n",
    "x = time_seq[:]\n",
    "time_seq = []\n",
    "for x, y in zip(x, y):\n",
    "    time_seq.append(y - x)\n",
    "\n",
    "del time_seq[-1]\n",
    "time_seq"
   ]
  },
  {
   "cell_type": "code",
   "execution_count": 2,
   "metadata": {
    "collapsed": false
   },
   "outputs": [
    {
     "data": {
      "text/plain": [
       "396969"
      ]
     },
     "execution_count": 2,
     "metadata": {},
     "output_type": "execute_result"
    }
   ],
   "source": [
    "from gensim.models import TfidfModel\n",
    "\n",
    "dictionary = corpora.Dictionary(documents)\n",
    "dictionary.filter_extremes(no_below=10, no_above=0.3, keep_n=100000)\n",
    "corpus = [dictionary.doc2bow(doc) for doc in documents]\n",
    "# tfidf = TfidfModel(corpus)\n",
    "# corpus = tfidf[corpus]\n",
    "len(corpus)"
   ]
  },
  {
   "cell_type": "code",
   "execution_count": null,
   "metadata": {
    "collapsed": false
   },
   "outputs": [],
   "source": [
    "\n",
    "    "
   ]
  },
  {
   "cell_type": "code",
   "execution_count": null,
   "metadata": {
    "collapsed": false
   },
   "outputs": [],
   "source": []
  },
  {
   "cell_type": "markdown",
   "metadata": {},
   "source": [
    "# Train model (or load model from file)"
   ]
  },
  {
   "cell_type": "code",
   "execution_count": 3,
   "metadata": {
    "collapsed": false,
    "scrolled": true
   },
   "outputs": [],
   "source": [
    "if train:\n",
    "    dtm_binary_path = '/high_spd_work/sm_w2v/tools/dtm/dtm/dtm'\n",
    "    model = DtmModel(dtm_binary_path, corpus, time_seq, num_topics=10,\n",
    "                     id2word=dictionary, initialize_lda=True, rng_seed=0)\n",
    "    model.save('../models/dtm_example.model')\n",
    "else:\n",
    "    model = DtmModel.load('../models/doc2vec.model')"
   ]
  },
  {
   "cell_type": "code",
   "execution_count": 4,
   "metadata": {
    "collapsed": false
   },
   "outputs": [
    {
     "data": {
      "text/plain": [
       "[(0.060388591220170013, 'people'),\n",
       " (0.039051626720875594, 'living'),\n",
       " (0.022705368351089439, 'infection'),\n",
       " (0.017119891259110922, 'million'),\n",
       " (0.011583836551847996, 'positive'),\n",
       " (0.011513688352096445, 'w'),\n",
       " (0.011157288347692959, 'years'),\n",
       " (0.011069641271090582, 'good'),\n",
       " (0.01073306058711308, 'know'),\n",
       " (0.0097316736201440227, 'children'),\n",
       " (0.0093395907818673643, 'morning'),\n",
       " (0.008704366575220222, 'epidemic'),\n",
       " (0.0085875469796188493, 'hivaids'),\n",
       " (0.008586511057642977, 'aids'),\n",
       " (0.0083716882444404388, 'need'),\n",
       " (0.0065327047218084822, 'infected'),\n",
       " (0.0064746877007617306, 'neighbor'),\n",
       " (0.0064263948293922608, 'n'),\n",
       " (0.0060562243349574539, 'russia'),\n",
       " (0.0058065020440871626, 'signs')]"
      ]
     },
     "execution_count": 4,
     "metadata": {},
     "output_type": "execute_result"
    }
   ],
   "source": [
    "topics = model.show_topic(topicid=3, time=11, topn=20)\n",
    "topics"
   ]
  },
  {
   "cell_type": "markdown",
   "metadata": {},
   "source": [
    "# Figure 1, 2 and Table 1, 2: Dynamic Topic Modeling\n",
    "\n",
    "I'm proposing that in figures 1 and 2, we pick 2 topics from the Dynamic Topic Model, and describe the progression in time of these 2 topics with time series graphs, and tables 1 and 2 will be top 10 tables of these same topics over time\n",
    "\n",
    "\n",
    "Topic ID's 8, 7 and 3 are all interesting"
   ]
  },
  {
   "cell_type": "code",
   "execution_count": 5,
   "metadata": {
    "collapsed": true
   },
   "outputs": [],
   "source": [
    "# This cell just gets the week nums (YYYY-WW)\n",
    "def weeknums():\n",
    "    # first  week is 2015-47\n",
    "    week = 47\n",
    "    year = 2015\n",
    "    weeknums = []\n",
    "    for i in range(len(model.time_slices)):\n",
    "        weeknums.append(str(year) + '-' + str(week))\n",
    "        week =+ 1\n",
    "\n",
    "        if week > 53:\n",
    "            year =+ 1\n",
    "            week = 1\n",
    "    return weeknums\n",
    "\n",
    "weeknums = weeknums()"
   ]
  },
  {
   "cell_type": "markdown",
   "metadata": {},
   "source": [
    "# Table 1: top 10 words associated with topic ID 3 over time\n",
    "\n",
    "note how 'prep' is absent from top ten in the beginning, then increases over time"
   ]
  },
  {
   "cell_type": "code",
   "execution_count": 6,
   "metadata": {
    "collapsed": false
   },
   "outputs": [
    {
     "name": "stdout",
     "output_type": "stream",
     "text": [
      "--- time slice:  0 \n",
      "\n",
      "   Probability             Word\n",
      "0     0.075742           people\n",
      "1     0.057026           living\n",
      "2     0.043676     worldaidsday\n",
      "3     0.040491              new\n",
      "4     0.026256          chronic\n",
      "5     0.026041  allscienceglobe\n",
      "6     0.025593          illness\n",
      "7     0.025161          million\n",
      "8     0.024116             know\n",
      "9     0.019981        treatment\n",
      "\n",
      "--- time slice:  1 \n",
      "\n",
      "   Probability          Word\n",
      "0     0.076177        people\n",
      "1     0.062317        living\n",
      "2     0.050774  worldaidsday\n",
      "3     0.030408           new\n",
      "4     0.025763       million\n",
      "5     0.022117          know\n",
      "6     0.021559     infection\n",
      "7     0.020603       chronic\n",
      "8     0.020244       illness\n",
      "9     0.019744     treatment\n",
      "\n",
      "--- time slice:  2 \n",
      "\n",
      "   Probability          Word\n",
      "0     0.072998        people\n",
      "1     0.066271        living\n",
      "2     0.055407  worldaidsday\n",
      "3     0.036624     infection\n",
      "4     0.023261       million\n",
      "5     0.018356          know\n",
      "6     0.017535          aids\n",
      "7     0.015639         signs\n",
      "8     0.015085     treatment\n",
      "9     0.013554       hivaids\n",
      "\n",
      "--- time slice:  3 \n",
      "\n",
      "   Probability          Word\n",
      "0     0.071682     infection\n",
      "1     0.062252        people\n",
      "2     0.057413         signs\n",
      "3     0.046079        living\n",
      "4     0.031786  worldaidsday\n",
      "5     0.016184       million\n",
      "6     0.012645          aids\n",
      "7     0.012525          know\n",
      "8     0.009631       hivaids\n",
      "9     0.009241     treatment\n",
      "\n",
      "--- time slice:  4 \n",
      "\n",
      "   Probability          Word\n",
      "0     0.100893         signs\n",
      "1     0.095301     infection\n",
      "2     0.049771        people\n",
      "3     0.032185        living\n",
      "4     0.014246  worldaidsday\n",
      "5     0.012887         harry\n",
      "6     0.011975       million\n",
      "7     0.010677        prince\n",
      "8     0.008901        clinic\n",
      "9     0.008758          aids\n",
      "\n",
      "--- time slice:  5 \n",
      "\n",
      "   Probability       Word\n",
      "0     0.102301      signs\n",
      "1     0.098791  infection\n",
      "2     0.045444     people\n",
      "3     0.029799     living\n",
      "4     0.012627    hivaids\n",
      "5     0.012134    million\n",
      "6     0.008838      harry\n",
      "7     0.008133   hospital\n",
      "8     0.007897          u\n",
      "9     0.007492       aids\n",
      "\n",
      "--- time slice:  6 \n",
      "\n",
      "   Probability       Word\n",
      "0     0.089789  infection\n",
      "1     0.077173      signs\n",
      "2     0.046832     people\n",
      "3     0.032360     living\n",
      "4     0.019862    hivaids\n",
      "5     0.015465    million\n",
      "6     0.007853          u\n",
      "7     0.007637       aids\n",
      "8     0.006898   hospital\n",
      "9     0.006594       know\n",
      "\n",
      "--- time slice:  7 \n",
      "\n",
      "   Probability       Word\n",
      "0     0.070104  infection\n",
      "1     0.048795     people\n",
      "2     0.045730      signs\n",
      "3     0.033661     living\n",
      "4     0.020383    million\n",
      "5     0.018375    hivaids\n",
      "6     0.009589   epidemic\n",
      "7     0.008039       aids\n",
      "8     0.007970     russia\n",
      "9     0.007643   infected\n",
      "\n",
      "--- time slice:  8 \n",
      "\n",
      "   Probability       Word\n",
      "0     0.049964     people\n",
      "1     0.049625  infection\n",
      "2     0.033513     living\n",
      "3     0.024258    million\n",
      "4     0.024027      signs\n",
      "5     0.016253   epidemic\n",
      "6     0.016208     russia\n",
      "7     0.013516    hivaids\n",
      "8     0.008911   infected\n",
      "9     0.008860        guy\n",
      "\n",
      "--- time slice:  9 \n",
      "\n",
      "   Probability       Word\n",
      "0     0.053262     people\n",
      "1     0.036550  infection\n",
      "2     0.034967     living\n",
      "3     0.023875    million\n",
      "4     0.015323   epidemic\n",
      "5     0.014919     russia\n",
      "6     0.013540      signs\n",
      "7     0.010917    hivaids\n",
      "8     0.009350          w\n",
      "9     0.009137       know\n",
      "\n",
      "--- time slice:  10 \n",
      "\n",
      "   Probability       Word\n",
      "0     0.057502     people\n",
      "1     0.037340     living\n",
      "2     0.028125  infection\n",
      "3     0.020765    million\n",
      "4     0.011722   epidemic\n",
      "5     0.010657          w\n",
      "6     0.010374      years\n",
      "7     0.010235       know\n",
      "8     0.009461    hivaids\n",
      "9     0.009346     russia\n",
      "\n",
      "--- time slice:  11 \n",
      "\n",
      "   Probability       Word\n",
      "0     0.060389     people\n",
      "1     0.039052     living\n",
      "2     0.022705  infection\n",
      "3     0.017120    million\n",
      "4     0.011584   positive\n",
      "5     0.011514          w\n",
      "6     0.011157      years\n",
      "7     0.011070       good\n",
      "8     0.010733       know\n",
      "9     0.009732   children\n",
      "\n",
      "--- time slice:  12 \n",
      "\n",
      "   Probability       Word\n",
      "0     0.061384     people\n",
      "1     0.039612     living\n",
      "2     0.020028  infection\n",
      "3     0.014812    million\n",
      "4     0.013923       good\n",
      "5     0.013417   positive\n",
      "6     0.011934    morning\n",
      "7     0.011901          w\n",
      "8     0.011381      years\n",
      "9     0.010799       know\n",
      "\n"
     ]
    }
   ],
   "source": [
    "for t_index in range(len(model.time_slices)):\n",
    "    print(\"--- time slice: \", t_index, \"\\n\")\n",
    "    print(pd.DataFrame(model.show_topic(topicid=3, time=t_index, topn=10), columns=['Probability', 'Word']))\n",
    "    print()"
   ]
  },
  {
   "cell_type": "markdown",
   "metadata": {},
   "source": [
    "# Figure 1: key terms associated with ID 3 over time\n",
    "\n",
    "note how 'prep' is absent from top ten in the beginning, then increases over time"
   ]
  },
  {
   "cell_type": "code",
   "execution_count": 7,
   "metadata": {
    "collapsed": false
   },
   "outputs": [
    {
     "name": "stderr",
     "output_type": "stream",
     "text": [
      "/high_spd_work/sm_w2v/venv/lib/python3.4/site-packages/matplotlib/font_manager.py:273: UserWarning: Matplotlib is building the font cache using fc-list. This may take a moment.\n",
      "  warnings.warn('Matplotlib is building the font cache using fc-list. This may take a moment.')\n",
      "/high_spd_work/sm_w2v/venv/lib/python3.4/site-packages/matplotlib/font_manager.py:273: UserWarning: Matplotlib is building the font cache using fc-list. This may take a moment.\n",
      "  warnings.warn('Matplotlib is building the font cache using fc-list. This may take a moment.')\n"
     ]
    },
    {
     "data": {
      "image/png": "[encoded data removed]",
      "text/plain": [
       "<matplotlib.figure.Figure at 0x7f2090be50b8>"
      ]
     },
     "metadata": {},
     "output_type": "display_data"
    }
   ],
   "source": [
    "# needs to be re-run. Use tf-idf\n",
    "data = []\n",
    "for t_index in range(len(model.time_slices)):\n",
    "    words = model.show_topic(topicid=3, time=t_index, topn=1000)\n",
    "        \n",
    "    columns = ['prep', 'hiv', 'warning', 'worse', 'deadly', 'disease']\n",
    "    row = []\n",
    "    for col in columns:\n",
    "        cell = [w[0] for w in words if w[1] == col]\n",
    "        if not cell:\n",
    "            cell = .000001\n",
    "        else:\n",
    "            cell = cell[0]\n",
    "        row.append(cell)\n",
    "    data.append(row)\n",
    "    \n",
    "df = pd.DataFrame(data, columns=columns, index=weeknums)\n",
    "ax = df.plot(title='Fig1: Time Series of DTM topic 3')\n",
    "fig = ax.get_figure()\n",
    "fig.savefig('Fig1: Time Series of DTM topic 3.pdf', format='pdf')"
   ]
  },
  {
   "cell_type": "markdown",
   "metadata": {},
   "source": [
    "# Table 2: top 10 words associated with topic ID 8 over time\n",
    "Note how at time points 2 and 3 we get world AIDS day related words. At time points 7, 8 and 9 the antibiotic 'Zithromax' appears, then disappears. 'gay' also seems to come up during the later time points, which parallels the #egaylity in the Doc2Vec results. 'rt' is not entirely interesting, since it is the name of a news agency."
   ]
  },
  {
   "cell_type": "code",
   "execution_count": 8,
   "metadata": {
    "collapsed": false
   },
   "outputs": [
    {
     "name": "stdout",
     "output_type": "stream",
     "text": [
      "--- time slice:  0 \n",
      "\n",
      "   Probability      Word\n",
      "0     0.024801      aids\n",
      "1     0.021127     treat\n",
      "2     0.018408    africa\n",
      "3     0.017742      save\n",
      "4     0.017073  millions\n",
      "5     0.016977      link\n",
      "6     0.015360   hivaids\n",
      "7     0.015113  diseases\n",
      "8     0.014666      join\n",
      "9     0.013968     asked\n",
      "\n",
      "--- time slice:  1 \n",
      "\n",
      "   Probability      Word\n",
      "0     0.028185      aids\n",
      "1     0.022087     treat\n",
      "2     0.020473    africa\n",
      "3     0.018101      save\n",
      "4     0.017774  millions\n",
      "5     0.015395      join\n",
      "6     0.014484    people\n",
      "7     0.013886   hivaids\n",
      "8     0.013821      link\n",
      "9     0.013628      push\n",
      "\n",
      "--- time slice:  2 \n",
      "\n",
      "   Probability             Word\n",
      "0     0.032606             aids\n",
      "1     0.022898            treat\n",
      "2     0.021268           africa\n",
      "3     0.017995         millions\n",
      "4     0.017824             save\n",
      "5     0.016086           people\n",
      "6     0.015605             join\n",
      "7     0.014160             push\n",
      "8     0.012961              wad\n",
      "9     0.012655  treatmentforall\n",
      "\n",
      "--- time slice:  3 \n",
      "\n",
      "   Probability      Word\n",
      "0     0.030236      aids\n",
      "1     0.020394     treat\n",
      "2     0.019207    africa\n",
      "3     0.016898    people\n",
      "4     0.015091  shocking\n",
      "5     0.014706      save\n",
      "6     0.014249      link\n",
      "7     0.014187  millions\n",
      "8     0.012020      join\n",
      "9     0.011851     south\n",
      "\n",
      "--- time slice:  4 \n",
      "\n",
      "   Probability       Word\n",
      "0     0.025123       aids\n",
      "1     0.017723   shocking\n",
      "2     0.016617       link\n",
      "3     0.016524      treat\n",
      "4     0.016187     people\n",
      "5     0.016117     africa\n",
      "6     0.015354    malaria\n",
      "7     0.013057      tygas\n",
      "8     0.012320  hepatitis\n",
      "9     0.012139      asked\n",
      "\n",
      "--- time slice:  5 \n",
      "\n",
      "   Probability       Word\n",
      "0     0.019847       aids\n",
      "1     0.018932   shocking\n",
      "2     0.017868       link\n",
      "3     0.015776    malaria\n",
      "4     0.015036     people\n",
      "5     0.014892      tygas\n",
      "6     0.013619     africa\n",
      "7     0.012638  hepatitis\n",
      "8     0.012570      asked\n",
      "9     0.012502      treat\n",
      "\n",
      "--- time slice:  6 \n",
      "\n",
      "   Probability       Word\n",
      "0     0.018737   shocking\n",
      "1     0.017815       aids\n",
      "2     0.017765       link\n",
      "3     0.017747    malaria\n",
      "4     0.015101      tygas\n",
      "5     0.014747     people\n",
      "6     0.013734     cancer\n",
      "7     0.013638  hepatitis\n",
      "8     0.013265     africa\n",
      "9     0.012656      asked\n",
      "\n",
      "--- time slice:  7 \n",
      "\n",
      "   Probability             Word\n",
      "0     0.021910            drugs\n",
      "1     0.020286          malaria\n",
      "2     0.019131             viiv\n",
      "3     0.017431             aids\n",
      "4     0.017378              buy\n",
      "5     0.015781  allscienceglobe\n",
      "6     0.014829           cancer\n",
      "7     0.014664         shocking\n",
      "8     0.014349              bms\n",
      "9     0.014336             gsks\n",
      "\n",
      "--- time slice:  8 \n",
      "\n",
      "   Probability             Word\n",
      "0     0.029401              bms\n",
      "1     0.028318             gsks\n",
      "2     0.027317              buy\n",
      "3     0.027042  allscienceglobe\n",
      "4     0.026691            drugs\n",
      "5     0.024968             viiv\n",
      "6     0.019355             aids\n",
      "7     0.016602          malaria\n",
      "8     0.015365             drug\n",
      "9     0.014540        hepatitis\n",
      "\n",
      "--- time slice:  9 \n",
      "\n",
      "   Probability       Word\n",
      "0     0.033450       drug\n",
      "1     0.030302        key\n",
      "2     0.028756       aids\n",
      "3     0.027679      study\n",
      "4     0.020068  resistant\n",
      "5     0.018197  hepatitis\n",
      "6     0.016266      finds\n",
      "7     0.015227      drugs\n",
      "8     0.014498     africa\n",
      "9     0.013882     cancer\n",
      "\n",
      "--- time slice:  10 \n",
      "\n",
      "   Probability       Word\n",
      "0     0.048749       aids\n",
      "1     0.026909  hepatitis\n",
      "2     0.022094          b\n",
      "3     0.020720     herpes\n",
      "4     0.019122   syphilis\n",
      "5     0.018091       drug\n",
      "6     0.016899  gonorrhea\n",
      "7     0.015940  chlamydia\n",
      "8     0.015373        hpv\n",
      "9     0.015299        key\n",
      "\n",
      "--- time slice:  11 \n",
      "\n",
      "   Probability       Word\n",
      "0     0.064900       aids\n",
      "1     0.034498  hepatitis\n",
      "2     0.030817          b\n",
      "3     0.029600     herpes\n",
      "4     0.028780   syphilis\n",
      "5     0.026611        hpv\n",
      "6     0.026590  chlamydia\n",
      "7     0.026557  gonorrhea\n",
      "8     0.025923      crabs\n",
      "9     0.025692    scabies\n",
      "\n",
      "--- time slice:  12 \n",
      "\n",
      "   Probability        Word\n",
      "0     0.066432        aids\n",
      "1     0.037639   hepatitis\n",
      "2     0.034892         hpv\n",
      "3     0.034787           b\n",
      "4     0.034508       crabs\n",
      "5     0.034479     scabies\n",
      "6     0.034274    syphilis\n",
      "7     0.033968   chlamydia\n",
      "8     0.033605      herpes\n",
      "9     0.033454  mycoplasma\n",
      "\n"
     ]
    }
   ],
   "source": [
    "for t_index in range(len(model.time_slices)):\n",
    "    print(\"--- time slice: \", t_index, \"\\n\")\n",
    "    print(pd.DataFrame(model.show_topic(topicid=8, time=t_index, topn=10), columns=['Probability', 'Word']))\n",
    "    print()"
   ]
  },
  {
   "cell_type": "code",
   "execution_count": 9,
   "metadata": {
    "collapsed": false
   },
   "outputs": [
    {
     "data": {
      "image/png": "[encoded data removed]",
      "text/plain": [
       "<matplotlib.figure.Figure at 0x7f20909d46d8>"
      ]
     },
     "metadata": {},
     "output_type": "display_data"
    }
   ],
   "source": [
    "# needs to be re-run. Use tf-idf\n",
    "data = []\n",
    "for t_index in range(len(model.time_slices)):\n",
    "    words = model.show_topic(topicid=8, time=t_index, topn=1000)\n",
    "        \n",
    "    columns = ['hiv', 'aids', 'world', 'day', 'zithromax', 'chlamydia', 'gay']\n",
    "    row = []\n",
    "    for col in columns:\n",
    "        cell = [w[0] for w in words if w[1] == col]\n",
    "        if not cell:\n",
    "            cell = .000001\n",
    "        else:\n",
    "            cell = cell[0]\n",
    "        row.append(cell)\n",
    "    data.append(row)\n",
    "\n",
    "\n",
    "df = pd.DataFrame(data, columns=columns, index=weeknums)\n",
    "ax = df.plot(title='Fig2: Time Series of DTM topic 8')\n",
    "fig = ax.get_figure()\n",
    "fig.savefig('Fig2: Time Series of DTM topic 8.pdf', format='pdf')"
   ]
  },
  {
   "cell_type": "code",
   "execution_count": null,
   "metadata": {
    "collapsed": true
   },
   "outputs": [],
   "source": []
  }
 ],
 "metadata": {
  "kernelspec": {
   "display_name": "Python 3",
   "language": "python",
   "name": "python3"
  },
  "language_info": {
   "codemirror_mode": {
    "name": "ipython",
    "version": 3
   },
   "file_extension": ".py",
   "mimetype": "text/x-python",
   "name": "python",
   "nbconvert_exporter": "python",
   "pygments_lexer": "ipython3",
   "version": "3.4.3"
  }
 },
 "nbformat": 4,
 "nbformat_minor": 0
}
