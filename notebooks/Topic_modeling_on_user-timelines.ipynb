{
 "cells": [
  {
   "cell_type": "markdown",
   "metadata": {
    "collapsed": false
   },
   "source": [
    "# Analysis on user timelines\n",
    "To see how these user-timelines were downloaded, see:\n",
    "\n",
    "`sm_w2v.__main__.run_user_timeline_download()`\n",
    "\n",
    "Data were downloaded to:\n",
    "\n",
    "`data/user_timeline_tweets.json`"
   ]
  },
  {
   "cell_type": "code",
   "execution_count": 1,
   "metadata": {
    "collapsed": false
   },
   "outputs": [],
   "source": [
    "# load and concatenate tweet timeline-documents\n",
    "import json\n",
    "\n",
    "train = True\n",
    "\n",
    "user_timelines = dict()\n",
    "with open('../data/user_timeline_tweets.json') as f_in:\n",
    "    for l in f_in:\n",
    "        try:\n",
    "            twt = json.loads(l)\n",
    "        except:\n",
    "            continue\n",
    "        user_id_str = twt['user']['id_str']\n",
    "        if user_id_str in user_timelines:\n",
    "            user_timelines[user_id_str] = user_timelines[user_id_str] + ' ' + twt['text']\n",
    "        else:\n",
    "            user_timelines[user_id_str] = twt['text']"
   ]
  },
  {
   "cell_type": "markdown",
   "metadata": {},
   "source": [
    "# clean/preprocess text"
   ]
  },
  {
   "cell_type": "code",
   "execution_count": 2,
   "metadata": {
    "collapsed": false
   },
   "outputs": [],
   "source": [
    "from gensim.parsing.preprocessing import STOPWORDS\n",
    "from nltk.corpus import stopwords\n",
    "import re\n",
    "\n",
    "\n",
    "STOPWORDS = set(['rt', '', 'httpst', 'amp', 'https\\'', 'ang',\n",
    "                'ng', 'tcot', 'ako', 'sa', 'ko', 'rp', 'roc',\n",
    "                'fe', 'sk', 'holi', 'asa', 'guru', 'yah', 'lista',\n",
    "                 'hah' 'il', 'seo', 'casa', 'qotd', 'noh']).union(set(STOPWORDS)) \\\n",
    "    .union(set(stopwords.words('spanish'))) \\\n",
    "    .union(set(stopwords.words('portuguese'))) \\\n",
    "    .union(set(stopwords.words('german'))) \\\n",
    "    .union(set(stopwords.words('dutch')))\n",
    "\n",
    "def clean_text(text):\n",
    "    clean = re.sub(r'http.*$', '', text)\n",
    "    clean = re.sub(r'[^a-zA-Z\\s]', '', clean)\n",
    "\n",
    "    clean = clean.lower()\n",
    "    word_list = clean.split()\n",
    "    word_list = [w for w in word_list if (w not in STOPWORDS)]\n",
    "\n",
    "    return word_list\n",
    "\n",
    "user_clean_timelines = dict()\n",
    "for user_id_str in user_timelines.keys():\n",
    "    user_clean_timelines[user_id_str] = clean_text(user_timelines[user_id_str])"
   ]
  },
  {
   "cell_type": "markdown",
   "metadata": {},
   "source": [
    "# LDA topic modeling on timeline documents"
   ]
  },
  {
   "cell_type": "code",
   "execution_count": 3,
   "metadata": {
    "collapsed": false
   },
   "outputs": [
    {
     "name": "stdout",
     "output_type": "stream",
     "text": [
      "number of user-timelines: 398\n"
     ]
    }
   ],
   "source": [
    "from gensim.models.ldamodel import LdaModel\n",
    "from gensim.models import TfidfModel\n",
    "from gensim import corpora\n",
    "\n",
    "\n",
    "user_timelines_keys = []\n",
    "texts = []\n",
    "for k, v in user_clean_timelines.items():\n",
    "    user_timelines_keys.append(k)\n",
    "    texts.append(v)\n",
    "\n",
    "# filter out users with less than 200 words in the tweets in their timelines\n",
    "long_timelines = [t for t in texts if len(t) > 200]\n",
    "dictionary = corpora.Dictionary(long_timelines)\n",
    "dictionary.filter_extremes(no_below=10, no_above=0.3, keep_n=100000)\n",
    "corpus = [dictionary.doc2bow(text) for text in long_timelines]\n",
    "tfidf = TfidfModel(corpus)\n",
    "corpus = tfidf[corpus]\n",
    "corpus = corpus[0:500]\n",
    "print('number of user-timelines:', len(corpus))\n",
    "\n",
    "if train:\n",
    "    model = LdaModel(corpus, id2word=dictionary, num_topics=10, iterations=50, passes=10)\n",
    "    model.save('../models/lda_user_timelines.model')\n",
    "\n",
    "else:\n",
    "    model = LdaModel.load('../models/lda_user_timelines.model')"
   ]
  },
  {
   "cell_type": "code",
   "execution_count": null,
   "metadata": {
    "collapsed": false
   },
   "outputs": [],
   "source": []
  },
  {
   "cell_type": "code",
   "execution_count": 5,
   "metadata": {
    "collapsed": false
   },
   "outputs": [
    {
     "data": {
      "text/html": [
       "<div>\n",
       "<table border=\"1\" class=\"dataframe\">\n",
       "  <thead>\n",
       "    <tr style=\"text-align: right;\">\n",
       "      <th></th>\n",
       "      <th>0</th>\n",
       "      <th>1</th>\n",
       "      <th>2</th>\n",
       "      <th>3</th>\n",
       "      <th>4</th>\n",
       "      <th>5</th>\n",
       "      <th>6</th>\n",
       "      <th>7</th>\n",
       "      <th>8</th>\n",
       "      <th>9</th>\n",
       "    </tr>\n",
       "  </thead>\n",
       "  <tbody>\n",
       "    <tr>\n",
       "      <th>0</th>\n",
       "      <td>0.001*wordpress</td>\n",
       "      <td>0.000*dentists</td>\n",
       "      <td>0.000*rb</td>\n",
       "      <td>0.000*aquarius</td>\n",
       "      <td>0.000*faction</td>\n",
       "      <td>0.000*reconnect</td>\n",
       "      <td>0.000*addictions</td>\n",
       "      <td>0.000*elxn</td>\n",
       "      <td>0.000*magnet</td>\n",
       "      <td>0.000*sterile</td>\n",
       "    </tr>\n",
       "    <tr>\n",
       "      <th>1</th>\n",
       "      <td>0.001*empirefox</td>\n",
       "      <td>0.001*crooks</td>\n",
       "      <td>0.001*csr</td>\n",
       "      <td>0.000*payroll</td>\n",
       "      <td>0.000*ch</td>\n",
       "      <td>0.000*allin</td>\n",
       "      <td>0.000*capricorn</td>\n",
       "      <td>0.000*riptwitter</td>\n",
       "      <td>0.000*meded</td>\n",
       "      <td>0.000*branding</td>\n",
       "    </tr>\n",
       "    <tr>\n",
       "      <th>2</th>\n",
       "      <td>0.001*vdeo</td>\n",
       "      <td>0.000*pra</td>\n",
       "      <td>0.000*gust</td>\n",
       "      <td>0.000*lgbtqia</td>\n",
       "      <td>0.000*rail</td>\n",
       "      <td>0.000*undetectable</td>\n",
       "      <td>0.000*vc</td>\n",
       "      <td>0.000*ser</td>\n",
       "      <td>0.000*hoy</td>\n",
       "      <td>0.000*vai</td>\n",
       "    </tr>\n",
       "    <tr>\n",
       "      <th>3</th>\n",
       "      <td>0.002*hivaids</td>\n",
       "      <td>0.001*cdcstd</td>\n",
       "      <td>0.001*stigma</td>\n",
       "      <td>0.001*blacklivesmatter</td>\n",
       "      <td>0.001*realestate</td>\n",
       "      <td>0.001*getcovered</td>\n",
       "      <td>0.001*infections</td>\n",
       "      <td>0.001*thebodydotcom</td>\n",
       "      <td>0.001*std</td>\n",
       "      <td>0.001*flu</td>\n",
       "    </tr>\n",
       "    <tr>\n",
       "      <th>4</th>\n",
       "      <td>0.001*nigga</td>\n",
       "      <td>0.001*niggas</td>\n",
       "      <td>0.001*realdonaldtrump</td>\n",
       "      <td>0.001*lmao</td>\n",
       "      <td>0.001*cruz</td>\n",
       "      <td>0.001*gop</td>\n",
       "      <td>0.000*gopdebate</td>\n",
       "      <td>0.000*ep</td>\n",
       "      <td>0.000*bae</td>\n",
       "      <td>0.000*bitches</td>\n",
       "    </tr>\n",
       "    <tr>\n",
       "      <th>5</th>\n",
       "      <td>0.001*fertility</td>\n",
       "      <td>0.001*infertility</td>\n",
       "      <td>0.001*armenia</td>\n",
       "      <td>0.000*collage</td>\n",
       "      <td>0.000*nig</td>\n",
       "      <td>0.000*deactivate</td>\n",
       "      <td>0.000*alzheimers</td>\n",
       "      <td>0.000*caregiver</td>\n",
       "      <td>0.000*dementia</td>\n",
       "      <td>0.000*ttc</td>\n",
       "    </tr>\n",
       "    <tr>\n",
       "      <th>6</th>\n",
       "      <td>0.000*packaging</td>\n",
       "      <td>0.000*buenas</td>\n",
       "      <td>0.000*amigo</td>\n",
       "      <td>0.000*bu</td>\n",
       "      <td>0.000*birthcontrol</td>\n",
       "      <td>0.000*reservations</td>\n",
       "      <td>0.000*md</td>\n",
       "      <td>0.000*georgia</td>\n",
       "      <td>0.000*disponible</td>\n",
       "      <td>0.000*onceuponatime</td>\n",
       "    </tr>\n",
       "    <tr>\n",
       "      <th>7</th>\n",
       "      <td>0.001*mga</td>\n",
       "      <td>0.001*ka</td>\n",
       "      <td>0.001*socialmedia</td>\n",
       "      <td>0.001*lang</td>\n",
       "      <td>0.001*entrepreneur</td>\n",
       "      <td>0.001*naman</td>\n",
       "      <td>0.001*bitcoin</td>\n",
       "      <td>0.001*yung</td>\n",
       "      <td>0.001*hindi</td>\n",
       "      <td>0.001*uniteblue</td>\n",
       "    </tr>\n",
       "    <tr>\n",
       "      <th>8</th>\n",
       "      <td>0.002*infosec</td>\n",
       "      <td>0.001*bigdata</td>\n",
       "      <td>0.000*multimedia</td>\n",
       "      <td>0.000*stl</td>\n",
       "      <td>0.000*fx</td>\n",
       "      <td>0.000*malware</td>\n",
       "      <td>0.000*precision</td>\n",
       "      <td>0.000*nes</td>\n",
       "      <td>0.000*freelancer</td>\n",
       "      <td>0.000*cybersecurity</td>\n",
       "    </tr>\n",
       "    <tr>\n",
       "      <th>9</th>\n",
       "      <td>0.001*nhsengland</td>\n",
       "      <td>0.001*sosa</td>\n",
       "      <td>0.000*tw</td>\n",
       "      <td>0.000*knitting</td>\n",
       "      <td>0.000*worldbank</td>\n",
       "      <td>0.000*thtorguk</td>\n",
       "      <td>0.000*weho</td>\n",
       "      <td>0.000*kathryn</td>\n",
       "      <td>0.000*nhs</td>\n",
       "      <td>0.000*crochet</td>\n",
       "    </tr>\n",
       "  </tbody>\n",
       "</table>\n",
       "</div>"
      ],
      "text/plain": [
       "                  0                  1                      2  \\\n",
       "0   0.001*wordpress     0.000*dentists               0.000*rb   \n",
       "1   0.001*empirefox       0.001*crooks              0.001*csr   \n",
       "2        0.001*vdeo          0.000*pra             0.000*gust   \n",
       "3     0.002*hivaids       0.001*cdcstd           0.001*stigma   \n",
       "4       0.001*nigga       0.001*niggas  0.001*realdonaldtrump   \n",
       "5   0.001*fertility  0.001*infertility          0.001*armenia   \n",
       "6   0.000*packaging       0.000*buenas            0.000*amigo   \n",
       "7         0.001*mga           0.001*ka      0.001*socialmedia   \n",
       "8     0.002*infosec      0.001*bigdata       0.000*multimedia   \n",
       "9  0.001*nhsengland         0.001*sosa               0.000*tw   \n",
       "\n",
       "                        3                   4                   5  \\\n",
       "0          0.000*aquarius       0.000*faction     0.000*reconnect   \n",
       "1           0.000*payroll            0.000*ch         0.000*allin   \n",
       "2           0.000*lgbtqia          0.000*rail  0.000*undetectable   \n",
       "3  0.001*blacklivesmatter    0.001*realestate    0.001*getcovered   \n",
       "4              0.001*lmao          0.001*cruz           0.001*gop   \n",
       "5           0.000*collage           0.000*nig    0.000*deactivate   \n",
       "6                0.000*bu  0.000*birthcontrol  0.000*reservations   \n",
       "7              0.001*lang  0.001*entrepreneur         0.001*naman   \n",
       "8               0.000*stl            0.000*fx       0.000*malware   \n",
       "9          0.000*knitting     0.000*worldbank      0.000*thtorguk   \n",
       "\n",
       "                  6                    7                 8  \\\n",
       "0  0.000*addictions           0.000*elxn      0.000*magnet   \n",
       "1   0.000*capricorn     0.000*riptwitter       0.000*meded   \n",
       "2          0.000*vc            0.000*ser         0.000*hoy   \n",
       "3  0.001*infections  0.001*thebodydotcom         0.001*std   \n",
       "4   0.000*gopdebate             0.000*ep         0.000*bae   \n",
       "5  0.000*alzheimers      0.000*caregiver    0.000*dementia   \n",
       "6          0.000*md        0.000*georgia  0.000*disponible   \n",
       "7     0.001*bitcoin           0.001*yung       0.001*hindi   \n",
       "8   0.000*precision            0.000*nes  0.000*freelancer   \n",
       "9        0.000*weho        0.000*kathryn         0.000*nhs   \n",
       "\n",
       "                     9  \n",
       "0        0.000*sterile  \n",
       "1       0.000*branding  \n",
       "2            0.000*vai  \n",
       "3            0.001*flu  \n",
       "4        0.000*bitches  \n",
       "5            0.000*ttc  \n",
       "6  0.000*onceuponatime  \n",
       "7      0.001*uniteblue  \n",
       "8  0.000*cybersecurity  \n",
       "9        0.000*crochet  "
      ]
     },
     "execution_count": 5,
     "metadata": {},
     "output_type": "execute_result"
    }
   ],
   "source": [
    "import pandas as pd\n",
    "# idenitify topics of interest\n",
    "pd.DataFrame([row[1].split(' + ') for row in model.print_topics(20)]).iloc[:,0:10]"
   ]
  },
  {
   "cell_type": "code",
   "execution_count": 6,
   "metadata": {
    "collapsed": false
   },
   "outputs": [],
   "source": [
    "# show users vs. features (topics)\n",
    "features = dict()\n",
    "\n",
    "for i, doc in enumerate(corpus):\n",
    "    features[user_timelines_keys[i]] = model.get_document_topics(doc, minimum_probability=None)\n"
   ]
  },
  {
   "cell_type": "code",
   "execution_count": 7,
   "metadata": {
    "collapsed": false
   },
   "outputs": [],
   "source": [
    "# do time-plot of features for a specific user (topics) vs. time\n",
    "import pandas as pd\n",
    "import numpy as np\n",
    "\n",
    "columns = ['topic0', 'topic1', 'topic2', 'topic3', 'topic4',\n",
    "           'topic5', 'topic6', 'topic7', 'topic8', 'topic9']\n",
    "index = user_timelines_keys\n",
    "df = pd.DataFrame(data=np.zeros((len(index), len(columns))), columns=columns, index=index)\n",
    "\n",
    "for doc_ind, user_doc in enumerate(features.values()):\n",
    "    for topic in user_doc:\n",
    "        df.iloc[doc_ind, topic[0]] = topic[1]"
   ]
  },
  {
   "cell_type": "code",
   "execution_count": 8,
   "metadata": {
    "collapsed": false
   },
   "outputs": [
    {
     "data": {
      "text/html": [
       "<div>\n",
       "<table border=\"1\" class=\"dataframe\">\n",
       "  <thead>\n",
       "    <tr style=\"text-align: right;\">\n",
       "      <th></th>\n",
       "      <th>topic0</th>\n",
       "      <th>topic1</th>\n",
       "      <th>topic2</th>\n",
       "      <th>topic3</th>\n",
       "      <th>topic4</th>\n",
       "      <th>topic5</th>\n",
       "      <th>topic6</th>\n",
       "      <th>topic7</th>\n",
       "      <th>topic8</th>\n",
       "      <th>topic9</th>\n",
       "    </tr>\n",
       "  </thead>\n",
       "  <tbody>\n",
       "    <tr>\n",
       "      <th>329386706</th>\n",
       "      <td>0.000000</td>\n",
       "      <td>0.000000</td>\n",
       "      <td>0.000000</td>\n",
       "      <td>0.000000</td>\n",
       "      <td>0.912786</td>\n",
       "      <td>0.000000</td>\n",
       "      <td>0.000000</td>\n",
       "      <td>0.000000</td>\n",
       "      <td>0.000000</td>\n",
       "      <td>0.000000</td>\n",
       "    </tr>\n",
       "    <tr>\n",
       "      <th>19591459</th>\n",
       "      <td>0.018266</td>\n",
       "      <td>0.018266</td>\n",
       "      <td>0.018266</td>\n",
       "      <td>0.121108</td>\n",
       "      <td>0.409216</td>\n",
       "      <td>0.341813</td>\n",
       "      <td>0.018266</td>\n",
       "      <td>0.018266</td>\n",
       "      <td>0.018266</td>\n",
       "      <td>0.018266</td>\n",
       "    </tr>\n",
       "    <tr>\n",
       "      <th>403536803</th>\n",
       "      <td>0.017730</td>\n",
       "      <td>0.017730</td>\n",
       "      <td>0.017730</td>\n",
       "      <td>0.107228</td>\n",
       "      <td>0.500057</td>\n",
       "      <td>0.268605</td>\n",
       "      <td>0.017730</td>\n",
       "      <td>0.017731</td>\n",
       "      <td>0.017730</td>\n",
       "      <td>0.017730</td>\n",
       "    </tr>\n",
       "    <tr>\n",
       "      <th>166772203</th>\n",
       "      <td>0.000000</td>\n",
       "      <td>0.000000</td>\n",
       "      <td>0.000000</td>\n",
       "      <td>0.313182</td>\n",
       "      <td>0.630885</td>\n",
       "      <td>0.000000</td>\n",
       "      <td>0.000000</td>\n",
       "      <td>0.000000</td>\n",
       "      <td>0.000000</td>\n",
       "      <td>0.000000</td>\n",
       "    </tr>\n",
       "    <tr>\n",
       "      <th>1660996196</th>\n",
       "      <td>0.000000</td>\n",
       "      <td>0.000000</td>\n",
       "      <td>0.000000</td>\n",
       "      <td>0.125148</td>\n",
       "      <td>0.812491</td>\n",
       "      <td>0.000000</td>\n",
       "      <td>0.000000</td>\n",
       "      <td>0.000000</td>\n",
       "      <td>0.000000</td>\n",
       "      <td>0.000000</td>\n",
       "    </tr>\n",
       "  </tbody>\n",
       "</table>\n",
       "</div>"
      ],
      "text/plain": [
       "              topic0    topic1    topic2    topic3    topic4    topic5  \\\n",
       "329386706   0.000000  0.000000  0.000000  0.000000  0.912786  0.000000   \n",
       "19591459    0.018266  0.018266  0.018266  0.121108  0.409216  0.341813   \n",
       "403536803   0.017730  0.017730  0.017730  0.107228  0.500057  0.268605   \n",
       "166772203   0.000000  0.000000  0.000000  0.313182  0.630885  0.000000   \n",
       "1660996196  0.000000  0.000000  0.000000  0.125148  0.812491  0.000000   \n",
       "\n",
       "              topic6    topic7    topic8    topic9  \n",
       "329386706   0.000000  0.000000  0.000000  0.000000  \n",
       "19591459    0.018266  0.018266  0.018266  0.018266  \n",
       "403536803   0.017730  0.017731  0.017730  0.017730  \n",
       "166772203   0.000000  0.000000  0.000000  0.000000  \n",
       "1660996196  0.000000  0.000000  0.000000  0.000000  "
      ]
     },
     "execution_count": 8,
     "metadata": {},
     "output_type": "execute_result"
    }
   ],
   "source": [
    "df.head()"
   ]
  },
  {
   "cell_type": "code",
   "execution_count": 9,
   "metadata": {
    "collapsed": false
   },
   "outputs": [
    {
     "data": {
      "image/png": "[encoded data removed]",
      "text/plain": [
       "<matplotlib.figure.Figure at 0x7efdb5d78748>"
      ]
     },
     "metadata": {},
     "output_type": "display_data"
    }
   ],
   "source": [
    "import seaborn as sns\n",
    "import matplotlib.pyplot as plt\n",
    "%matplotlib inline\n",
    "\n",
    "df.index.name = 'Users'\n",
    "figure = sns.clustermap(df, yticklabels=\"\")\n",
    "\n",
    "figure.savefig('user_timeline_clustermap.pdf', format='pdf')"
   ]
  },
  {
   "cell_type": "code",
   "execution_count": null,
   "metadata": {
    "collapsed": false
   },
   "outputs": [],
   "source": []
  },
  {
   "cell_type": "code",
   "execution_count": null,
   "metadata": {
    "collapsed": true
   },
   "outputs": [],
   "source": []
  }
 ],
 "metadata": {
  "kernelspec": {
   "display_name": "Python 3",
   "language": "python",
   "name": "python3"
  },
  "language_info": {
   "codemirror_mode": {
    "name": "ipython",
    "version": 3
   },
   "file_extension": ".py",
   "mimetype": "text/x-python",
   "name": "python",
   "nbconvert_exporter": "python",
   "pygments_lexer": "ipython3",
   "version": "3.4.3"
  }
 },
 "nbformat": 4,
 "nbformat_minor": 0
}
