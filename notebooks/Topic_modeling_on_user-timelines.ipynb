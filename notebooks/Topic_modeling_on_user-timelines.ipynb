{
 "cells": [
  {
   "cell_type": "markdown",
   "metadata": {
    "collapsed": false
   },
   "source": [
    "# Download user timelines\n",
    "To see how these user-timelines were downloaded, see:\n",
    "\n",
    "`sm_w2v.__main__.run_uer_timeline_download()`\n",
    "\n",
    "Data were downloaded to:\n",
    "\n",
    "`data/user_timeline_tweets.json`"
   ]
  },
  {
   "cell_type": "code",
   "execution_count": 1,
   "metadata": {
    "collapsed": false
   },
   "outputs": [],
   "source": [
    "# load and concatenate tweet timeline-documents\n",
    "import json\n",
    "\n",
    "train = False\n",
    "\n",
    "user_timelines = dict()\n",
    "with open('../data/user_timeline_tweets.json') as f_in:\n",
    "    for l in f_in:\n",
    "        try:\n",
    "            twt = json.loads(l)\n",
    "        except:\n",
    "            continue\n",
    "        user_id_str = twt['user']['id_str']\n",
    "        if user_id_str in user_timelines:\n",
    "            user_timelines[user_id_str] = user_timelines[user_id_str] + ' ' + twt['text']\n",
    "        else:\n",
    "            user_timelines[user_id_str] = twt['text']"
   ]
  },
  {
   "cell_type": "markdown",
   "metadata": {},
   "source": [
    "# clean/preprocess text"
   ]
  },
  {
   "cell_type": "code",
   "execution_count": 2,
   "metadata": {
    "collapsed": false
   },
   "outputs": [],
   "source": [
    "from gensim.parsing.preprocessing import STOPWORDS\n",
    "import re\n",
    "\n",
    "\n",
    "STOPWORDS_ = ['rt', '', 'httpst', 'amp', 'https\\'']\n",
    "\n",
    "def clean_text(text):\n",
    "    clean = re.sub(r'http.*$', '', text)\n",
    "    clean = re.sub(r'[^a-zA-Z\\s]', '', clean)\n",
    "\n",
    "    clean = clean.lower()\n",
    "    word_list = clean.split()\n",
    "    word_list = [w for w in word_list if (w not in STOPWORDS_ and w not in STOPWORDS)]\n",
    "\n",
    "    return word_list\n",
    "\n",
    "user_clean_timelines = dict()\n",
    "for user_id_str in user_timelines.keys():\n",
    "    user_clean_timelines[user_id_str] = clean_text(user_timelines[user_id_str])"
   ]
  },
  {
   "cell_type": "markdown",
   "metadata": {},
   "source": [
    "# LDA topic modeling on timeline documents"
   ]
  },
  {
   "cell_type": "code",
   "execution_count": 3,
   "metadata": {
    "collapsed": false
   },
   "outputs": [],
   "source": [
    "from gensim.models.ldamodel import LdaModel\n",
    "from gensim import corpora\n",
    "\n",
    "\n",
    "user_timelines_keys = []\n",
    "texts = []\n",
    "for k, v in user_clean_timelines.items():\n",
    "    user_timelines_keys.append(k)\n",
    "    texts.append(v)\n",
    "\n",
    "dictionary = corpora.Dictionary(texts)\n",
    "dictionary.filter_extremes(no_below=10, no_above=0.3, keep_n=100000)\n",
    "corpus = [dictionary.doc2bow(text) for text in texts]\n",
    "\n",
    "if train:\n",
    "    print('number of user-timelines:', len(corpus))\n",
    "    model = LdaModel(corpus, id2word=dictionary, num_topics=10, iterations=50, passes=5)\n",
    "    model.save('../models/lda_user_timelines.model')\n",
    "\n",
    "else:\n",
    "    model = LdaModel.load('../models/lda_user_timelines.model')"
   ]
  },
  {
   "cell_type": "code",
   "execution_count": 4,
   "metadata": {
    "collapsed": false
   },
   "outputs": [
    {
     "data": {
      "text/plain": [
       "[(0,\n",
       "  '0.017*rs + 0.013*hacking + 0.010*del + 0.009*playlist + 0.008*lana + 0.008*hawaii + 0.008*rey + 0.007*golf + 0.007*tested + 0.006*flat'),\n",
       " (1,\n",
       "  '0.034*union + 0.033*blm + 0.033*occupy + 0.021*bitcoin + 0.020*marketing + 0.020*feelthebern + 0.016*web + 0.008*rs + 0.008*fx + 0.008*forex'),\n",
       " (2,\n",
       "  '0.006*somalia + 0.005*lgbt + 0.004*ootd + 0.003*brussels + 0.003*tech + 0.003*alzheimers + 0.002*isis + 0.002*athens + 0.002*cnn + 0.002*minister'),\n",
       " (3,\n",
       "  '0.023*hiring + 0.022*tech + 0.019*howto + 0.012*prep + 0.006*prevention + 0.006*ias + 0.005*hivaids + 0.004*technology + 0.003*stigma + 0.003*ca'),\n",
       " (4,\n",
       "  '0.026*nonsense + 0.011*sos + 0.010*dg + 0.005*chinas + 0.005*thewalkingdead + 0.004*syria + 0.003*worship + 0.003*isis + 0.002*jesus + 0.002*holy'),\n",
       " (5,\n",
       "  '0.025*closed + 0.023*que + 0.019*del + 0.016*para + 0.015*por + 0.014*los + 0.013*es + 0.012*milan + 0.011*las + 0.009*realdonaldtrump'),\n",
       " (6,\n",
       "  '0.012*eau + 0.007*archives + 0.006*prolife + 0.005*remedies + 0.005*rid + 0.004*weight + 0.004*lmao + 0.002*shit + 0.002*prostate + 0.002*seattle'),\n",
       " (7,\n",
       "  '0.062*photography + 0.023*px + 0.022*courage + 0.022*cbd + 0.016*uniteblue + 0.013*kiss + 0.007*streets + 0.007*select + 0.007*tcot + 0.007*urban'),\n",
       " (8,\n",
       "  '0.014*ji + 0.013*pharmacy + 0.010*clinicians + 0.009*std + 0.009*di + 0.008*blogger + 0.008*dan + 0.008*tw + 0.007*msg + 0.007*stds'),\n",
       " (9,\n",
       "  '0.039*chicago + 0.017*na + 0.014*eu + 0.011*sa + 0.010*ng + 0.009*cruz + 0.008*que + 0.008*tedcruz + 0.007*ko + 0.006*realdonaldtrump')]"
      ]
     },
     "execution_count": 4,
     "metadata": {},
     "output_type": "execute_result"
    }
   ],
   "source": [
    "# idenitify topics of interest\n",
    "model.print_topics(20)"
   ]
  },
  {
   "cell_type": "code",
   "execution_count": 5,
   "metadata": {
    "collapsed": false
   },
   "outputs": [],
   "source": [
    "# show users vs. features (topics)\n",
    "features = dict()\n",
    "\n",
    "for i, doc in enumerate(corpus):\n",
    "    features[user_timelines_keys[i]] = model.get_document_topics(doc, minimum_probability=None)\n"
   ]
  },
  {
   "cell_type": "code",
   "execution_count": 6,
   "metadata": {
    "collapsed": false
   },
   "outputs": [],
   "source": [
    "# do time-plot of features for a specific user (topics) vs. time\n",
    "import pandas as pd\n",
    "import numpy as np\n",
    "\n",
    "columns = ['topic1', 'topic2', 'topic3', 'topic4', 'topic5',\n",
    "           'topic6', 'topic7', 'topic8', 'topic9', 'topic10']\n",
    "index = user_timelines_keys\n",
    "df = pd.DataFrame(data=np.zeros((len(index), len(columns))), columns=columns, index=index)\n",
    "\n",
    "for doc_ind, user_doc in enumerate(features.values()):\n",
    "    for topic in user_doc:\n",
    "        df.iloc[doc_ind, topic[0]] = topic[1]"
   ]
  },
  {
   "cell_type": "code",
   "execution_count": 7,
   "metadata": {
    "collapsed": false
   },
   "outputs": [
    {
     "data": {
      "text/html": [
       "<div>\n",
       "<table border=\"1\" class=\"dataframe\">\n",
       "  <thead>\n",
       "    <tr style=\"text-align: right;\">\n",
       "      <th></th>\n",
       "      <th>topic1</th>\n",
       "      <th>topic2</th>\n",
       "      <th>topic3</th>\n",
       "      <th>topic4</th>\n",
       "      <th>topic5</th>\n",
       "      <th>topic6</th>\n",
       "      <th>topic7</th>\n",
       "      <th>topic8</th>\n",
       "      <th>topic9</th>\n",
       "      <th>topic10</th>\n",
       "    </tr>\n",
       "  </thead>\n",
       "  <tbody>\n",
       "    <tr>\n",
       "      <th>4142420968</th>\n",
       "      <td>0.100000</td>\n",
       "      <td>0.100000</td>\n",
       "      <td>0.100000</td>\n",
       "      <td>0.100000</td>\n",
       "      <td>0.100000</td>\n",
       "      <td>0.100000</td>\n",
       "      <td>0.100000</td>\n",
       "      <td>0.100000</td>\n",
       "      <td>0.100000</td>\n",
       "      <td>0.100000</td>\n",
       "    </tr>\n",
       "    <tr>\n",
       "      <th>4821786106</th>\n",
       "      <td>0.020009</td>\n",
       "      <td>0.020002</td>\n",
       "      <td>0.020002</td>\n",
       "      <td>0.020002</td>\n",
       "      <td>0.590901</td>\n",
       "      <td>0.249071</td>\n",
       "      <td>0.020006</td>\n",
       "      <td>0.020002</td>\n",
       "      <td>0.020002</td>\n",
       "      <td>0.020002</td>\n",
       "    </tr>\n",
       "    <tr>\n",
       "      <th>490303928</th>\n",
       "      <td>0.014667</td>\n",
       "      <td>0.000000</td>\n",
       "      <td>0.256400</td>\n",
       "      <td>0.092959</td>\n",
       "      <td>0.288617</td>\n",
       "      <td>0.020218</td>\n",
       "      <td>0.289897</td>\n",
       "      <td>0.000000</td>\n",
       "      <td>0.036952</td>\n",
       "      <td>0.000000</td>\n",
       "    </tr>\n",
       "    <tr>\n",
       "      <th>2998173641</th>\n",
       "      <td>0.088396</td>\n",
       "      <td>0.048847</td>\n",
       "      <td>0.173083</td>\n",
       "      <td>0.087750</td>\n",
       "      <td>0.177497</td>\n",
       "      <td>0.035174</td>\n",
       "      <td>0.380426</td>\n",
       "      <td>0.000000</td>\n",
       "      <td>0.000000</td>\n",
       "      <td>0.000000</td>\n",
       "    </tr>\n",
       "    <tr>\n",
       "      <th>4785016214</th>\n",
       "      <td>0.014286</td>\n",
       "      <td>0.014286</td>\n",
       "      <td>0.871416</td>\n",
       "      <td>0.014287</td>\n",
       "      <td>0.014289</td>\n",
       "      <td>0.014286</td>\n",
       "      <td>0.014287</td>\n",
       "      <td>0.014289</td>\n",
       "      <td>0.014286</td>\n",
       "      <td>0.014287</td>\n",
       "    </tr>\n",
       "  </tbody>\n",
       "</table>\n",
       "</div>"
      ],
      "text/plain": [
       "              topic1    topic2    topic3    topic4    topic5    topic6  \\\n",
       "4142420968  0.100000  0.100000  0.100000  0.100000  0.100000  0.100000   \n",
       "4821786106  0.020009  0.020002  0.020002  0.020002  0.590901  0.249071   \n",
       "490303928   0.014667  0.000000  0.256400  0.092959  0.288617  0.020218   \n",
       "2998173641  0.088396  0.048847  0.173083  0.087750  0.177497  0.035174   \n",
       "4785016214  0.014286  0.014286  0.871416  0.014287  0.014289  0.014286   \n",
       "\n",
       "              topic7    topic8    topic9   topic10  \n",
       "4142420968  0.100000  0.100000  0.100000  0.100000  \n",
       "4821786106  0.020006  0.020002  0.020002  0.020002  \n",
       "490303928   0.289897  0.000000  0.036952  0.000000  \n",
       "2998173641  0.380426  0.000000  0.000000  0.000000  \n",
       "4785016214  0.014287  0.014289  0.014286  0.014287  "
      ]
     },
     "execution_count": 7,
     "metadata": {},
     "output_type": "execute_result"
    }
   ],
   "source": [
    "df.head()"
   ]
  },
  {
   "cell_type": "code",
   "execution_count": 8,
   "metadata": {
    "collapsed": false
   },
   "outputs": [
    {
     "data": {
      "text/plain": [
       "<seaborn.matrix.ClusterGrid at 0x7f4fcaf0ad68>"
      ]
     },
     "execution_count": 8,
     "metadata": {},
     "output_type": "execute_result"
    },
    {
     "data": {
      "image/png": "[encoded data removed]",
      "text/plain": [
       "<matplotlib.figure.Figure at 0x7f4fcaf0e128>"
      ]
     },
     "metadata": {},
     "output_type": "display_data"
    }
   ],
   "source": [
    "import seaborn as sns\n",
    "%matplotlib inline\n",
    "\n",
    "sns.clustermap(df)"
   ]
  },
  {
   "cell_type": "code",
   "execution_count": 9,
   "metadata": {
    "collapsed": true
   },
   "outputs": [],
   "source": [
    "# do Doc2Vec to cluster user-timelines (documents)"
   ]
  }
 ],
 "metadata": {
  "kernelspec": {
   "display_name": "Python 3",
   "language": "python",
   "name": "python3"
  },
  "language_info": {
   "codemirror_mode": {
    "name": "ipython",
    "version": 3
   },
   "file_extension": ".py",
   "mimetype": "text/x-python",
   "name": "python",
   "nbconvert_exporter": "python",
   "pygments_lexer": "ipython3",
   "version": "3.4.3"
  }
 },
 "nbformat": 4,
 "nbformat_minor": 0
}
