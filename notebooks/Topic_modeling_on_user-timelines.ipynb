{
 "cells": [
  {
   "cell_type": "markdown",
   "metadata": {
    "collapsed": false
   },
   "source": [
    "# Download user timelines\n",
    "To see how these user-timelines were downloaded, see:\n",
    "\n",
    "`sm_w2v.__main__.run_uer_timeline_download()`\n",
    "\n",
    "Data were downloaded to:\n",
    "\n",
    "`data/user_timeline_tweets.json`"
   ]
  },
  {
   "cell_type": "code",
   "execution_count": 1,
   "metadata": {
    "collapsed": false
   },
   "outputs": [],
   "source": [
    "# load and concatenate tweet timeline-documents\n",
    "import json\n",
    "\n",
    "user_timelines = dict()\n",
    "with open('../data/user_timeline_tweets.json') as f_in:\n",
    "    for l in f_in:\n",
    "        try:\n",
    "            twt = json.loads(l)\n",
    "        except:\n",
    "            continue\n",
    "        user_id_str = twt['user']['id_str']\n",
    "        if user_id_str in user_timelines:\n",
    "            user_timelines[user_id_str] = user_timelines[user_id_str] + ' ' + twt['text']\n",
    "        else:\n",
    "            user_timelines[user_id_str] = twt['text']\n",
    "\n",
    "# print(user_timelines['383303820'])"
   ]
  },
  {
   "cell_type": "markdown",
   "metadata": {},
   "source": [
    "# clean/preprocess text"
   ]
  },
  {
   "cell_type": "code",
   "execution_count": 2,
   "metadata": {
    "collapsed": false
   },
   "outputs": [],
   "source": [
    "from gensim.parsing.preprocessing import STOPWORDS\n",
    "import re\n",
    "\n",
    "STOPWORDS_ = ['rt', '', 'httpst', 'amp', 'https\\'']\n",
    "\n",
    "def clean_text(text):\n",
    "    clean = re.sub(r'http.*$', '', text)\n",
    "    clean = re.sub(r'[^a-zA-Z\\s]', '', clean)\n",
    "    \n",
    "    clean = clean.lower()\n",
    "    word_list = clean.split()\n",
    "    word_list = [w for w in word_list if (w not in STOPWORDS_ and w not in STOPWORDS)]\n",
    "    \n",
    "    return word_list\n",
    "\n",
    "user_clean_timelines = dict()\n",
    "for user_id_str in user_timelines.keys():\n",
    "    user_clean_timelines[user_id_str] = clean_text(user_timelines[user_id_str])"
   ]
  },
  {
   "cell_type": "markdown",
   "metadata": {},
   "source": [
    "# LDA topic modeling on timeline documents"
   ]
  },
  {
   "cell_type": "code",
   "execution_count": 3,
   "metadata": {
    "collapsed": false
   },
   "outputs": [
    {
     "name": "stderr",
     "output_type": "stream",
     "text": [
      "WARNING:gensim.models.ldamodel:too few updates, training might not converge; consider increasing the number of passes or iterations to improve accuracy\n"
     ]
    },
    {
     "name": "stdout",
     "output_type": "stream",
     "text": [
      "number of user-timelines: 275\n"
     ]
    }
   ],
   "source": [
    "from gensim.models.ldamodel import LdaModel\n",
    "from gensim import corpora\n",
    "\n",
    "user_timelines_keys = []\n",
    "texts = []\n",
    "for k, v in user_clean_timelines.items():\n",
    "    user_timelines_keys.append(k)\n",
    "    texts.append(v)\n",
    "\n",
    "dictionary = corpora.Dictionary(texts)\n",
    "corpus = [dictionary.doc2bow(text) for text in texts]\n",
    "\n",
    "print('number of user-timelines:', len(corpus))\n",
    "model = LdaModel(corpus, id2word=dictionary, num_topics=10, iterations=50, passes=5)"
   ]
  },
  {
   "cell_type": "code",
   "execution_count": 4,
   "metadata": {
    "collapsed": false
   },
   "outputs": [],
   "source": [
    "model.save('../models/lda_user_timelines.model')\n",
    "model = LdaModel.load('../models/lda_user_timelines.model')"
   ]
  },
  {
   "cell_type": "code",
   "execution_count": 5,
   "metadata": {
    "collapsed": false
   },
   "outputs": [
    {
     "data": {
      "text/plain": [
       "[(0,\n",
       "  '0.005*hiv + 0.004*follownewsnow + 0.004*spongebob + 0.004*trump + 0.003*httpstcouiwlwxzp + 0.003*new + 0.003*history + 0.003*https + 0.003*rdguk + 0.002*people'),\n",
       " (1,\n",
       "  '0.005*gay + 0.004*toddjsaporito + 0.003*gayeyes + 0.003*instagay + 0.003*gayteen + 0.003*gaysmile + 0.003*gaymuscle + 0.003*gayisgood + 0.003*gayboyfriend + 0.003*gaysilly'),\n",
       " (2,\n",
       "  '0.012*nonsense + 0.012*nonsenseengine + 0.003*gayasiatraveler + 0.003*asiagaytravel + 0.003*trump + 0.003*gaytravelasia + 0.002*gay + 0.002*love + 0.002*im + 0.002*cruz'),\n",
       " (3,\n",
       "  '0.018*photography + 0.008*newsonenow + 0.007*tvonetv + 0.007*px + 0.007*courage + 0.004*weightloss + 0.004*photos + 0.004*dieting + 0.004*fatloss + 0.003*new'),\n",
       " (4,\n",
       "  '0.007*union + 0.007*occupy + 0.007*blm + 0.006*tech + 0.006*sdf + 0.006*howto + 0.006*p + 0.006*tlot + 0.005*video + 0.004*feelthebern'),\n",
       " (5,\n",
       "  '0.007*la + 0.006*en + 0.005*httpstcosnxkzpitx + 0.005*el + 0.004*howrid + 0.004*que + 0.004*y + 0.004*httpstcoonaxnvdya + 0.003*marketing + 0.003*breakingbadbot'),\n",
       " (6,\n",
       "  '0.007*flipboard + 0.006*gaymenonline + 0.005*hearing + 0.005*pstgodwinvictor + 0.004*gay + 0.004*word + 0.003*dg + 0.003*loss + 0.003*new + 0.003*hacking'),\n",
       " (7,\n",
       "  '0.006*phantomblack + 0.004*like + 0.004*hair + 0.004*cbd + 0.003*dont + 0.003*im + 0.003*people + 0.003*u + 0.003*know + 0.002*uniteblue'),\n",
       " (8,\n",
       "  '0.012*hiv + 0.007*gurmeetramrahim + 0.004*news + 0.004*chicago + 0.004*new + 0.003*people + 0.003*eau + 0.003*day + 0.003*uroweb + 0.003*messagesofmsg'),\n",
       " (9,\n",
       "  '0.008*pips + 0.006*hiring + 0.006*today + 0.006*jobopening + 0.005*rtjobs + 0.005*httpstcofcnipwubrr + 0.005*apply + 0.004*httpstcofyuypte + 0.004*total + 0.004*closed')]"
      ]
     },
     "execution_count": 5,
     "metadata": {},
     "output_type": "execute_result"
    }
   ],
   "source": [
    "# idenitify topics of interest\n",
    "model.print_topics(20)"
   ]
  },
  {
   "cell_type": "code",
   "execution_count": 6,
   "metadata": {
    "collapsed": false
   },
   "outputs": [],
   "source": [
    "# show users vs. features (topics)\n",
    "features = dict()\n",
    "\n",
    "for i, doc in enumerate(corpus):\n",
    "    features[user_timelines_keys[i]] = model.get_document_topics(doc, minimum_probability=None)\n"
   ]
  },
  {
   "cell_type": "code",
   "execution_count": 7,
   "metadata": {
    "collapsed": false
   },
   "outputs": [],
   "source": [
    "# do time-plot of features for a specific user (topics) vs. time\n",
    "import pandas as pd\n",
    "import numpy as np\n",
    "\n",
    "columns = ['topic1', 'topic2', 'topic3', 'topic4', 'topic5',\n",
    "           'topic6', 'topic7', 'topic8', 'topic9', 'topic10']\n",
    "index = user_timelines_keys\n",
    "df = pd.DataFrame(data=np.zeros((len(index), len(columns))), columns=columns, index=index)\n",
    "\n",
    "for doc_ind, user_doc in enumerate(features.values()):\n",
    "    for topic in user_doc:\n",
    "        df.iloc[doc_ind, topic[0]] = topic[1]"
   ]
  },
  {
   "cell_type": "code",
   "execution_count": 8,
   "metadata": {
    "collapsed": false
   },
   "outputs": [
    {
     "data": {
      "text/html": [
       "<div>\n",
       "<table border=\"1\" class=\"dataframe\">\n",
       "  <thead>\n",
       "    <tr style=\"text-align: right;\">\n",
       "      <th></th>\n",
       "      <th>topic1</th>\n",
       "      <th>topic2</th>\n",
       "      <th>topic3</th>\n",
       "      <th>topic4</th>\n",
       "      <th>topic5</th>\n",
       "      <th>topic6</th>\n",
       "      <th>topic7</th>\n",
       "      <th>topic8</th>\n",
       "      <th>topic9</th>\n",
       "      <th>topic10</th>\n",
       "    </tr>\n",
       "  </thead>\n",
       "  <tbody>\n",
       "    <tr>\n",
       "      <th>3225709668</th>\n",
       "      <td>0</td>\n",
       "      <td>0.000000</td>\n",
       "      <td>0</td>\n",
       "      <td>0</td>\n",
       "      <td>0</td>\n",
       "      <td>0</td>\n",
       "      <td>0.00000</td>\n",
       "      <td>0.918171</td>\n",
       "      <td>0.000000</td>\n",
       "      <td>0.000000</td>\n",
       "    </tr>\n",
       "    <tr>\n",
       "      <th>471398062</th>\n",
       "      <td>0</td>\n",
       "      <td>0.000000</td>\n",
       "      <td>0</td>\n",
       "      <td>0</td>\n",
       "      <td>0</td>\n",
       "      <td>0</td>\n",
       "      <td>0.99996</td>\n",
       "      <td>0.000000</td>\n",
       "      <td>0.000000</td>\n",
       "      <td>0.000000</td>\n",
       "    </tr>\n",
       "    <tr>\n",
       "      <th>768904033</th>\n",
       "      <td>0</td>\n",
       "      <td>0.000000</td>\n",
       "      <td>0</td>\n",
       "      <td>0</td>\n",
       "      <td>0</td>\n",
       "      <td>0</td>\n",
       "      <td>0.00000</td>\n",
       "      <td>0.000000</td>\n",
       "      <td>0.000000</td>\n",
       "      <td>0.999966</td>\n",
       "    </tr>\n",
       "    <tr>\n",
       "      <th>2952292472</th>\n",
       "      <td>0</td>\n",
       "      <td>0.999969</td>\n",
       "      <td>0</td>\n",
       "      <td>0</td>\n",
       "      <td>0</td>\n",
       "      <td>0</td>\n",
       "      <td>0.00000</td>\n",
       "      <td>0.000000</td>\n",
       "      <td>0.000000</td>\n",
       "      <td>0.000000</td>\n",
       "    </tr>\n",
       "    <tr>\n",
       "      <th>2878429660</th>\n",
       "      <td>0</td>\n",
       "      <td>0.000000</td>\n",
       "      <td>0</td>\n",
       "      <td>0</td>\n",
       "      <td>0</td>\n",
       "      <td>0</td>\n",
       "      <td>0.00000</td>\n",
       "      <td>0.000000</td>\n",
       "      <td>0.999966</td>\n",
       "      <td>0.000000</td>\n",
       "    </tr>\n",
       "  </tbody>\n",
       "</table>\n",
       "</div>"
      ],
      "text/plain": [
       "            topic1    topic2  topic3  topic4  topic5  topic6   topic7  \\\n",
       "3225709668       0  0.000000       0       0       0       0  0.00000   \n",
       "471398062        0  0.000000       0       0       0       0  0.99996   \n",
       "768904033        0  0.000000       0       0       0       0  0.00000   \n",
       "2952292472       0  0.999969       0       0       0       0  0.00000   \n",
       "2878429660       0  0.000000       0       0       0       0  0.00000   \n",
       "\n",
       "              topic8    topic9   topic10  \n",
       "3225709668  0.918171  0.000000  0.000000  \n",
       "471398062   0.000000  0.000000  0.000000  \n",
       "768904033   0.000000  0.000000  0.999966  \n",
       "2952292472  0.000000  0.000000  0.000000  \n",
       "2878429660  0.000000  0.999966  0.000000  "
      ]
     },
     "execution_count": 8,
     "metadata": {},
     "output_type": "execute_result"
    }
   ],
   "source": [
    "df.head()"
   ]
  },
  {
   "cell_type": "code",
   "execution_count": 9,
   "metadata": {
    "collapsed": false
   },
   "outputs": [
    {
     "data": {
      "text/plain": [
       "<seaborn.matrix.ClusterGrid at 0x7f68960a75f8>"
      ]
     },
     "execution_count": 9,
     "metadata": {},
     "output_type": "execute_result"
    },
    {
     "data": {
      "image/png": "[encoded data removed]",
      "text/plain": [
       "<matplotlib.figure.Figure at 0x7f688d0f0f60>"
      ]
     },
     "metadata": {},
     "output_type": "display_data"
    }
   ],
   "source": [
    "import seaborn as sns\n",
    "%matplotlib inline\n",
    "\n",
    "sns.clustermap(df)"
   ]
  },
  {
   "cell_type": "code",
   "execution_count": 10,
   "metadata": {
    "collapsed": true
   },
   "outputs": [],
   "source": [
    "# do Doc2Vec to cluster user-timelines (documents)"
   ]
  }
 ],
 "metadata": {
  "kernelspec": {
   "display_name": "Python 3",
   "language": "python",
   "name": "python3"
  },
  "language_info": {
   "codemirror_mode": {
    "name": "ipython",
    "version": 3
   },
   "file_extension": ".py",
   "mimetype": "text/x-python",
   "name": "python",
   "nbconvert_exporter": "python",
   "pygments_lexer": "ipython3",
   "version": "3.4.3"
  }
 },
 "nbformat": 4,
 "nbformat_minor": 0
}
