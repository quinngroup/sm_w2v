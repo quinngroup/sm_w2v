{
 "cells": [
  {
   "cell_type": "markdown",
   "metadata": {
    "collapsed": false
   },
   "source": [
    "# Analysis on user timelines\n",
    "To see how these user-timelines were downloaded, see:\n",
    "\n",
    "`sm_w2v.__main__.run_user_timeline_download()`\n",
    "\n",
    "Data were downloaded to:\n",
    "\n",
    "`data/user_timeline_tweets.json`"
   ]
  },
  {
   "cell_type": "code",
   "execution_count": 1,
   "metadata": {
    "collapsed": false
   },
   "outputs": [],
   "source": [
    "# load and concatenate tweet timeline-documents\n",
    "import json\n",
    "\n",
    "train = True\n",
    "\n",
    "user_timelines = dict()\n",
    "with open('../data/user_timeline_tweets.json') as f_in:\n",
    "    for l in f_in:\n",
    "        try:\n",
    "            twt = json.loads(l)\n",
    "        except:\n",
    "            continue\n",
    "        user_id_str = twt['user']['id_str']\n",
    "        if user_id_str in user_timelines:\n",
    "            user_timelines[user_id_str] = user_timelines[user_id_str] + ' ' + twt['text']\n",
    "        else:\n",
    "            user_timelines[user_id_str] = twt['text']"
   ]
  },
  {
   "cell_type": "markdown",
   "metadata": {},
   "source": [
    "# clean/preprocess text"
   ]
  },
  {
   "cell_type": "code",
   "execution_count": 2,
   "metadata": {
    "collapsed": false
   },
   "outputs": [],
   "source": [
    "from gensim.parsing.preprocessing import STOPWORDS\n",
    "from nltk.corpus import stopwords\n",
    "import re\n",
    "\n",
    "\n",
    "STOPWORDS = set(['rt', '', 'httpst', 'amp', 'https\\'', 'ang',\n",
    "                'ng', 'tcot', 'ako', , 'sa', 'ko', 'rp', 'roc',\n",
    "                'fe', 'sk', 'holi', 'asa', 'guru', 'yah', 'lista',\n",
    "                 'hah' 'il', 'seo', 'casa', 'qotd', 'noh']).union(set(STOPWORDS)) \\\n",
    "    .union(set(stopwords.words('spanish'))) \\\n",
    "    .union(set(stopwords.words('portuguese'))) \\\n",
    "    .union(set(stopwords.words('german'))) \\\n",
    "    .union(set(stopwords.words('dutch')))\n",
    "\n",
    "def clean_text(text):\n",
    "    clean = re.sub(r'http.*$', '', text)\n",
    "    clean = re.sub(r'[^a-zA-Z\\s]', '', clean)\n",
    "\n",
    "    clean = clean.lower()\n",
    "    word_list = clean.split()\n",
    "    word_list = [w for w in word_list if (w not in STOPWORDS)]\n",
    "\n",
    "    return word_list\n",
    "\n",
    "user_clean_timelines = dict()\n",
    "for user_id_str in user_timelines.keys():\n",
    "    user_clean_timelines[user_id_str] = clean_text(user_timelines[user_id_str])"
   ]
  },
  {
   "cell_type": "markdown",
   "metadata": {},
   "source": [
    "# LDA topic modeling on timeline documents"
   ]
  },
  {
   "cell_type": "code",
   "execution_count": 12,
   "metadata": {
    "collapsed": false
   },
   "outputs": [
    {
     "name": "stdout",
     "output_type": "stream",
     "text": [
      "number of user-timelines: 297\n"
     ]
    }
   ],
   "source": [
    "from gensim.models.ldamodel import LdaModel\n",
    "from gensim.models import TfidfModel\n",
    "from gensim import corpora\n",
    "\n",
    "\n",
    "user_timelines_keys = []\n",
    "texts = []\n",
    "for k, v in user_clean_timelines.items():\n",
    "    user_timelines_keys.append(k)\n",
    "    texts.append(v)\n",
    "\n",
    "# filter out users with less than 200 words in the tweets in their timelines\n",
    "long_timelines = [t for t in texts if len(t) > 200]\n",
    "dictionary = corpora.Dictionary(long_timelines)\n",
    "dictionary.filter_extremes(no_below=10, no_above=0.3, keep_n=100000)\n",
    "corpus = [dictionary.doc2bow(text) for text in long_timelines]\n",
    "tfidf = TfidfModel(corpus)\n",
    "corpus = tfidf[corpus]\n",
    "corpus = corpus[0:500]\n",
    "print('number of user-timelines:', len(corpus))\n",
    "\n",
    "if train:\n",
    "    model = LdaModel(corpus, id2word=dictionary, num_topics=10, iterations=50, passes=10)\n",
    "    model.save('../models/lda_user_timelines.model')\n",
    "\n",
    "else:\n",
    "    model = LdaModel.load('../models/lda_user_timelines.model')"
   ]
  },
  {
   "cell_type": "code",
   "execution_count": null,
   "metadata": {
    "collapsed": false
   },
   "outputs": [],
   "source": []
  },
  {
   "cell_type": "code",
   "execution_count": 23,
   "metadata": {
    "collapsed": false
   },
   "outputs": [
    {
     "data": {
      "text/html": [
       "<div>\n",
       "<table border=\"1\" class=\"dataframe\">\n",
       "  <thead>\n",
       "    <tr style=\"text-align: right;\">\n",
       "      <th></th>\n",
       "      <th>0</th>\n",
       "      <th>1</th>\n",
       "      <th>2</th>\n",
       "      <th>3</th>\n",
       "      <th>4</th>\n",
       "      <th>5</th>\n",
       "      <th>6</th>\n",
       "      <th>7</th>\n",
       "      <th>8</th>\n",
       "      <th>9</th>\n",
       "    </tr>\n",
       "  </thead>\n",
       "  <tbody>\n",
       "    <tr>\n",
       "      <th>0</th>\n",
       "      <td>0.001*hivaids</td>\n",
       "      <td>0.001*condoms</td>\n",
       "      <td>0.001*bitcoin</td>\n",
       "      <td>0.001*stigma</td>\n",
       "      <td>0.001*cdcstd</td>\n",
       "      <td>0.001*kanyewest</td>\n",
       "      <td>0.001*nyhaad</td>\n",
       "      <td>0.001*entrepreneur</td>\n",
       "      <td>0.001*realestate</td>\n",
       "      <td>0.001*blacklivesmatter</td>\n",
       "    </tr>\n",
       "    <tr>\n",
       "      <th>1</th>\n",
       "      <td>0.002*ang</td>\n",
       "      <td>0.002*ng</td>\n",
       "      <td>0.002*tcot</td>\n",
       "      <td>0.001*ako</td>\n",
       "      <td>0.001*sa</td>\n",
       "      <td>0.001*ko</td>\n",
       "      <td>0.001*pjnet</td>\n",
       "      <td>0.001*realdonaldtrump</td>\n",
       "      <td>0.001*gopdebate</td>\n",
       "      <td>0.001*cruzcrew</td>\n",
       "    </tr>\n",
       "    <tr>\n",
       "      <th>2</th>\n",
       "      <td>0.001*fertility</td>\n",
       "      <td>0.001*infertility</td>\n",
       "      <td>0.001*meme</td>\n",
       "      <td>0.001*mxico</td>\n",
       "      <td>0.001*rp</td>\n",
       "      <td>0.001*deactivate</td>\n",
       "      <td>0.001*rail</td>\n",
       "      <td>0.001*roc</td>\n",
       "      <td>0.000*offensive</td>\n",
       "      <td>0.000*feedly</td>\n",
       "    </tr>\n",
       "    <tr>\n",
       "      <th>3</th>\n",
       "      <td>0.001*colombia</td>\n",
       "      <td>0.000*pozlivingbc</td>\n",
       "      <td>0.000*fe</td>\n",
       "      <td>0.000*repostapp</td>\n",
       "      <td>0.000*sprite</td>\n",
       "      <td>0.000*bccfe</td>\n",
       "      <td>0.000*thewalkingdead</td>\n",
       "      <td>0.000*npinchat</td>\n",
       "      <td>0.000*interior</td>\n",
       "      <td>0.000*wellness</td>\n",
       "    </tr>\n",
       "    <tr>\n",
       "      <th>4</th>\n",
       "      <td>0.001*businessinsider</td>\n",
       "      <td>0.001*stacks</td>\n",
       "      <td>0.000*noh</td>\n",
       "      <td>0.000*teaparty</td>\n",
       "      <td>0.000*sk</td>\n",
       "      <td>0.000*holi</td>\n",
       "      <td>0.000*alzheimers</td>\n",
       "      <td>0.000*caregiver</td>\n",
       "      <td>0.000*asa</td>\n",
       "      <td>0.000*guru</td>\n",
       "    </tr>\n",
       "    <tr>\n",
       "      <th>5</th>\n",
       "      <td>0.001*armenia</td>\n",
       "      <td>0.001*wordpress</td>\n",
       "      <td>0.001*georgia</td>\n",
       "      <td>0.001*topping</td>\n",
       "      <td>0.001*lgbtqia</td>\n",
       "      <td>0.000*yah</td>\n",
       "      <td>0.000*faction</td>\n",
       "      <td>0.000*checkout</td>\n",
       "      <td>0.000*narendramodi</td>\n",
       "      <td>0.000*examination</td>\n",
       "    </tr>\n",
       "    <tr>\n",
       "      <th>6</th>\n",
       "      <td>0.001*knitting</td>\n",
       "      <td>0.001*lista</td>\n",
       "      <td>0.001*naral</td>\n",
       "      <td>0.000*gust</td>\n",
       "      <td>0.000*worldbank</td>\n",
       "      <td>0.000*bigdata</td>\n",
       "      <td>0.000*haiku</td>\n",
       "      <td>0.000*vdeo</td>\n",
       "      <td>0.000*mhealth</td>\n",
       "      <td>0.000*hah</td>\n",
       "    </tr>\n",
       "    <tr>\n",
       "      <th>7</th>\n",
       "      <td>0.001*nigga</td>\n",
       "      <td>0.001*niggas</td>\n",
       "      <td>0.001*bernie</td>\n",
       "      <td>0.001*lmao</td>\n",
       "      <td>0.001*nhsengland</td>\n",
       "      <td>0.001*bitches</td>\n",
       "      <td>0.001*bae</td>\n",
       "      <td>0.001*uniteblue</td>\n",
       "      <td>0.001*il</td>\n",
       "      <td>0.001*gop</td>\n",
       "    </tr>\n",
       "    <tr>\n",
       "      <th>8</th>\n",
       "      <td>0.002*socialmedia</td>\n",
       "      <td>0.001*seo</td>\n",
       "      <td>0.001*socialmediamarketing</td>\n",
       "      <td>0.001*der</td>\n",
       "      <td>0.001*und</td>\n",
       "      <td>0.001*entrepreneur</td>\n",
       "      <td>0.001*ist</td>\n",
       "      <td>0.001*nowplaying</td>\n",
       "      <td>0.001*foxbusiness</td>\n",
       "      <td>0.001*enews</td>\n",
       "    </tr>\n",
       "    <tr>\n",
       "      <th>9</th>\n",
       "      <td>0.001*collage</td>\n",
       "      <td>0.001*mileycyrus</td>\n",
       "      <td>0.000*undetectable</td>\n",
       "      <td>0.000*ddlovato</td>\n",
       "      <td>0.000*casa</td>\n",
       "      <td>0.000*cnet</td>\n",
       "      <td>0.000*qotd</td>\n",
       "      <td>0.000*vacations</td>\n",
       "      <td>0.000*nashville</td>\n",
       "      <td>0.000*heros</td>\n",
       "    </tr>\n",
       "  </tbody>\n",
       "</table>\n",
       "</div>"
      ],
      "text/plain": [
       "                       0                  1                           2  \\\n",
       "0          0.001*hivaids      0.001*condoms               0.001*bitcoin   \n",
       "1              0.002*ang           0.002*ng                  0.002*tcot   \n",
       "2        0.001*fertility  0.001*infertility                  0.001*meme   \n",
       "3         0.001*colombia  0.000*pozlivingbc                    0.000*fe   \n",
       "4  0.001*businessinsider       0.001*stacks                   0.000*noh   \n",
       "5          0.001*armenia    0.001*wordpress               0.001*georgia   \n",
       "6         0.001*knitting        0.001*lista                 0.001*naral   \n",
       "7            0.001*nigga       0.001*niggas                0.001*bernie   \n",
       "8      0.002*socialmedia          0.001*seo  0.001*socialmediamarketing   \n",
       "9          0.001*collage   0.001*mileycyrus          0.000*undetectable   \n",
       "\n",
       "                 3                 4                   5  \\\n",
       "0     0.001*stigma      0.001*cdcstd     0.001*kanyewest   \n",
       "1        0.001*ako          0.001*sa            0.001*ko   \n",
       "2      0.001*mxico          0.001*rp    0.001*deactivate   \n",
       "3  0.000*repostapp      0.000*sprite         0.000*bccfe   \n",
       "4   0.000*teaparty          0.000*sk          0.000*holi   \n",
       "5    0.001*topping     0.001*lgbtqia           0.000*yah   \n",
       "6       0.000*gust   0.000*worldbank       0.000*bigdata   \n",
       "7       0.001*lmao  0.001*nhsengland       0.001*bitches   \n",
       "8        0.001*der         0.001*und  0.001*entrepreneur   \n",
       "9   0.000*ddlovato        0.000*casa          0.000*cnet   \n",
       "\n",
       "                      6                      7                   8  \\\n",
       "0          0.001*nyhaad     0.001*entrepreneur    0.001*realestate   \n",
       "1           0.001*pjnet  0.001*realdonaldtrump     0.001*gopdebate   \n",
       "2            0.001*rail              0.001*roc     0.000*offensive   \n",
       "3  0.000*thewalkingdead         0.000*npinchat      0.000*interior   \n",
       "4      0.000*alzheimers        0.000*caregiver           0.000*asa   \n",
       "5         0.000*faction         0.000*checkout  0.000*narendramodi   \n",
       "6           0.000*haiku             0.000*vdeo       0.000*mhealth   \n",
       "7             0.001*bae        0.001*uniteblue            0.001*il   \n",
       "8             0.001*ist       0.001*nowplaying   0.001*foxbusiness   \n",
       "9            0.000*qotd        0.000*vacations     0.000*nashville   \n",
       "\n",
       "                        9  \n",
       "0  0.001*blacklivesmatter  \n",
       "1          0.001*cruzcrew  \n",
       "2            0.000*feedly  \n",
       "3          0.000*wellness  \n",
       "4              0.000*guru  \n",
       "5       0.000*examination  \n",
       "6               0.000*hah  \n",
       "7               0.001*gop  \n",
       "8             0.001*enews  \n",
       "9             0.000*heros  "
      ]
     },
     "execution_count": 23,
     "metadata": {},
     "output_type": "execute_result"
    }
   ],
   "source": [
    "# idenitify topics of interest\n",
    "pd.DataFrame([row[1].split(' + ') for row in model.print_topics(20)]).iloc[:,0:10]"
   ]
  },
  {
   "cell_type": "code",
   "execution_count": 5,
   "metadata": {
    "collapsed": false
   },
   "outputs": [],
   "source": [
    "# show users vs. features (topics)\n",
    "features = dict()\n",
    "\n",
    "for i, doc in enumerate(corpus):\n",
    "    features[user_timelines_keys[i]] = model.get_document_topics(doc, minimum_probability=None)\n"
   ]
  },
  {
   "cell_type": "code",
   "execution_count": 6,
   "metadata": {
    "collapsed": false
   },
   "outputs": [],
   "source": [
    "# do time-plot of features for a specific user (topics) vs. time\n",
    "import pandas as pd\n",
    "import numpy as np\n",
    "\n",
    "columns = ['topic0', 'topic1', 'topic2', 'topic3', 'topic4',\n",
    "           'topic5', 'topic6', 'topic7', 'topic8', 'topic9']\n",
    "index = user_timelines_keys\n",
    "df = pd.DataFrame(data=np.zeros((len(index), len(columns))), columns=columns, index=index)\n",
    "\n",
    "for doc_ind, user_doc in enumerate(features.values()):\n",
    "    for topic in user_doc:\n",
    "        df.iloc[doc_ind, topic[0]] = topic[1]"
   ]
  },
  {
   "cell_type": "code",
   "execution_count": 7,
   "metadata": {
    "collapsed": false
   },
   "outputs": [
    {
     "data": {
      "text/html": [
       "<div>\n",
       "<table border=\"1\" class=\"dataframe\">\n",
       "  <thead>\n",
       "    <tr style=\"text-align: right;\">\n",
       "      <th></th>\n",
       "      <th>topic0</th>\n",
       "      <th>topic1</th>\n",
       "      <th>topic2</th>\n",
       "      <th>topic3</th>\n",
       "      <th>topic4</th>\n",
       "      <th>topic5</th>\n",
       "      <th>topic6</th>\n",
       "      <th>topic7</th>\n",
       "      <th>topic8</th>\n",
       "      <th>topic9</th>\n",
       "    </tr>\n",
       "  </thead>\n",
       "  <tbody>\n",
       "    <tr>\n",
       "      <th>1092041790</th>\n",
       "      <td>0.000000</td>\n",
       "      <td>0.340461</td>\n",
       "      <td>0.000000</td>\n",
       "      <td>0.000000</td>\n",
       "      <td>0.038214</td>\n",
       "      <td>0.579821</td>\n",
       "      <td>0.000000</td>\n",
       "      <td>0.000000</td>\n",
       "      <td>0.000000</td>\n",
       "      <td>0.000000</td>\n",
       "    </tr>\n",
       "    <tr>\n",
       "      <th>369263530</th>\n",
       "      <td>0.000000</td>\n",
       "      <td>0.000000</td>\n",
       "      <td>0.000000</td>\n",
       "      <td>0.000000</td>\n",
       "      <td>0.000000</td>\n",
       "      <td>0.950505</td>\n",
       "      <td>0.000000</td>\n",
       "      <td>0.000000</td>\n",
       "      <td>0.000000</td>\n",
       "      <td>0.000000</td>\n",
       "    </tr>\n",
       "    <tr>\n",
       "      <th>703532351238840324</th>\n",
       "      <td>0.000000</td>\n",
       "      <td>0.093992</td>\n",
       "      <td>0.000000</td>\n",
       "      <td>0.000000</td>\n",
       "      <td>0.063378</td>\n",
       "      <td>0.788377</td>\n",
       "      <td>0.000000</td>\n",
       "      <td>0.000000</td>\n",
       "      <td>0.000000</td>\n",
       "      <td>0.000000</td>\n",
       "    </tr>\n",
       "    <tr>\n",
       "      <th>239712031</th>\n",
       "      <td>0.000000</td>\n",
       "      <td>0.103955</td>\n",
       "      <td>0.000000</td>\n",
       "      <td>0.000000</td>\n",
       "      <td>0.000000</td>\n",
       "      <td>0.707124</td>\n",
       "      <td>0.128868</td>\n",
       "      <td>0.000000</td>\n",
       "      <td>0.000000</td>\n",
       "      <td>0.000000</td>\n",
       "    </tr>\n",
       "    <tr>\n",
       "      <th>3364965988</th>\n",
       "      <td>0.012719</td>\n",
       "      <td>0.141618</td>\n",
       "      <td>0.012719</td>\n",
       "      <td>0.012719</td>\n",
       "      <td>0.063107</td>\n",
       "      <td>0.706236</td>\n",
       "      <td>0.012726</td>\n",
       "      <td>0.012719</td>\n",
       "      <td>0.012719</td>\n",
       "      <td>0.012719</td>\n",
       "    </tr>\n",
       "  </tbody>\n",
       "</table>\n",
       "</div>"
      ],
      "text/plain": [
       "                      topic0    topic1    topic2    topic3    topic4  \\\n",
       "1092041790          0.000000  0.340461  0.000000  0.000000  0.038214   \n",
       "369263530           0.000000  0.000000  0.000000  0.000000  0.000000   \n",
       "703532351238840324  0.000000  0.093992  0.000000  0.000000  0.063378   \n",
       "239712031           0.000000  0.103955  0.000000  0.000000  0.000000   \n",
       "3364965988          0.012719  0.141618  0.012719  0.012719  0.063107   \n",
       "\n",
       "                      topic5    topic6    topic7    topic8    topic9  \n",
       "1092041790          0.579821  0.000000  0.000000  0.000000  0.000000  \n",
       "369263530           0.950505  0.000000  0.000000  0.000000  0.000000  \n",
       "703532351238840324  0.788377  0.000000  0.000000  0.000000  0.000000  \n",
       "239712031           0.707124  0.128868  0.000000  0.000000  0.000000  \n",
       "3364965988          0.706236  0.012726  0.012719  0.012719  0.012719  "
      ]
     },
     "execution_count": 7,
     "metadata": {},
     "output_type": "execute_result"
    }
   ],
   "source": [
    "df.head()"
   ]
  },
  {
   "cell_type": "code",
   "execution_count": 20,
   "metadata": {
    "collapsed": false
   },
   "outputs": [
    {
     "data": {
      "image/png": "[encoded data removed]",
      "text/plain": [
       "<matplotlib.figure.Figure at 0x7f90deb121d0>"
      ]
     },
     "metadata": {},
     "output_type": "display_data"
    }
   ],
   "source": [
    "import seaborn as sns\n",
    "import matplotlib.pyplot as plt\n",
    "%matplotlib inline\n",
    "\n",
    "df.index.name = 'Users'\n",
    "figure = sns.clustermap(df, yticklabels=\"\")\n",
    "\n",
    "figure.savefig('user_timeline_clustermap.pdf', format='pdf')"
   ]
  },
  {
   "cell_type": "code",
   "execution_count": null,
   "metadata": {
    "collapsed": false
   },
   "outputs": [],
   "source": []
  },
  {
   "cell_type": "code",
   "execution_count": null,
   "metadata": {
    "collapsed": true
   },
   "outputs": [],
   "source": []
  }
 ],
 "metadata": {
  "kernelspec": {
   "display_name": "Python 3",
   "language": "python",
   "name": "python3"
  },
  "language_info": {
   "codemirror_mode": {
    "name": "ipython",
    "version": 3
   },
   "file_extension": ".py",
   "mimetype": "text/x-python",
   "name": "python",
   "nbconvert_exporter": "python",
   "pygments_lexer": "ipython3",
   "version": "3.4.3"
  }
 },
 "nbformat": 4,
 "nbformat_minor": 0
}
