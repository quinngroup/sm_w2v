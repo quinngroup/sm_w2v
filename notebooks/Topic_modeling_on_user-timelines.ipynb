{
 "cells": [
  {
   "cell_type": "markdown",
   "metadata": {
    "collapsed": false
   },
   "source": [
    "# Analysis on user timelines\n",
    "To see how these user-timelines were downloaded, see:\n",
    "\n",
    "`sm_w2v.__main__.run_user_timeline_download()`\n",
    "\n",
    "Data were downloaded to:\n",
    "\n",
    "`data/user_timeline_tweets.json`"
   ]
  },
  {
   "cell_type": "code",
   "execution_count": 1,
   "metadata": {
    "collapsed": false
   },
   "outputs": [],
   "source": [
    "# load and concatenate tweet timeline-documents\n",
    "import json\n",
    "\n",
    "train = False\n",
    "\n",
    "user_timelines = dict()\n",
    "with open('../data/user_timeline_tweets.json') as f_in:\n",
    "    for l in f_in:\n",
    "        try:\n",
    "            twt = json.loads(l)\n",
    "        except:\n",
    "            continue\n",
    "        user_id_str = twt['user']['id_str']\n",
    "        if user_id_str in user_timelines:\n",
    "            user_timelines[user_id_str] = user_timelines[user_id_str] + ' ' + twt['text']\n",
    "        else:\n",
    "            user_timelines[user_id_str] = twt['text']"
   ]
  },
  {
   "cell_type": "markdown",
   "metadata": {},
   "source": [
    "# clean/preprocess text"
   ]
  },
  {
   "cell_type": "code",
   "execution_count": 2,
   "metadata": {
    "collapsed": false
   },
   "outputs": [],
   "source": [
    "from gensim.parsing.preprocessing import STOPWORDS\n",
    "import re\n",
    "\n",
    "\n",
    "STOPWORDS_ = ['rt', '', 'httpst', 'amp', 'https\\'']\n",
    "\n",
    "def clean_text(text):\n",
    "    clean = re.sub(r'http.*$', '', text)\n",
    "    clean = re.sub(r'[^a-zA-Z\\s]', '', clean)\n",
    "\n",
    "    clean = clean.lower()\n",
    "    word_list = clean.split()\n",
    "    word_list = [w for w in word_list if (w not in STOPWORDS_ and w not in STOPWORDS)]\n",
    "\n",
    "    return word_list\n",
    "\n",
    "user_clean_timelines = dict()\n",
    "for user_id_str in user_timelines.keys():\n",
    "    user_clean_timelines[user_id_str] = clean_text(user_timelines[user_id_str])"
   ]
  },
  {
   "cell_type": "markdown",
   "metadata": {},
   "source": [
    "# LDA topic modeling on timeline documents"
   ]
  },
  {
   "cell_type": "code",
   "execution_count": 3,
   "metadata": {
    "collapsed": false
   },
   "outputs": [
    {
     "name": "stdout",
     "output_type": "stream",
     "text": [
      "number of user-timelines: 500\n"
     ]
    }
   ],
   "source": [
    "from gensim.models.ldamodel import LdaModel\n",
    "from gensim.models import TfidfModel\n",
    "from gensim import corpora\n",
    "\n",
    "\n",
    "user_timelines_keys = []\n",
    "texts = []\n",
    "for k, v in user_clean_timelines.items():\n",
    "    user_timelines_keys.append(k)\n",
    "    texts.append(v)\n",
    "\n",
    "dictionary = corpora.Dictionary(texts)\n",
    "dictionary.filter_extremes(no_below=10, no_above=0.3, keep_n=100000)\n",
    "corpus = [dictionary.doc2bow(text) for text in texts]\n",
    "tfidf = TfidfModel(corpus)\n",
    "corpus = tfidf[corpus]\n",
    "corpus = corpus[0:500]\n",
    "print('number of user-timelines:', len(corpus))\n",
    "\n",
    "if train:\n",
    "    model = LdaModel(corpus, id2word=dictionary, num_topics=10, iterations=50, passes=10)\n",
    "    model.save('../models/lda_user_timelines.model')\n",
    "\n",
    "else:\n",
    "    model = LdaModel.load('../models/lda_user_timelines.model')"
   ]
  },
  {
   "cell_type": "code",
   "execution_count": 4,
   "metadata": {
    "collapsed": false
   },
   "outputs": [
    {
     "data": {
      "text/plain": [
       "<gensim.interfaces.TransformedCorpus at 0x7f253e383828>"
      ]
     },
     "execution_count": 4,
     "metadata": {},
     "output_type": "execute_result"
    }
   ],
   "source": [
    "corpus"
   ]
  },
  {
   "cell_type": "code",
   "execution_count": 5,
   "metadata": {
    "collapsed": false
   },
   "outputs": [
    {
     "data": {
      "text/plain": [
       "[(0,\n",
       "  '0.001*lyme + 0.001*hiring + 0.001*michaelsos + 0.000*nhl + 0.000*iheartawards + 0.000*adventure + 0.000*tim + 0.000*sos + 0.000*bestfanarmy + 0.000*ajax'),\n",
       " (1,\n",
       "  '0.001*aday + 0.001*asmsg + 0.000*ik + 0.000*roundteam + 0.000*kwa + 0.000*jobsearch + 0.000*prolife + 0.000*breakingbad + 0.000*ntv + 0.000*marchmadness'),\n",
       " (2,\n",
       "  '0.001*anc + 0.000*zuma + 0.000*ucsf + 0.000*nkandla + 0.000*ems + 0.000*feesmustfall + 0.000*malware + 0.000*rousseff + 0.000*fantasy + 0.000*worldaidsday'),\n",
       " (3,\n",
       "  '0.000*abortion + 0.000*stubborn + 0.000*mgwv + 0.000*contracted + 0.000*raf + 0.000*samuel + 0.000*disclosure + 0.000*php + 0.000*traveler + 0.000*participation'),\n",
       " (4,\n",
       "  '0.001*newsbreakslive + 0.001*drudgereport + 0.001*fuck + 0.001*prep + 0.001*realdonaldtrump + 0.000*lmao + 0.000*eau + 0.000*eu + 0.000*syria + 0.000*nigga'),\n",
       " (5,\n",
       "  '0.001*gtav + 0.001*cannabis + 0.000*archives + 0.000*gta + 0.000*br + 0.000*physics + 0.000*fortitude + 0.000*franais + 0.000*charliesheen + 0.000*getfit'),\n",
       " (6,\n",
       "  '0.002*gurmeetramrahim + 0.001*sa + 0.001*ng + 0.001*na + 0.001*ang + 0.001*ko + 0.001*ka + 0.001*ako + 0.001*hahaha + 0.001*ji'),\n",
       " (7,\n",
       "  '0.002*que + 0.001*por + 0.001*para + 0.001*del + 0.001*es + 0.001*di + 0.001*una + 0.001*los + 0.000*yg + 0.000*las'),\n",
       " (8,\n",
       "  '0.001*kca + 0.001*monetary + 0.001*responsibilities + 0.000*pussy + 0.000*healthcare + 0.000*inspiringthinkn + 0.000*dg + 0.000*msu + 0.000*businessinsider + 0.000*menswear'),\n",
       " (9,\n",
       "  '0.001*sexwork + 0.001*winnipeg + 0.001*pocus + 0.000*mtvstars + 0.000*nyhaad + 0.000*foamed + 0.000*flipboard + 0.000*spongebob + 0.000*primarycare + 0.000*poet')]"
      ]
     },
     "execution_count": 5,
     "metadata": {},
     "output_type": "execute_result"
    }
   ],
   "source": [
    "# idenitify topics of interest\n",
    "model.print_topics(20)"
   ]
  },
  {
   "cell_type": "code",
   "execution_count": 6,
   "metadata": {
    "collapsed": false
   },
   "outputs": [],
   "source": [
    "# show users vs. features (topics)\n",
    "features = dict()\n",
    "\n",
    "for i, doc in enumerate(corpus):\n",
    "    features[user_timelines_keys[i]] = model.get_document_topics(doc, minimum_probability=None)\n"
   ]
  },
  {
   "cell_type": "code",
   "execution_count": 7,
   "metadata": {
    "collapsed": false
   },
   "outputs": [],
   "source": [
    "# do time-plot of features for a specific user (topics) vs. time\n",
    "import pandas as pd\n",
    "import numpy as np\n",
    "\n",
    "columns = ['topic0', 'topic1', 'topic2', 'topic3', 'topic4',\n",
    "           'topic5', 'topic6', 'topic7', 'topic8', 'topic9']\n",
    "index = user_timelines_keys\n",
    "df = pd.DataFrame(data=np.zeros((len(index), len(columns))), columns=columns, index=index)\n",
    "\n",
    "for doc_ind, user_doc in enumerate(features.values()):\n",
    "    for topic in user_doc:\n",
    "        df.iloc[doc_ind, topic[0]] = topic[1]"
   ]
  },
  {
   "cell_type": "code",
   "execution_count": 8,
   "metadata": {
    "collapsed": false
   },
   "outputs": [
    {
     "data": {
      "text/html": [
       "<div>\n",
       "<table border=\"1\" class=\"dataframe\">\n",
       "  <thead>\n",
       "    <tr style=\"text-align: right;\">\n",
       "      <th></th>\n",
       "      <th>topic0</th>\n",
       "      <th>topic1</th>\n",
       "      <th>topic2</th>\n",
       "      <th>topic3</th>\n",
       "      <th>topic4</th>\n",
       "      <th>topic5</th>\n",
       "      <th>topic6</th>\n",
       "      <th>topic7</th>\n",
       "      <th>topic8</th>\n",
       "      <th>topic9</th>\n",
       "    </tr>\n",
       "  </thead>\n",
       "  <tbody>\n",
       "    <tr>\n",
       "      <th>1674188378</th>\n",
       "      <td>0.013527</td>\n",
       "      <td>0.013530</td>\n",
       "      <td>0.328451</td>\n",
       "      <td>0.013525</td>\n",
       "      <td>0.563215</td>\n",
       "      <td>0.013525</td>\n",
       "      <td>0.013647</td>\n",
       "      <td>0.013525</td>\n",
       "      <td>0.013525</td>\n",
       "      <td>0.013529</td>\n",
       "    </tr>\n",
       "    <tr>\n",
       "      <th>1670747473</th>\n",
       "      <td>0.013361</td>\n",
       "      <td>0.013361</td>\n",
       "      <td>0.013361</td>\n",
       "      <td>0.013361</td>\n",
       "      <td>0.414924</td>\n",
       "      <td>0.013361</td>\n",
       "      <td>0.013370</td>\n",
       "      <td>0.013372</td>\n",
       "      <td>0.013361</td>\n",
       "      <td>0.478168</td>\n",
       "    </tr>\n",
       "    <tr>\n",
       "      <th>4503233254</th>\n",
       "      <td>0.019280</td>\n",
       "      <td>0.019280</td>\n",
       "      <td>0.019280</td>\n",
       "      <td>0.019280</td>\n",
       "      <td>0.826479</td>\n",
       "      <td>0.019280</td>\n",
       "      <td>0.019282</td>\n",
       "      <td>0.019280</td>\n",
       "      <td>0.019280</td>\n",
       "      <td>0.019280</td>\n",
       "    </tr>\n",
       "    <tr>\n",
       "      <th>4396633306</th>\n",
       "      <td>0.043075</td>\n",
       "      <td>0.043075</td>\n",
       "      <td>0.043075</td>\n",
       "      <td>0.043075</td>\n",
       "      <td>0.043081</td>\n",
       "      <td>0.043075</td>\n",
       "      <td>0.612319</td>\n",
       "      <td>0.043075</td>\n",
       "      <td>0.043075</td>\n",
       "      <td>0.043075</td>\n",
       "    </tr>\n",
       "    <tr>\n",
       "      <th>2871169902</th>\n",
       "      <td>0.023094</td>\n",
       "      <td>0.023097</td>\n",
       "      <td>0.023094</td>\n",
       "      <td>0.023094</td>\n",
       "      <td>0.112453</td>\n",
       "      <td>0.023094</td>\n",
       "      <td>0.702777</td>\n",
       "      <td>0.023106</td>\n",
       "      <td>0.023094</td>\n",
       "      <td>0.023095</td>\n",
       "    </tr>\n",
       "  </tbody>\n",
       "</table>\n",
       "</div>"
      ],
      "text/plain": [
       "              topic0    topic1    topic2    topic3    topic4    topic5  \\\n",
       "1674188378  0.013527  0.013530  0.328451  0.013525  0.563215  0.013525   \n",
       "1670747473  0.013361  0.013361  0.013361  0.013361  0.414924  0.013361   \n",
       "4503233254  0.019280  0.019280  0.019280  0.019280  0.826479  0.019280   \n",
       "4396633306  0.043075  0.043075  0.043075  0.043075  0.043081  0.043075   \n",
       "2871169902  0.023094  0.023097  0.023094  0.023094  0.112453  0.023094   \n",
       "\n",
       "              topic6    topic7    topic8    topic9  \n",
       "1674188378  0.013647  0.013525  0.013525  0.013529  \n",
       "1670747473  0.013370  0.013372  0.013361  0.478168  \n",
       "4503233254  0.019282  0.019280  0.019280  0.019280  \n",
       "4396633306  0.612319  0.043075  0.043075  0.043075  \n",
       "2871169902  0.702777  0.023106  0.023094  0.023095  "
      ]
     },
     "execution_count": 8,
     "metadata": {},
     "output_type": "execute_result"
    }
   ],
   "source": [
    "df.head()"
   ]
  },
  {
   "cell_type": "code",
   "execution_count": 9,
   "metadata": {
    "collapsed": false
   },
   "outputs": [
    {
     "data": {
      "text/plain": [
       "<seaborn.matrix.ClusterGrid at 0x7f2515c51a90>"
      ]
     },
     "execution_count": 9,
     "metadata": {},
     "output_type": "execute_result"
    },
    {
     "data": {
      "image/png": "[encoded data removed]",
      "text/plain": [
       "<matplotlib.figure.Figure at 0x7f2559af8748>"
      ]
     },
     "metadata": {},
     "output_type": "display_data"
    }
   ],
   "source": [
    "import seaborn as sns\n",
    "%matplotlib inline\n",
    "\n",
    "sns.clustermap(df)"
   ]
  },
  {
   "cell_type": "code",
   "execution_count": null,
   "metadata": {
    "collapsed": true
   },
   "outputs": [],
   "source": []
  },
  {
   "cell_type": "code",
   "execution_count": null,
   "metadata": {
    "collapsed": true
   },
   "outputs": [],
   "source": []
  }
 ],
 "metadata": {
  "kernelspec": {
   "display_name": "Python 3",
   "language": "python",
   "name": "python3"
  },
  "language_info": {
   "codemirror_mode": {
    "name": "ipython",
    "version": 3
   },
   "file_extension": ".py",
   "mimetype": "text/x-python",
   "name": "python",
   "nbconvert_exporter": "python",
   "pygments_lexer": "ipython3",
   "version": "3.4.3"
  }
 },
 "nbformat": 4,
 "nbformat_minor": 0
}
