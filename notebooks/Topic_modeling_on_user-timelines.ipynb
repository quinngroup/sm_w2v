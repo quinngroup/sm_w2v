{
 "cells": [
  {
   "cell_type": "markdown",
   "metadata": {
    "collapsed": false
   },
   "source": [
    "# Analysis on user timelines\n",
    "To see how these user-timelines were downloaded, see:\n",
    "\n",
    "`sm_w2v.__main__.run_user_timeline_download()`\n",
    "\n",
    "Data were downloaded to:\n",
    "\n",
    "`data/user_timeline_tweets.json`"
   ]
  },
  {
   "cell_type": "code",
   "execution_count": 18,
   "metadata": {
    "collapsed": false
   },
   "outputs": [],
   "source": [
    "# load and concatenate tweet timeline-documents\n",
    "import json\n",
    "\n",
    "train = False\n",
    "\n",
    "user_timelines = dict()\n",
    "with open('../data/user_timeline_tweets.json') as f_in:\n",
    "    for l in f_in:\n",
    "        try:\n",
    "            twt = json.loads(l)\n",
    "        except:\n",
    "            continue\n",
    "        user_id_str = twt['user']['id_str']\n",
    "        if user_id_str in user_timelines:\n",
    "            user_timelines[user_id_str] = user_timelines[user_id_str] + ' ' + twt['text']\n",
    "        else:\n",
    "            user_timelines[user_id_str] = twt['text']"
   ]
  },
  {
   "cell_type": "markdown",
   "metadata": {},
   "source": [
    "# clean/preprocess text"
   ]
  },
  {
   "cell_type": "code",
   "execution_count": 19,
   "metadata": {
    "collapsed": false
   },
   "outputs": [],
   "source": [
    "from gensim.parsing.preprocessing import STOPWORDS\n",
    "import re\n",
    "\n",
    "\n",
    "STOPWORDS_ = ['rt', '', 'httpst', 'amp', 'https\\'']\n",
    "\n",
    "def clean_text(text):\n",
    "    clean = re.sub(r'http.*$', '', text)\n",
    "    clean = re.sub(r'[^a-zA-Z\\s]', '', clean)\n",
    "\n",
    "    clean = clean.lower()\n",
    "    word_list = clean.split()\n",
    "    word_list = [w for w in word_list if (w not in STOPWORDS_ and w not in STOPWORDS)]\n",
    "\n",
    "    return word_list\n",
    "\n",
    "user_clean_timelines = dict()\n",
    "for user_id_str in user_timelines.keys():\n",
    "    user_clean_timelines[user_id_str] = clean_text(user_timelines[user_id_str])"
   ]
  },
  {
   "cell_type": "markdown",
   "metadata": {},
   "source": [
    "# LDA topic modeling on timeline documents"
   ]
  },
  {
   "cell_type": "code",
   "execution_count": 20,
   "metadata": {
    "collapsed": false
   },
   "outputs": [
    {
     "name": "stdout",
     "output_type": "stream",
     "text": [
      "number of user-timelines: 500\n"
     ]
    }
   ],
   "source": [
    "from gensim.models.ldamodel import LdaModel\n",
    "from gensim.models import TfidfModel\n",
    "from gensim import corpora\n",
    "\n",
    "\n",
    "user_timelines_keys = []\n",
    "texts = []\n",
    "for k, v in user_clean_timelines.items():\n",
    "    user_timelines_keys.append(k)\n",
    "    texts.append(v)\n",
    "\n",
    "# filter out users with less than 200 words in the tweets in their timelines\n",
    "long_timelines = [t for t in texts if len(t) > 200]\n",
    "dictionary = corpora.Dictionary(long_timelines)\n",
    "dictionary.filter_extremes(no_below=10, no_above=0.3, keep_n=100000)\n",
    "corpus = [dictionary.doc2bow(text) for text in long_timelines]\n",
    "tfidf = TfidfModel(corpus)\n",
    "corpus = tfidf[corpus]\n",
    "corpus = corpus[0:500]\n",
    "print('number of user-timelines:', len(corpus))\n",
    "\n",
    "if train:\n",
    "    model = LdaModel(corpus, id2word=dictionary, num_topics=10, iterations=50, passes=10)\n",
    "    model.save('../models/lda_user_timelines.model')\n",
    "\n",
    "else:\n",
    "    model = LdaModel.load('../models/lda_user_timelines.model')"
   ]
  },
  {
   "cell_type": "code",
   "execution_count": null,
   "metadata": {
    "collapsed": false
   },
   "outputs": [],
   "source": []
  },
  {
   "cell_type": "code",
   "execution_count": 21,
   "metadata": {
    "collapsed": false
   },
   "outputs": [
    {
     "data": {
      "text/plain": [
       "[(0,\n",
       "  '0.002*que + 0.001*por + 0.001*para + 0.001*milan + 0.001*een + 0.001*albany + 0.001*es + 0.000*het + 0.000*del + 0.000*bir'),\n",
       " (1,\n",
       "  '0.001*yg + 0.001*ini + 0.001*yang + 0.000*aku + 0.000*breakingbad + 0.000*untuk + 0.000*akan + 0.000*mtvstars + 0.000*dari + 0.000*kita'),\n",
       " (2,\n",
       "  '0.001*lmao + 0.001*nigeria + 0.000*syria + 0.000*nigga + 0.000*kca + 0.000*arsenal + 0.000*eau + 0.000*prevention + 0.000*cannabis + 0.000*bitcoin'),\n",
       " (3,\n",
       "  '0.000*ntv + 0.000*inspiringthinkn + 0.000*ktnkenya + 0.000*haber + 0.000*tuscany + 0.000*sunburn + 0.000*lisavanderpump + 0.000*factsguide + 0.000*autocorrects + 0.000*boogie'),\n",
       " (4,\n",
       "  '0.003*gurmeetramrahim + 0.001*ang + 0.001*ng + 0.001*ji + 0.001*ako + 0.001*asmsg + 0.001*foamed + 0.001*messagesofmsg + 0.001*telugu + 0.001*pocus'),\n",
       " (5,\n",
       "  '0.001*remedies + 0.000*tw + 0.000*mx + 0.000*rid + 0.000*momlife + 0.000*disclosure + 0.000*php + 0.000*lefty + 0.000*catholic + 0.000*equals'),\n",
       " (6,\n",
       "  '0.000*flipboard + 0.000*mongolia + 0.000*gettingtozero + 0.000*blackburn + 0.000*occupy + 0.000*blm + 0.000*asl + 0.000*didi + 0.000*philadelphia + 0.000*nafta'),\n",
       " (7,\n",
       "  '0.002*newsbreakslive + 0.002*drudgereport + 0.000*woof + 0.000*und + 0.000*der + 0.000*cbd + 0.000*tvd + 0.000*directioners + 0.000*ich + 0.000*ein'),\n",
       " (8,\n",
       "  '0.001*giveaway + 0.001*xx + 0.001*photography + 0.001*startups + 0.001*anc + 0.001*startup + 0.001*archives + 0.001*zuma + 0.000*nba + 0.000*eu'),\n",
       " (9,\n",
       "  '0.001*realdonaldtrump + 0.001*lgbt + 0.001*hiring + 0.001*uniteblue + 0.001*tedcruz + 0.001*ias + 0.001*cruz + 0.001*businessinsider + 0.001*thebodydotcom + 0.000*tcot')]"
      ]
     },
     "execution_count": 21,
     "metadata": {},
     "output_type": "execute_result"
    }
   ],
   "source": [
    "# idenitify topics of interest\n",
    "model.print_topics(20)"
   ]
  },
  {
   "cell_type": "code",
   "execution_count": 22,
   "metadata": {
    "collapsed": false
   },
   "outputs": [],
   "source": [
    "# show users vs. features (topics)\n",
    "features = dict()\n",
    "\n",
    "for i, doc in enumerate(corpus):\n",
    "    features[user_timelines_keys[i]] = model.get_document_topics(doc, minimum_probability=None)\n"
   ]
  },
  {
   "cell_type": "code",
   "execution_count": 23,
   "metadata": {
    "collapsed": false
   },
   "outputs": [],
   "source": [
    "# do time-plot of features for a specific user (topics) vs. time\n",
    "import pandas as pd\n",
    "import numpy as np\n",
    "\n",
    "columns = ['topic0', 'topic1', 'topic2', 'topic3', 'topic4',\n",
    "           'topic5', 'topic6', 'topic7', 'topic8', 'topic9']\n",
    "index = user_timelines_keys\n",
    "df = pd.DataFrame(data=np.zeros((len(index), len(columns))), columns=columns, index=index)\n",
    "\n",
    "for doc_ind, user_doc in enumerate(features.values()):\n",
    "    for topic in user_doc:\n",
    "        df.iloc[doc_ind, topic[0]] = topic[1]"
   ]
  },
  {
   "cell_type": "code",
   "execution_count": 24,
   "metadata": {
    "collapsed": false
   },
   "outputs": [
    {
     "data": {
      "text/html": [
       "<div>\n",
       "<table border=\"1\" class=\"dataframe\">\n",
       "  <thead>\n",
       "    <tr style=\"text-align: right;\">\n",
       "      <th></th>\n",
       "      <th>topic0</th>\n",
       "      <th>topic1</th>\n",
       "      <th>topic2</th>\n",
       "      <th>topic3</th>\n",
       "      <th>topic4</th>\n",
       "      <th>topic5</th>\n",
       "      <th>topic6</th>\n",
       "      <th>topic7</th>\n",
       "      <th>topic8</th>\n",
       "      <th>topic9</th>\n",
       "    </tr>\n",
       "  </thead>\n",
       "  <tbody>\n",
       "    <tr>\n",
       "      <th>414373026</th>\n",
       "      <td>0.000000</td>\n",
       "      <td>0.000000</td>\n",
       "      <td>0.704495</td>\n",
       "      <td>0.000000</td>\n",
       "      <td>0.000000</td>\n",
       "      <td>0.000000</td>\n",
       "      <td>0.000000</td>\n",
       "      <td>0.000000</td>\n",
       "      <td>0.240132</td>\n",
       "      <td>0.000000</td>\n",
       "    </tr>\n",
       "    <tr>\n",
       "      <th>2217051040</th>\n",
       "      <td>0.011166</td>\n",
       "      <td>0.011161</td>\n",
       "      <td>0.437829</td>\n",
       "      <td>0.011161</td>\n",
       "      <td>0.011164</td>\n",
       "      <td>0.011161</td>\n",
       "      <td>0.011172</td>\n",
       "      <td>0.011161</td>\n",
       "      <td>0.472723</td>\n",
       "      <td>0.011303</td>\n",
       "    </tr>\n",
       "    <tr>\n",
       "      <th>27247044</th>\n",
       "      <td>0.020392</td>\n",
       "      <td>0.020395</td>\n",
       "      <td>0.297891</td>\n",
       "      <td>0.020399</td>\n",
       "      <td>0.020392</td>\n",
       "      <td>0.362776</td>\n",
       "      <td>0.020392</td>\n",
       "      <td>0.020392</td>\n",
       "      <td>0.196580</td>\n",
       "      <td>0.020393</td>\n",
       "    </tr>\n",
       "    <tr>\n",
       "      <th>1017001722</th>\n",
       "      <td>0.000000</td>\n",
       "      <td>0.000000</td>\n",
       "      <td>0.104076</td>\n",
       "      <td>0.000000</td>\n",
       "      <td>0.000000</td>\n",
       "      <td>0.000000</td>\n",
       "      <td>0.000000</td>\n",
       "      <td>0.000000</td>\n",
       "      <td>0.823613</td>\n",
       "      <td>0.000000</td>\n",
       "    </tr>\n",
       "    <tr>\n",
       "      <th>4848682894</th>\n",
       "      <td>0.000000</td>\n",
       "      <td>0.000000</td>\n",
       "      <td>0.649604</td>\n",
       "      <td>0.000000</td>\n",
       "      <td>0.000000</td>\n",
       "      <td>0.000000</td>\n",
       "      <td>0.000000</td>\n",
       "      <td>0.000000</td>\n",
       "      <td>0.184675</td>\n",
       "      <td>0.135123</td>\n",
       "    </tr>\n",
       "  </tbody>\n",
       "</table>\n",
       "</div>"
      ],
      "text/plain": [
       "              topic0    topic1    topic2    topic3    topic4    topic5  \\\n",
       "414373026   0.000000  0.000000  0.704495  0.000000  0.000000  0.000000   \n",
       "2217051040  0.011166  0.011161  0.437829  0.011161  0.011164  0.011161   \n",
       "27247044    0.020392  0.020395  0.297891  0.020399  0.020392  0.362776   \n",
       "1017001722  0.000000  0.000000  0.104076  0.000000  0.000000  0.000000   \n",
       "4848682894  0.000000  0.000000  0.649604  0.000000  0.000000  0.000000   \n",
       "\n",
       "              topic6    topic7    topic8    topic9  \n",
       "414373026   0.000000  0.000000  0.240132  0.000000  \n",
       "2217051040  0.011172  0.011161  0.472723  0.011303  \n",
       "27247044    0.020392  0.020392  0.196580  0.020393  \n",
       "1017001722  0.000000  0.000000  0.823613  0.000000  \n",
       "4848682894  0.000000  0.000000  0.184675  0.135123  "
      ]
     },
     "execution_count": 24,
     "metadata": {},
     "output_type": "execute_result"
    }
   ],
   "source": [
    "df.head()"
   ]
  },
  {
   "cell_type": "code",
   "execution_count": 27,
   "metadata": {
    "collapsed": false
   },
   "outputs": [
    {
     "data": {
      "image/png": "[encoded data removed]",
      "text/plain": [
       "<matplotlib.figure.Figure at 0x7fab2dbfce10>"
      ]
     },
     "metadata": {},
     "output_type": "display_data"
    }
   ],
   "source": [
    "import seaborn as sns\n",
    "%matplotlib inline\n",
    "\n",
    "figure = sns.clustermap(df)\n",
    "figure.savefig('user_timeline_clustermap.pdf', format='pdf')"
   ]
  },
  {
   "cell_type": "code",
   "execution_count": 26,
   "metadata": {
    "collapsed": false
   },
   "outputs": [],
   "source": []
  },
  {
   "cell_type": "code",
   "execution_count": null,
   "metadata": {
    "collapsed": true
   },
   "outputs": [],
   "source": []
  }
 ],
 "metadata": {
  "kernelspec": {
   "display_name": "Python 3",
   "language": "python",
   "name": "python3"
  },
  "language_info": {
   "codemirror_mode": {
    "name": "ipython",
    "version": 3
   },
   "file_extension": ".py",
   "mimetype": "text/x-python",
   "name": "python",
   "nbconvert_exporter": "python",
   "pygments_lexer": "ipython3",
   "version": "3.4.3"
  }
 },
 "nbformat": 4,
 "nbformat_minor": 0
}
