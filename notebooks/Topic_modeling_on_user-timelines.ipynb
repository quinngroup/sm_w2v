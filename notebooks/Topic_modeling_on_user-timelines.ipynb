{
 "cells": [
  {
   "cell_type": "code",
   "execution_count": 4,
   "metadata": {
    "collapsed": false
   },
   "outputs": [
    {
     "name": "stdout",
     "output_type": "stream",
     "text": [
      "[]\n"
     ]
    }
   ],
   "source": [
    "\n",
    "# Identify 1000 users and download timelines\n",
    "import json\n",
    "import time\n",
    "\n",
    "from tweepy import OAuthHandler\n",
    "from tweepy.api import API\n",
    "from tweepy.parsers import JSONParser\n",
    "\n",
    "import sys\n",
    "if not('/high_spd_work/sm_w2v' in sys.path):\n",
    "    sys.path.append('/high_spd_work/sm_w2v')\n",
    "\n",
    "from sm_w2v.tokens import CONSUMER_KEY, CONSUMER_SECRET, TOKEN_KEY, TOKEN_SECRET\n",
    "\n",
    "auth = OAuthHandler(CONSUMER_KEY, CONSUMER_SECRET)\n",
    "auth.set_access_token(TOKEN_KEY, TOKEN_SECRET)\n",
    "api = API(auth, parser=JSONParser())\n",
    "\n",
    "# this is going to download 1 timeline every 16 minutes\n",
    "# about 10 days for 1000 timelines\n",
    "\n",
    "user_str_ids = []\n",
    "with open('../data/top_users_to_PrEP.txt') as f_in:\n",
    "    for line_no, line in enumerate(f_in):\n",
    "        user_str_ids.append(line)\n",
    "        if line_no == 1000:\n",
    "            break\n",
    "\n",
    "users = []\n",
    "pages = list(range(0, 150))\n",
    "with open('../data/user_timeline_tweets.json', 'w') as f_out:\n",
    "    for user_id in user_str_ids:\n",
    "        try:\n",
    "            for page in pages:\n",
    "                for twt in api.user_timeline(user_id, count=20, page=page):\n",
    "                    f_out.write(json.dumps(twt) + '\\n')\n",
    "            users.append(user_id)\n",
    "            time.sleep(60 * 16)\n",
    "        except:\n",
    "            pass\n",
    "\n",
    "print(users)"
   ]
  },
  {
   "cell_type": "code",
   "execution_count": null,
   "metadata": {
    "collapsed": false
   },
   "outputs": [],
   "source": []
  },
  {
   "cell_type": "code",
   "execution_count": 2,
   "metadata": {
    "collapsed": true
   },
   "outputs": [],
   "source": [
    "# LDA topic modeling on user-timelines (3000 tweets)"
   ]
  },
  {
   "cell_type": "code",
   "execution_count": 3,
   "metadata": {
    "collapsed": true
   },
   "outputs": [],
   "source": [
    "# idenitify topics of interest"
   ]
  },
  {
   "cell_type": "code",
   "execution_count": 4,
   "metadata": {
    "collapsed": true
   },
   "outputs": [],
   "source": [
    "# show users vs. features (topics)"
   ]
  },
  {
   "cell_type": "code",
   "execution_count": 5,
   "metadata": {
    "collapsed": true
   },
   "outputs": [],
   "source": [
    "# do time-plot of features for a specific user (topics) vs. time"
   ]
  },
  {
   "cell_type": "code",
   "execution_count": null,
   "metadata": {
    "collapsed": true
   },
   "outputs": [],
   "source": [
    "# do Doc2Vec to cluster user-timelines (documents)"
   ]
  }
 ],
 "metadata": {
  "kernelspec": {
   "display_name": "Python 3",
   "language": "python",
   "name": "python3"
  },
  "language_info": {
   "codemirror_mode": {
    "name": "ipython",
    "version": 3
   },
   "file_extension": ".py",
   "mimetype": "text/x-python",
   "name": "python",
   "nbconvert_exporter": "python",
   "pygments_lexer": "ipython3",
   "version": "3.4.3"
  }
 },
 "nbformat": 4,
 "nbformat_minor": 0
}
