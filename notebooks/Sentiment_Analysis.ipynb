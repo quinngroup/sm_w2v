{
 "cells": [
  {
   "cell_type": "markdown",
   "metadata": {},
   "source": [
    "# Load  clean HIV tweets and sentiment tweets\n",
    "notebook code adapted from https://github.com/piskvorky/gensim/blob/develop/docs/notebooks/doc2vec-IMDB.ipynb\n",
    "sentiment training data from http://thinknook.com/wp-content/uploads/2012/09/Sentiment-Analysis-Dataset.zip"
   ]
  },
  {
   "cell_type": "code",
   "execution_count": null,
   "metadata": {
    "collapsed": false
   },
   "outputs": [],
   "source": [
    "import re\n",
    "import json\n",
    "from collections import namedtuple\n",
    "\n",
    "import gensim\n",
    "\n",
    "def clean_text(text):\n",
    "    clean = re.sub(r'http.*$', '', text)\n",
    "    clean = re.sub(r'[^a-zA-Z,\\.?\\'#0-9\\s\\-_]', '', clean)\n",
    "    \n",
    "    clean = clean.replace('...', '.')\n",
    "    clean = clean.replace(',', ' , ')\n",
    "    clean = clean.replace('#', ' # ')\n",
    "    clean = clean.replace('?', ' ? ')\n",
    "    clean = clean.replace('!', ' ! ')\n",
    "    \n",
    "    clean = clean.lower()\n",
    "    word_list = clean.split()\n",
    "    \n",
    "    return word_list\n",
    "\n",
    "SentimentDocument = namedtuple('SentimentDocument', 'words tags split sentiment')\n",
    "\n",
    "\n",
    "# start with sentiment data\n",
    "sentiment_docs = []\n",
    "with open('../data/sentiment_analysis_dataset.csv') as sentiment_data:\n",
    "    for line_no, line in enumerate(sentiment_data):\n",
    "        tokens = gensim.utils.to_unicode(line).split(',')\n",
    "        words = clean_text(tokens[3])\n",
    "        tags = ['sen_' + str(line_no)] # `tags = [tokens[0]]` would also work at extra memory cost\n",
    "        split = ['train','train','train','valid'][line_no % 4]  # 3/4 training, 1/4 validation\n",
    "        sentiment = tokens[1]\n",
    "        sentiment_docs.append(SentimentDocument(words, tags, split, sentiment))\n",
    "        \n",
    "# now add our HIV/PrEP related tweets\n",
    "hiv_docs = []\n",
    "with open('../data/c_twitter.json') as hiv_prep_data:\n",
    "    for line_no, line in enumerate(hiv_prep_data):\n",
    "        twt = json.loads(line)\n",
    "        words = twt['text'].split()\n",
    "        tags = [twt['user_id_str']]\n",
    "        split = 'extra'\n",
    "        sentiment = None\n",
    "        hiv_docs.append(SentimentDocument(words, tags, split, sentiment))\n",
    "\n",
    "train_docs = [doc for doc in sentiment_docs if doc.split == 'train']\n",
    "valid_docs = [doc for doc in sentiment_docs if doc.split == 'valid']\n",
    "alldocs = sentiment_docs + hiv_docs\n"
   ]
  },
  {
   "cell_type": "markdown",
   "metadata": {},
   "source": [
    "# Build model"
   ]
  },
  {
   "cell_type": "code",
   "execution_count": null,
   "metadata": {
    "collapsed": false
   },
   "outputs": [],
   "source": [
    "from gensim.models import Doc2Vec\n",
    "import gensim.models.doc2vec\n",
    "from collections import OrderedDict\n",
    "import multiprocessing\n",
    "\n",
    "cores = multiprocessing.cpu_count()\n",
    "assert gensim.models.doc2vec.FAST_VERSION > -1, \"this will be painfully slow otherwise\"\n",
    "\n",
    "model= Doc2Vec(dm=1, dm_mean=1, size=100, window=3, negative=5, hs=0, min_count=2, workers=cores,\n",
    "           max_vocab_size=10000, seed=1)\n",
    "\n",
    "model.build_vocab(alldocs)\n",
    "print(model)"
   ]
  },
  {
   "cell_type": "code",
   "execution_count": null,
   "metadata": {
    "collapsed": true
   },
   "outputs": [],
   "source": [
    "from sklearn.linear_model import LogisticRegression\n",
    "import numpy as np\n",
    "\n",
    "def fit_model_eval_accuracy(X, y, eval_X, eval_y):\n",
    "    model = LogisticRegression()\n",
    "    model.fit(X, y)\n",
    "    \n",
    "    mean_accuracy = model.score(eval_X, eval_y)\n",
    "    \n",
    "    return model, mean_accuracy\n",
    "\n",
    "def predict_from_model(model, X):\n",
    "    pred_y = model.predict(X)\n",
    "    pred_log_prob = model.predict_log_proba(X)\n",
    "    \n",
    "    return (pred_y, pred_log_prob)"
   ]
  },
  {
   "cell_type": "markdown",
   "metadata": {},
   "source": [
    "# Train\n",
    "\n",
    "(should add per-epoch shuffling for faster training)"
   ]
  },
  {
   "cell_type": "code",
   "execution_count": null,
   "metadata": {
    "collapsed": false
   },
   "outputs": [],
   "source": []
  },
  {
   "cell_type": "code",
   "execution_count": null,
   "metadata": {
    "collapsed": true
   },
   "outputs": [],
   "source": [
    "from random import shuffle\n",
    "import datetime\n",
    "\n",
    "for epoch in range(passes):\n",
    "    \n",
    "    # train doc vectors\n",
    "    model.train(alldocs)\n",
    "\n",
    "    # train lr model\n",
    "    X = np.zeros((len(train_docs), 100))\n",
    "    y = np.array(len(train_docs))\n",
    "    for i, doc in enumerate(train_docs):\n",
    "        doc_id_str = doc[1][0]\n",
    "        X[i,] = model[doc_id_str]\n",
    "        y[i] = doc[3]\n",
    "    \n",
    "    # validate lr model\n",
    "    X_eval = np.zeros((len(valid_docs), 100))\n",
    "    y_eval = np.array(len(valid_docs))\n",
    "    for i, doc in enumerate(valid_docs):\n",
    "        doc_id_str = doc[1][0]\n",
    "        X_eval[i,] = model[doc_id_str]\n",
    "        y_eval[i] = doc[3]\n",
    "    \n",
    "    lr_model, mean_accuracy = fit_model_eval_accuracy(X, y, eval_X, eval_y)\n",
    "    print('epoch:', epoch, 'mean accuracy:', mean_accuracy)"
   ]
  },
  {
   "cell_type": "code",
   "execution_count": null,
   "metadata": {
    "collapsed": true
   },
   "outputs": [],
   "source": [
    "# do doc2vec training on sentiment tweets:\n",
    "# tweet -> doc-vec -> classification"
   ]
  },
  {
   "cell_type": "code",
   "execution_count": null,
   "metadata": {
    "collapsed": true
   },
   "outputs": [],
   "source": [
    "# example negitive PrEP tweets\n",
    "# example negitive HIV tweets"
   ]
  },
  {
   "cell_type": "code",
   "execution_count": null,
   "metadata": {
    "collapsed": true
   },
   "outputs": [],
   "source": [
    "# topic modeling on PrEP tweets\n",
    "# topic modeling on HIV tweets"
   ]
  }
 ],
 "metadata": {
  "kernelspec": {
   "display_name": "Python 3",
   "language": "python",
   "name": "python3"
  },
  "language_info": {
   "codemirror_mode": {
    "name": "ipython",
    "version": 3
   },
   "file_extension": ".py",
   "mimetype": "text/x-python",
   "name": "python",
   "nbconvert_exporter": "python",
   "pygments_lexer": "ipython3",
   "version": "3.4.3"
  }
 },
 "nbformat": 4,
 "nbformat_minor": 0
}
