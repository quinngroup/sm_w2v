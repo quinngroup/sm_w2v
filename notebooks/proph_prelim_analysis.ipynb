{
 "cells": [
  {
   "cell_type": "markdown",
   "metadata": {
    "collapsed": true
   },
   "source": [
    "# This notebook does an analysis on the term 'prophylaxis' in the twitter data"
   ]
  },
  {
   "cell_type": "code",
   "execution_count": null,
   "metadata": {
    "collapsed": false
   },
   "outputs": [
    {
     "name": "stdout",
     "output_type": "stream",
     "text": [
      "Populating the interactive namespace from numpy and matplotlib\n"
     ]
    },
    {
     "name": "stderr",
     "output_type": "stream",
     "text": [
      "/high_spd_work/download_twitter_disease_data/venv/lib/python3.4/site-packages/matplotlib/__init__.py:872: UserWarning: axes.color_cycle is deprecated and replaced with axes.prop_cycle; please use the latter.\n",
      "  warnings.warn(self.msg_depr % (key, alt_key))\n"
     ]
    }
   ],
   "source": [
    "import os\n",
    "os.chdir('/high_spd_work/download_twitter_disease_data/')\n",
    "from prelim_analysis import (\n",
    "    MakeIter,\n",
    "    twt_generator,\n",
    "    twts,\n",
    "    len_iterable,\n",
    "    preprocess_twt,\n",
    "    eng_stopwords,\n",
    "    cleaned_sentences,\n",
    "    make_model,\n",
    "    flatten_list,\n",
    "    get_word_freq,\n",
    "    plot_map,\n",
    "    get_weeknum_from_filename,\n",
    "    count_related_words_normalized,\n",
    "    make_heatmap_w2vrelated,\n",
    "    scikit_pca,\n",
    "    make_histogram)\n",
    "\n",
    "%matplotlib inline\n",
    "%pylab inline"
   ]
  },
  {
   "cell_type": "code",
   "execution_count": null,
   "metadata": {
    "collapsed": false
   },
   "outputs": [],
   "source": [
    "# we are interested in 'prophylaxis'\n",
    "model = make_model(cleaned_sentences,\n",
    "                   \"word\",\n",
    "                  size=100, # dimension of word vecs\n",
    "                  window=5, # context size\n",
    "                  min_count=100, #words repeated less than this are discarded\n",
    "                  workers=6 # number of threads\n",
    "                  )\n",
    "rel_wds = model.most_similar(positive=['prophylaxis'], topn=10)\n",
    "\n",
    "print(\"related words to 'prophylaxis':\")\n",
    "print(rel_wds)"
   ]
  },
  {
   "cell_type": "code",
   "execution_count": null,
   "metadata": {
    "collapsed": true
   },
   "outputs": [],
   "source": [
    "# do word frequency by week\n",
    "count_word_week = count_related_words_normalized(rel_wds, \"twt_data/\")\n",
    "display(count_word_week)\n",
    "count_word_week.plot()"
   ]
  },
  {
   "cell_type": "code",
   "execution_count": null,
   "metadata": {
    "collapsed": true
   },
   "outputs": [],
   "source": [
    "# make heatmap\n",
    "make_heatmap_w2vrelated(model, related_word='hiv', rel_wds=rel_wds)"
   ]
  },
  {
   "cell_type": "code",
   "execution_count": null,
   "metadata": {
    "collapsed": true
   },
   "outputs": [],
   "source": [
    "# what is the similarity (as defined by word2vec) between 'hiv' and 'prophylaxis' ?\n",
    "print(\"similarity between 'hiv' and 'prophylaxis': \")\n",
    "print(model.similarity(word1, word2))\n",
    "\n",
    "# also what is the histogram/distribution of similarities for all word-pairs?\n",
    "# answer = see heading 'Make histogram of word-vec similarity pairs' in 'prelim_analysis.ipynb'"
   ]
  },
  {
   "cell_type": "markdown",
   "metadata": {
    "collapsed": true
   },
   "source": [
    "# Ok, now lets look at phrases"
   ]
  },
  {
   "cell_type": "code",
   "execution_count": null,
   "metadata": {
    "collapsed": true
   },
   "outputs": [],
   "source": [
    "model = make_model(cleaned_sentences,\n",
    "                   word_type = \"phrase\"\n",
    "                  size=100, # dimension of word vecs\n",
    "                  window=5, # context size\n",
    "                  min_count=100, #words repeated less than this are discarded\n",
    "                  workers=6 # number of threads\n",
    "                  )"
   ]
  }
 ],
 "metadata": {
  "kernelspec": {
   "display_name": "Python 3",
   "language": "python",
   "name": "python3"
  },
  "language_info": {
   "codemirror_mode": {
    "name": "ipython",
    "version": 3
   },
   "file_extension": ".py",
   "mimetype": "text/x-python",
   "name": "python",
   "nbconvert_exporter": "python",
   "pygments_lexer": "ipython3",
   "version": "3.4.3"
  }
 },
 "nbformat": 4,
 "nbformat_minor": 0
}
