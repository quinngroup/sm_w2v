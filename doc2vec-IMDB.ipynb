{
 "cells": [
  {
   "cell_type": "markdown",
   "metadata": {},
   "source": [
    "# Doc2Vec example\n",
    "\n",
    "adapted from https://github.com/piskvorky/gensim/blob/develop/docs/notebooks/doc2vec-IMDB.ipynb"
   ]
  },
  {
   "cell_type": "code",
   "execution_count": 1,
   "metadata": {
    "collapsed": false
   },
   "outputs": [],
   "source": [
    "import json\n",
    "from collections import namedtuple\n",
    "\n",
    "import gensim\n",
    "\n",
    "Document = namedtuple('Document', 'words tags')\n",
    "\n",
    "alldocs = []  # will hold all docs in original order\n",
    "with open('../data/c_twitter.json') as f_in:\n",
    "    for line_no, line in enumerate(f_in):\n",
    "        c_twt = json.loads(line)\n",
    "        # c_twt: {'weeknum': str, 'c_text': str, 'tags': [str]}\n",
    "        words = c_twt['c_text'].split()\n",
    "        tags = [line_no] + c_twt['tags']\n",
    "        alldocs.append(Document(words, tags))\n"
   ]
  },
  {
   "cell_type": "code",
   "execution_count": 2,
   "metadata": {
    "collapsed": false
   },
   "outputs": [
    {
     "name": "stdout",
     "output_type": "stream",
     "text": [
      "Doc2Vec(dm/c,d100,n5,w5,mc2,t6)\n",
      "Doc2Vec(dbow,d100,n5,mc2,t6)\n",
      "Doc2Vec(dm/m,d100,n5,w10,mc2,t6)\n"
     ]
    }
   ],
   "source": [
    "import multiprocessing\n",
    "\n",
    "from gensim.models import Doc2Vec\n",
    "import gensim.models.doc2vec\n",
    "\n",
    "\n",
    "cores = multiprocessing.cpu_count()\n",
    "assert gensim.models.doc2vec.FAST_VERSION > -1, \"this will be painfully slow otherwise\"\n",
    "\n",
    "simple_models = [\n",
    "    # PV-DM w/concatenation - window=5 (both sides) approximates paper's 10-word total window size\n",
    "    Doc2Vec(dm=1, dm_concat=1, size=100, window=5, negative=5, hs=0, min_count=2, workers=cores,\n",
    "           max_vocab_size=10000),\n",
    "    # PV-DBOW \n",
    "    Doc2Vec(dm=0, size=100, negative=5, hs=0, min_count=2, workers=cores,\n",
    "           max_vocab_size=10000),\n",
    "    # PV-DM w/average\n",
    "    Doc2Vec(dm=1, dm_mean=1, size=100, window=10, negative=5, hs=0, min_count=2, workers=cores,\n",
    "           max_vocab_size=10000),\n",
    "]\n",
    "\n",
    "# currently running out of memory\n",
    "simple_models[0].build_vocab(alldocs)\n",
    "print(simple_models[0])\n",
    "for model in simple_models[1:]:\n",
    "    model.reset_from(simple_models[0])\n",
    "    print(model)\n"
   ]
  },
  {
   "cell_type": "code",
   "execution_count": 3,
   "metadata": {
    "collapsed": false
   },
   "outputs": [
    {
     "name": "stdout",
     "output_type": "stream",
     "text": [
      "0 [('Girlfriend', 0.38768646121025085), ('Identify', 0.38360071182250977), ('amfAR', 0.33817023038864136), ('govt', 0.32246994972229004), ('literally', 0.29881635308265686), ('Way', 0.2954923212528229), ('Im', 0.29524320363998413), (\"'Whine'\", 0.29112979769706726), ('clinics', 0.2860417068004608), ('half', 0.2801520824432373)]\n",
      "0 [('Girlfriend', 0.38768646121025085), ('Identify', 0.38360071182250977), ('amfAR', 0.33817023038864136), ('govt', 0.32246994972229004), ('literally', 0.29881635308265686), ('Way', 0.2954923212528229), ('Im', 0.29524320363998413), (\"'Whine'\", 0.29112979769706726), ('clinics', 0.2860417068004608), ('half', 0.2801520824432373)]\n",
      "0 [('rabies', 0.7555388808250427), ('syphilis', 0.7541437745094299), ('HIV', 0.747816264629364), ('gonorrhea', 0.7270178198814392), ('pneumonia', 0.7034633159637451), ('chlamydia', 0.6978621482849121), ('meningitis', 0.6813951134681702), ('coldflu', 0.6686193346977234), ('Hiv', 0.661539614200592), ('flu-', 0.658343493938446)]\n",
      "1 [('Girlfriend', 0.38768646121025085), ('Identify', 0.38360071182250977), ('amfAR', 0.33817023038864136), ('govt', 0.32246994972229004), ('literally', 0.29881635308265686), ('Way', 0.2954923212528229), ('Im', 0.29524320363998413), (\"'Whine'\", 0.29112979769706726), ('clinics', 0.2860417068004608), ('half', 0.2801520824432373)]\n",
      "1 [('Girlfriend', 0.38768646121025085), ('Identify', 0.38360071182250977), ('amfAR', 0.33817023038864136), ('govt', 0.32246994972229004), ('literally', 0.29881635308265686), ('Way', 0.2954923212528229), ('Im', 0.29524320363998413), (\"'Whine'\", 0.29112979769706726), ('clinics', 0.2860417068004608), ('half', 0.2801520824432373)]\n",
      "1 [('HIV', 0.7916907072067261), ('syphilis', 0.7364000082015991), ('rabies', 0.7034770250320435), ('gonorrhea', 0.671231210231781), ('pneumonia', 0.6515743136405945), ('chlamydia', 0.6496866345405579), ('Hiv', 0.6486642956733704), ('mumps', 0.6278682947158813), ('meningitis', 0.6085340976715088), ('HIVAIDS', 0.6028742790222168)]\n",
      "2 [('Girlfriend', 0.38768646121025085), ('Identify', 0.38360071182250977), ('amfAR', 0.33817023038864136), ('govt', 0.32246994972229004), ('literally', 0.29881635308265686), ('Way', 0.2954923212528229), ('Im', 0.29524320363998413), (\"'Whine'\", 0.29112979769706726), ('clinics', 0.2860417068004608), ('half', 0.2801520824432373)]\n",
      "2 [('Girlfriend', 0.38768646121025085), ('Identify', 0.38360071182250977), ('amfAR', 0.33817023038864136), ('govt', 0.32246994972229004), ('literally', 0.29881635308265686), ('Way', 0.2954923212528229), ('Im', 0.29524320363998413), (\"'Whine'\", 0.29112979769706726), ('clinics', 0.2860417068004608), ('half', 0.2801520824432373)]\n",
      "2 [('HIV', 0.8208590745925903), ('syphilis', 0.6911566257476807), ('rabies', 0.6848310828208923), ('chlamydia', 0.6681360602378845), ('HIVAIDS', 0.6506815552711487), ('Hiv', 0.6235336065292358), ('pneumonia', 0.6200144290924072), ('dengue', 0.6036158800125122), ('Chlamydia', 0.5872443914413452), ('mumps', 0.5850679874420166)]\n"
     ]
    }
   ],
   "source": [
    "passes = 3\n",
    "\n",
    "for epoch in range(passes):\n",
    "    for model in simple_models:\n",
    "        model.train(alldocs)\n",
    "        print(epoch, model.most_similar('hiv', topn=10))"
   ]
  },
  {
   "cell_type": "code",
   "execution_count": 4,
   "metadata": {
    "collapsed": true
   },
   "outputs": [],
   "source": [
    "# do visualization/clustering of users\n",
    "# do visualization/clustering of hashtags\n",
    "# do visualization/clustering of documents"
   ]
  }
 ],
 "metadata": {
  "kernelspec": {
   "display_name": "Python 3",
   "language": "python",
   "name": "python3"
  },
  "language_info": {
   "codemirror_mode": {
    "name": "ipython",
    "version": 3
   },
   "file_extension": ".py",
   "mimetype": "text/x-python",
   "name": "python",
   "nbconvert_exporter": "python",
   "pygments_lexer": "ipython3",
   "version": "3.4.3"
  }
 },
 "nbformat": 4,
 "nbformat_minor": 0
}